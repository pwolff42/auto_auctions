{
 "cells": [
  {
   "cell_type": "markdown",
   "source": [
    "# Cars&Bids dataset Data Cleaning and EDA"
   ],
   "metadata": {
    "collapsed": false
   }
  },
  {
   "cell_type": "code",
   "execution_count": 369,
   "metadata": {
    "collapsed": true
   },
   "outputs": [],
   "source": [
    "# loading requisite packages\n",
    "import pandas as pd\n",
    "import numpy as np\n",
    "import re\n",
    "import matplotlib.pyplot as plt\n",
    "%matplotlib inline\n",
    "import seaborn as sns\n",
    "from sklearn.impute import KNNImputer"
   ]
  },
  {
   "cell_type": "code",
   "execution_count": 205,
   "outputs": [],
   "source": [
    "# pointing to the copy of the data\n",
    "\n",
    "file_path = 'your filepath to the data here'\n",
    "\n",
    "cars_df = pd.read_csv(file_path)"
   ],
   "metadata": {
    "collapsed": false
   }
  },
  {
   "cell_type": "markdown",
   "source": [
    "## Initial Data Profiling"
   ],
   "metadata": {
    "collapsed": false
   }
  },
  {
   "cell_type": "code",
   "execution_count": 206,
   "outputs": [
    {
     "data": {
      "text/plain": "Index(['Make', 'Model', 'Mileage', 'VIN', 'Title Status', 'Location', 'Seller',\n       'Engine', 'Drivetrain', 'Transmission', 'Body Style', 'Exterior Color',\n       'Interior Color', 'Seller Type', 'URL', 'id', 'year', 'price',\n       'auction_outcome', 'bid_count', 'reserve_status', 'num_views',\n       'end_datetime', 'num_photos'],\n      dtype='object')"
     },
     "execution_count": 206,
     "metadata": {},
     "output_type": "execute_result"
    }
   ],
   "source": [
    "# checking the column names\n",
    "cars_df.columns"
   ],
   "metadata": {
    "collapsed": false
   }
  },
  {
   "cell_type": "code",
   "execution_count": 207,
   "outputs": [
    {
     "data": {
      "text/plain": "Index(['make', 'model', 'mileage', 'vin', 'title_status', 'location', 'seller',\n       'engine', 'drivetrain', 'transmission', 'body_style', 'exterior_color',\n       'interior_color', 'seller_type', 'url', 'id', 'year', 'price',\n       'auction_outcome', 'bid_count', 'reserve_status', 'num_views',\n       'end_datetime', 'num_photos'],\n      dtype='object')"
     },
     "execution_count": 207,
     "metadata": {},
     "output_type": "execute_result"
    }
   ],
   "source": [
    "# snake casing the columns and making them lowercase\n",
    "cars_df.columns = cars_df.columns.str.lower().str.replace(' ', '_')\n",
    "cars_df.columns"
   ],
   "metadata": {
    "collapsed": false
   }
  },
  {
   "cell_type": "code",
   "execution_count": 208,
   "outputs": [
    {
     "name": "stdout",
     "output_type": "stream",
     "text": [
      "9963 records of 24 features\n"
     ]
    }
   ],
   "source": [
    "# checking the shape of the dataset\n",
    "print(f\"{cars_df.shape[0]} records of {cars_df.shape[1]} features\")"
   ],
   "metadata": {
    "collapsed": false
   }
  },
  {
   "cell_type": "code",
   "execution_count": 209,
   "outputs": [
    {
     "data": {
      "text/plain": "      make         model  mileage                vin title_status  \\\n0     Audi        S6Save  288,200  WAULA84A5SN121685   Clean (NC)   \n1     Ford  MaverickSave      200  3FTTW8E3XNRA95168   Clean (CA)   \n2   Nissan      GT-RSave   39,500  JN1AR5EF5GM290729   Clean (MD)   \n3     Audi        R8Save   10,400  WUABAAFX9J7902416   Clean (CA)   \n4  Porsche   BoxsterSave   55,400  WP0CA298X7U710301   Clean (IL)   \n\n                  location        seller                engine  \\\n0        Raleigh, NC 27609  rustyone2022  2.2L Turbocharged I5   \n1        La Mesa, CA 91942     carDaveSD        2.5L Hybrid I4   \n2  Silver Spring, MD 20906      Fainmous  3.8L Turbocharged V6   \n3       Temecula, CA 92592    Dustin1116              5.2L V10   \n4   Carol Stream, IL 60188    4wheels4me           2.7L Flat-6   \n\n          drivetrain         transmission  ...  \\\n0            4WD/AWD     Manual (5-Speed)  ...   \n1  Front-wheel drive      Automatic (CVT)  ...   \n2            4WD/AWD  Automatic (6-Speed)  ...   \n3   Rear-wheel drive  Automatic (7-Speed)  ...   \n4   Rear-wheel drive     Manual (5-Speed)  ...   \n\n                                                 url  \\\n0  https://carsandbids.com/auctions/rxk84RwQ/1995...   \n1  https://carsandbids.com/auctions/rGN6Z7Q2/2022...   \n2  https://carsandbids.com/auctions/9WbPwOYQ/2016...   \n3  https://carsandbids.com/auctions/9X6kNN0x/2018...   \n4  https://carsandbids.com/auctions/KmmyjVYY/2007...   \n\n                           id  year   price      auction_outcome bid_count  \\\n0          1995-audi-s6-avant  1995    7700   Sold toTommyCarDoc        33   \n1      2022-ford-maverick-xlt  2022   29875   Sold toBluejeansjj        13   \n2    2016-nissan-gt-r-premium  2016   68000  Sold toMtnRunner784        26   \n3  2018-audi-r8-v10-coupe-rws  2018  135000       Sold tod_p_mac        26   \n4        2007-porsche-boxster  2007   21000    Sold toLetsbuyone        22   \n\n  reserve_status  num_views              end_datetime  num_photos  \n0     No reserve     9032.0  Nov 18, 2022 3:49 PM EST          72  \n1        Reserve     7275.0  Nov 18, 2022 1:51 PM EST          74  \n2        Reserve    10609.0  Nov 17, 2022 3:59 PM EST          51  \n3        Reserve    10057.0  Nov 17, 2022 1:54 PM EST          62  \n4        Reserve     5528.0  Nov 17, 2022 2:05 PM EST          99  \n\n[5 rows x 24 columns]",
      "text/html": "<div>\n<style scoped>\n    .dataframe tbody tr th:only-of-type {\n        vertical-align: middle;\n    }\n\n    .dataframe tbody tr th {\n        vertical-align: top;\n    }\n\n    .dataframe thead th {\n        text-align: right;\n    }\n</style>\n<table border=\"1\" class=\"dataframe\">\n  <thead>\n    <tr style=\"text-align: right;\">\n      <th></th>\n      <th>make</th>\n      <th>model</th>\n      <th>mileage</th>\n      <th>vin</th>\n      <th>title_status</th>\n      <th>location</th>\n      <th>seller</th>\n      <th>engine</th>\n      <th>drivetrain</th>\n      <th>transmission</th>\n      <th>...</th>\n      <th>url</th>\n      <th>id</th>\n      <th>year</th>\n      <th>price</th>\n      <th>auction_outcome</th>\n      <th>bid_count</th>\n      <th>reserve_status</th>\n      <th>num_views</th>\n      <th>end_datetime</th>\n      <th>num_photos</th>\n    </tr>\n  </thead>\n  <tbody>\n    <tr>\n      <th>0</th>\n      <td>Audi</td>\n      <td>S6Save</td>\n      <td>288,200</td>\n      <td>WAULA84A5SN121685</td>\n      <td>Clean (NC)</td>\n      <td>Raleigh, NC 27609</td>\n      <td>rustyone2022</td>\n      <td>2.2L Turbocharged I5</td>\n      <td>4WD/AWD</td>\n      <td>Manual (5-Speed)</td>\n      <td>...</td>\n      <td>https://carsandbids.com/auctions/rxk84RwQ/1995...</td>\n      <td>1995-audi-s6-avant</td>\n      <td>1995</td>\n      <td>7700</td>\n      <td>Sold toTommyCarDoc</td>\n      <td>33</td>\n      <td>No reserve</td>\n      <td>9032.0</td>\n      <td>Nov 18, 2022 3:49 PM EST</td>\n      <td>72</td>\n    </tr>\n    <tr>\n      <th>1</th>\n      <td>Ford</td>\n      <td>MaverickSave</td>\n      <td>200</td>\n      <td>3FTTW8E3XNRA95168</td>\n      <td>Clean (CA)</td>\n      <td>La Mesa, CA 91942</td>\n      <td>carDaveSD</td>\n      <td>2.5L Hybrid I4</td>\n      <td>Front-wheel drive</td>\n      <td>Automatic (CVT)</td>\n      <td>...</td>\n      <td>https://carsandbids.com/auctions/rGN6Z7Q2/2022...</td>\n      <td>2022-ford-maverick-xlt</td>\n      <td>2022</td>\n      <td>29875</td>\n      <td>Sold toBluejeansjj</td>\n      <td>13</td>\n      <td>Reserve</td>\n      <td>7275.0</td>\n      <td>Nov 18, 2022 1:51 PM EST</td>\n      <td>74</td>\n    </tr>\n    <tr>\n      <th>2</th>\n      <td>Nissan</td>\n      <td>GT-RSave</td>\n      <td>39,500</td>\n      <td>JN1AR5EF5GM290729</td>\n      <td>Clean (MD)</td>\n      <td>Silver Spring, MD 20906</td>\n      <td>Fainmous</td>\n      <td>3.8L Turbocharged V6</td>\n      <td>4WD/AWD</td>\n      <td>Automatic (6-Speed)</td>\n      <td>...</td>\n      <td>https://carsandbids.com/auctions/9WbPwOYQ/2016...</td>\n      <td>2016-nissan-gt-r-premium</td>\n      <td>2016</td>\n      <td>68000</td>\n      <td>Sold toMtnRunner784</td>\n      <td>26</td>\n      <td>Reserve</td>\n      <td>10609.0</td>\n      <td>Nov 17, 2022 3:59 PM EST</td>\n      <td>51</td>\n    </tr>\n    <tr>\n      <th>3</th>\n      <td>Audi</td>\n      <td>R8Save</td>\n      <td>10,400</td>\n      <td>WUABAAFX9J7902416</td>\n      <td>Clean (CA)</td>\n      <td>Temecula, CA 92592</td>\n      <td>Dustin1116</td>\n      <td>5.2L V10</td>\n      <td>Rear-wheel drive</td>\n      <td>Automatic (7-Speed)</td>\n      <td>...</td>\n      <td>https://carsandbids.com/auctions/9X6kNN0x/2018...</td>\n      <td>2018-audi-r8-v10-coupe-rws</td>\n      <td>2018</td>\n      <td>135000</td>\n      <td>Sold tod_p_mac</td>\n      <td>26</td>\n      <td>Reserve</td>\n      <td>10057.0</td>\n      <td>Nov 17, 2022 1:54 PM EST</td>\n      <td>62</td>\n    </tr>\n    <tr>\n      <th>4</th>\n      <td>Porsche</td>\n      <td>BoxsterSave</td>\n      <td>55,400</td>\n      <td>WP0CA298X7U710301</td>\n      <td>Clean (IL)</td>\n      <td>Carol Stream, IL 60188</td>\n      <td>4wheels4me</td>\n      <td>2.7L Flat-6</td>\n      <td>Rear-wheel drive</td>\n      <td>Manual (5-Speed)</td>\n      <td>...</td>\n      <td>https://carsandbids.com/auctions/KmmyjVYY/2007...</td>\n      <td>2007-porsche-boxster</td>\n      <td>2007</td>\n      <td>21000</td>\n      <td>Sold toLetsbuyone</td>\n      <td>22</td>\n      <td>Reserve</td>\n      <td>5528.0</td>\n      <td>Nov 17, 2022 2:05 PM EST</td>\n      <td>99</td>\n    </tr>\n  </tbody>\n</table>\n<p>5 rows × 24 columns</p>\n</div>"
     },
     "execution_count": 209,
     "metadata": {},
     "output_type": "execute_result"
    }
   ],
   "source": [
    "# checking the top of the dataset\n",
    "cars_df.head()\n",
    "# \"Save\" got appended to each model name from scraping, that needs cleaning"
   ],
   "metadata": {
    "collapsed": false
   }
  },
  {
   "cell_type": "code",
   "execution_count": 210,
   "outputs": [
    {
     "data": {
      "text/plain": "               make             model  mileage                vin  \\\n9958     Land Rover      DefenderSave   47,316  SALLDHMV8LA930542   \n9959         Toyota  Land CruiserSave  117,273  JT3FJ60G6E1116896   \n9960           Ford      Focus STSave   44,388  1FADP3L97HL307089   \n9961  Mercedes-Benz    CLS 63 AMGSave   28,927  WDDLJ7GB6EA106020   \n9962         Toyota           MR2Save   83,538  JT2AW15C7F0033655   \n\n     title_status                location            seller  \\\n9958   Clean (SC)    Charleston, SC 29414      RelicImports   \n9959   Clean (CO)        Denver, CO 80206             would   \n9960   Clean (OH)    Cincinnati, OH 41075       WillSanders   \n9961   Clean (NC)  Jacksonville, FL 32207         pinmaniac   \n9962   Clean (PA)      Fairview, PA 16415  itwontstopsnowin   \n\n                         engine         drivetrain             transmission  \\\n9958                    3.5L V8            4WD/AWD         Manual (5-speed)   \n9959                    4.2L I6            4WD/AWD         Manual (4-speed)   \n9960       2.0L Turbocharged I4  Front-wheel drive         Manual (6-speed)   \n9961  5.5L Twin-Turbocharged V8            4WD/AWD  Automatic (7-speed MCT)   \n9962                    1.6L I4   Rear-wheel drive         Manual (5-speed)   \n\n      ...                                                url  \\\n9958  ...  https://carsandbids.com/auctions/9nbW8GPJ/1994...   \n9959  ...  https://carsandbids.com/auctions/KVGJe7BP/1984...   \n9960  ...  https://carsandbids.com/auctions/rkJ5jd4g/2017...   \n9961  ...  https://carsandbids.com/auctions/rjpanxeY/2014...   \n9962  ...  https://carsandbids.com/auctions/9XNWwoxg/1985...   \n\n                                      id  year  price  \\\n9958  1994-land-rover-defender-6-wheeler  1994  32000   \n9959            1984-toyota-land-cruiser  1984  15000   \n9960                  2017-ford-focus-st  2017  16500   \n9961      2014-mercedes-benz-cls63-amg-s  2014  37750   \n9962                     1985-toyota-mr2  1985   6800   \n\n              auction_outcome bid_count reserve_status  num_views  \\\n9958  Reserve not met, bid to        44        Reserve        NaN   \n9959    Sold topetercpeterson        38        Reserve        NaN   \n9960   Sold toThis_is_Defkidd        47        Reserve        NaN   \n9961         Sold toHeavenFox        29        Reserve        NaN   \n9962           Sold toECRacer        18        Reserve        NaN   \n\n                  end_datetime  num_photos  \n9958  Jun 15, 2020 2:02 PM EDT         161  \n9959  Jun 16, 2020 1:06 PM EDT          65  \n9960  Jun 23, 2020 1:07 PM EDT          82  \n9961  Jun 23, 2020 2:02 PM EDT          72  \n9962  Jun 18, 2020 1:01 PM EDT          93  \n\n[5 rows x 24 columns]",
      "text/html": "<div>\n<style scoped>\n    .dataframe tbody tr th:only-of-type {\n        vertical-align: middle;\n    }\n\n    .dataframe tbody tr th {\n        vertical-align: top;\n    }\n\n    .dataframe thead th {\n        text-align: right;\n    }\n</style>\n<table border=\"1\" class=\"dataframe\">\n  <thead>\n    <tr style=\"text-align: right;\">\n      <th></th>\n      <th>make</th>\n      <th>model</th>\n      <th>mileage</th>\n      <th>vin</th>\n      <th>title_status</th>\n      <th>location</th>\n      <th>seller</th>\n      <th>engine</th>\n      <th>drivetrain</th>\n      <th>transmission</th>\n      <th>...</th>\n      <th>url</th>\n      <th>id</th>\n      <th>year</th>\n      <th>price</th>\n      <th>auction_outcome</th>\n      <th>bid_count</th>\n      <th>reserve_status</th>\n      <th>num_views</th>\n      <th>end_datetime</th>\n      <th>num_photos</th>\n    </tr>\n  </thead>\n  <tbody>\n    <tr>\n      <th>9958</th>\n      <td>Land Rover</td>\n      <td>DefenderSave</td>\n      <td>47,316</td>\n      <td>SALLDHMV8LA930542</td>\n      <td>Clean (SC)</td>\n      <td>Charleston, SC 29414</td>\n      <td>RelicImports</td>\n      <td>3.5L V8</td>\n      <td>4WD/AWD</td>\n      <td>Manual (5-speed)</td>\n      <td>...</td>\n      <td>https://carsandbids.com/auctions/9nbW8GPJ/1994...</td>\n      <td>1994-land-rover-defender-6-wheeler</td>\n      <td>1994</td>\n      <td>32000</td>\n      <td>Reserve not met, bid to</td>\n      <td>44</td>\n      <td>Reserve</td>\n      <td>NaN</td>\n      <td>Jun 15, 2020 2:02 PM EDT</td>\n      <td>161</td>\n    </tr>\n    <tr>\n      <th>9959</th>\n      <td>Toyota</td>\n      <td>Land CruiserSave</td>\n      <td>117,273</td>\n      <td>JT3FJ60G6E1116896</td>\n      <td>Clean (CO)</td>\n      <td>Denver, CO 80206</td>\n      <td>would</td>\n      <td>4.2L I6</td>\n      <td>4WD/AWD</td>\n      <td>Manual (4-speed)</td>\n      <td>...</td>\n      <td>https://carsandbids.com/auctions/KVGJe7BP/1984...</td>\n      <td>1984-toyota-land-cruiser</td>\n      <td>1984</td>\n      <td>15000</td>\n      <td>Sold topetercpeterson</td>\n      <td>38</td>\n      <td>Reserve</td>\n      <td>NaN</td>\n      <td>Jun 16, 2020 1:06 PM EDT</td>\n      <td>65</td>\n    </tr>\n    <tr>\n      <th>9960</th>\n      <td>Ford</td>\n      <td>Focus STSave</td>\n      <td>44,388</td>\n      <td>1FADP3L97HL307089</td>\n      <td>Clean (OH)</td>\n      <td>Cincinnati, OH 41075</td>\n      <td>WillSanders</td>\n      <td>2.0L Turbocharged I4</td>\n      <td>Front-wheel drive</td>\n      <td>Manual (6-speed)</td>\n      <td>...</td>\n      <td>https://carsandbids.com/auctions/rkJ5jd4g/2017...</td>\n      <td>2017-ford-focus-st</td>\n      <td>2017</td>\n      <td>16500</td>\n      <td>Sold toThis_is_Defkidd</td>\n      <td>47</td>\n      <td>Reserve</td>\n      <td>NaN</td>\n      <td>Jun 23, 2020 1:07 PM EDT</td>\n      <td>82</td>\n    </tr>\n    <tr>\n      <th>9961</th>\n      <td>Mercedes-Benz</td>\n      <td>CLS 63 AMGSave</td>\n      <td>28,927</td>\n      <td>WDDLJ7GB6EA106020</td>\n      <td>Clean (NC)</td>\n      <td>Jacksonville, FL 32207</td>\n      <td>pinmaniac</td>\n      <td>5.5L Twin-Turbocharged V8</td>\n      <td>4WD/AWD</td>\n      <td>Automatic (7-speed MCT)</td>\n      <td>...</td>\n      <td>https://carsandbids.com/auctions/rjpanxeY/2014...</td>\n      <td>2014-mercedes-benz-cls63-amg-s</td>\n      <td>2014</td>\n      <td>37750</td>\n      <td>Sold toHeavenFox</td>\n      <td>29</td>\n      <td>Reserve</td>\n      <td>NaN</td>\n      <td>Jun 23, 2020 2:02 PM EDT</td>\n      <td>72</td>\n    </tr>\n    <tr>\n      <th>9962</th>\n      <td>Toyota</td>\n      <td>MR2Save</td>\n      <td>83,538</td>\n      <td>JT2AW15C7F0033655</td>\n      <td>Clean (PA)</td>\n      <td>Fairview, PA 16415</td>\n      <td>itwontstopsnowin</td>\n      <td>1.6L I4</td>\n      <td>Rear-wheel drive</td>\n      <td>Manual (5-speed)</td>\n      <td>...</td>\n      <td>https://carsandbids.com/auctions/9XNWwoxg/1985...</td>\n      <td>1985-toyota-mr2</td>\n      <td>1985</td>\n      <td>6800</td>\n      <td>Sold toECRacer</td>\n      <td>18</td>\n      <td>Reserve</td>\n      <td>NaN</td>\n      <td>Jun 18, 2020 1:01 PM EDT</td>\n      <td>93</td>\n    </tr>\n  </tbody>\n</table>\n<p>5 rows × 24 columns</p>\n</div>"
     },
     "execution_count": 210,
     "metadata": {},
     "output_type": "execute_result"
    }
   ],
   "source": [
    "cars_df.tail()\n",
    "# num_views is missing at the bottom of the dataset, a known flaw as the feature was added to the website in a later update\n",
    "# imputation could be useful if the feature is useful and the share of missing data isn't too large"
   ],
   "metadata": {
    "collapsed": false
   }
  },
  {
   "cell_type": "code",
   "execution_count": 211,
   "outputs": [
    {
     "data": {
      "text/plain": "make                object\nmodel               object\nmileage             object\nvin                 object\ntitle_status        object\nlocation            object\nseller              object\nengine              object\ndrivetrain          object\ntransmission        object\nbody_style          object\nexterior_color      object\ninterior_color      object\nseller_type         object\nurl                 object\nid                  object\nyear                object\nprice                int64\nauction_outcome     object\nbid_count            int64\nreserve_status      object\nnum_views          float64\nend_datetime        object\nnum_photos           int64\ndtype: object"
     },
     "execution_count": 211,
     "metadata": {},
     "output_type": "execute_result"
    }
   ],
   "source": [
    "#checking datatypes\n",
    "cars_df.dtypes\n",
    "# mileage should be numeric (int), num_views should be an int, end_datetime should be a datetime"
   ],
   "metadata": {
    "collapsed": false
   }
  },
  {
   "cell_type": "code",
   "execution_count": 212,
   "outputs": [
    {
     "data": {
      "text/plain": "                       make           model            mileage  vin  \\\n3166  Suspensions Unlimited  Sand Pro 2Save  No Odometer - TMU  NaN   \n\n      title_status            location   seller                engine  \\\n3166  Bill of Sale  La Habra, CA 90631  brad87s  3.5L Turbocharged V6   \n\n            drivetrain      transmission  ...  \\\n3166  Rear-wheel drive  Manual (4-Speed)  ...   \n\n                                                    url  \\\n3166  https://carsandbids.com/auctions/rwAbYBwM/2010...   \n\n                                         id  year  price      auction_outcome  \\\n3166  2010-suspensions-unlimited-sand-pro-2  2010  13800  Sold toWjohnson1001   \n\n     bid_count reserve_status  num_views              end_datetime  num_photos  \n3166        42     No reserve    10176.0  Apr 29, 2022 1:50 PM EDT          92  \n\n[1 rows x 24 columns]",
      "text/html": "<div>\n<style scoped>\n    .dataframe tbody tr th:only-of-type {\n        vertical-align: middle;\n    }\n\n    .dataframe tbody tr th {\n        vertical-align: top;\n    }\n\n    .dataframe thead th {\n        text-align: right;\n    }\n</style>\n<table border=\"1\" class=\"dataframe\">\n  <thead>\n    <tr style=\"text-align: right;\">\n      <th></th>\n      <th>make</th>\n      <th>model</th>\n      <th>mileage</th>\n      <th>vin</th>\n      <th>title_status</th>\n      <th>location</th>\n      <th>seller</th>\n      <th>engine</th>\n      <th>drivetrain</th>\n      <th>transmission</th>\n      <th>...</th>\n      <th>url</th>\n      <th>id</th>\n      <th>year</th>\n      <th>price</th>\n      <th>auction_outcome</th>\n      <th>bid_count</th>\n      <th>reserve_status</th>\n      <th>num_views</th>\n      <th>end_datetime</th>\n      <th>num_photos</th>\n    </tr>\n  </thead>\n  <tbody>\n    <tr>\n      <th>3166</th>\n      <td>Suspensions Unlimited</td>\n      <td>Sand Pro 2Save</td>\n      <td>No Odometer - TMU</td>\n      <td>NaN</td>\n      <td>Bill of Sale</td>\n      <td>La Habra, CA 90631</td>\n      <td>brad87s</td>\n      <td>3.5L Turbocharged V6</td>\n      <td>Rear-wheel drive</td>\n      <td>Manual (4-Speed)</td>\n      <td>...</td>\n      <td>https://carsandbids.com/auctions/rwAbYBwM/2010...</td>\n      <td>2010-suspensions-unlimited-sand-pro-2</td>\n      <td>2010</td>\n      <td>13800</td>\n      <td>Sold toWjohnson1001</td>\n      <td>42</td>\n      <td>No reserve</td>\n      <td>10176.0</td>\n      <td>Apr 29, 2022 1:50 PM EDT</td>\n      <td>92</td>\n    </tr>\n  </tbody>\n</table>\n<p>1 rows × 24 columns</p>\n</div>"
     },
     "execution_count": 212,
     "metadata": {},
     "output_type": "execute_result"
    }
   ],
   "source": [
    "# checking for missing values\n",
    "cars_df.isnull().sum()\n",
    "# lots of null values in the num_views column--this was expected. Imputation could be a good fix here\n",
    "# one missing VIN...\n",
    "cars_df[cars_df[\"vin\"].isna()] # dune buggy, makes sense"
   ],
   "metadata": {
    "collapsed": false
   }
  },
  {
   "cell_type": "code",
   "execution_count": 213,
   "outputs": [
    {
     "data": {
      "text/plain": "make              112\nmodel             945\ntitle_status      191\nengine            569\ndrivetrain          3\ntransmission       55\nbody_style          8\nyear               44\nreserve_status      2\ndtype: int64"
     },
     "execution_count": 213,
     "metadata": {},
     "output_type": "execute_result"
    }
   ],
   "source": [
    "# checking the number of unique values in the sensible columns\n",
    "cars_df[[\"make\", \"model\", \"title_status\", \"engine\", \"drivetrain\", \"transmission\", \"body_style\", \"year\", \"reserve_status\"]].nunique()\n",
    "# title_status should only have two values: Clean title or other\n",
    "# Transmission should only have two values: automatic or manual"
   ],
   "metadata": {
    "collapsed": false
   }
  },
  {
   "cell_type": "markdown",
   "source": [
    "## Data Cleaning\n",
    "\n",
    "### Target Variable: Price"
   ],
   "metadata": {
    "collapsed": false
   }
  },
  {
   "cell_type": "code",
   "execution_count": 214,
   "outputs": [
    {
     "data": {
      "text/plain": "count      9963.000000\nmean      28116.176754\nstd       31106.986332\nmin        1800.000000\n25%       10500.000000\n50%       17750.000000\n75%       33000.000000\nmax      557000.000000\nName: price, dtype: float64"
     },
     "execution_count": 214,
     "metadata": {},
     "output_type": "execute_result"
    },
    {
     "data": {
      "text/plain": "<Figure size 360x360 with 1 Axes>",
      "image/png": "[encoded data removed]"
     },
     "metadata": {
      "needs_background": "light"
     },
     "output_type": "display_data"
    }
   ],
   "source": [
    "# target variable: price in USD\n",
    "cars_df[\"price\"] = pd.to_numeric(cars_df[\"price\"])\n",
    "sns.displot(cars_df[\"price\"], kde = True) # big positive skew, eliminating large outliers might be useful, log-transformation would make it more normal\n",
    "cars_df[\"price\"].describe()\n",
    "# looks like most cars are in the $10000 - $100000 range"
   ],
   "metadata": {
    "collapsed": false
   }
  },
  {
   "cell_type": "code",
   "execution_count": 368,
   "outputs": [
    {
     "data": {
      "text/plain": "<AxesSubplot:xlabel='price'>"
     },
     "execution_count": 368,
     "metadata": {},
     "output_type": "execute_result"
    },
    {
     "data": {
      "text/plain": "<Figure size 1440x720 with 1 Axes>",
      "image/png": "[encoded data removed]"
     },
     "metadata": {},
     "output_type": "display_data"
    }
   ],
   "source": [
    "sns.boxplot(data = cars_df, x = \"price\", )"
   ],
   "metadata": {
    "collapsed": false
   }
  },
  {
   "cell_type": "code",
   "execution_count": 215,
   "outputs": [
    {
     "data": {
      "text/plain": "<seaborn.axisgrid.FacetGrid at 0x17f98bc70>"
     },
     "execution_count": 215,
     "metadata": {},
     "output_type": "execute_result"
    },
    {
     "data": {
      "text/plain": "<Figure size 360x360 with 1 Axes>",
      "image/png": "[encoded data removed]"
     },
     "metadata": {
      "needs_background": "light"
     },
     "output_type": "display_data"
    }
   ],
   "source": [
    "sns.displot(cars_df[\"price\"], log_scale = True, kde = True) # much more normal but would make coefficient interpretation and final price prediction very difficult"
   ],
   "metadata": {
    "collapsed": false
   }
  },
  {
   "cell_type": "markdown",
   "source": [
    "### Cleaning the 'model' feature\n",
    "- 'Save' was appended to each model name as a result of the scraping"
   ],
   "metadata": {
    "collapsed": false
   }
  },
  {
   "cell_type": "code",
   "execution_count": 216,
   "outputs": [
    {
     "data": {
      "text/plain": "9958        Defender\n9959    Land Cruiser\n9960        Focus ST\n9961      CLS 63 AMG\n9962             MR2\nName: model_clean, dtype: object"
     },
     "execution_count": 216,
     "metadata": {},
     "output_type": "execute_result"
    }
   ],
   "source": [
    "cars_df[\"model_clean\"] = cars_df[\"model\"].str.replace(\"Save\", \"\")\n",
    "cars_df[\"model_clean\"]\n",
    "cars_df[\"model_clean\"].head()\n",
    "cars_df[\"model_clean\"].tail() # looks good"
   ],
   "metadata": {
    "collapsed": false
   }
  },
  {
   "cell_type": "markdown",
   "source": [
    "### No trim details included with the model, the id column may be helpful for extracting this\n",
    "- potential workaround: make the id a full string\n",
    "- remove the year and make info using those columns\n",
    "- left with the model trim specifics not always included with the model, and in some cases the sequential identifier to differentiate URLs\n"
   ],
   "metadata": {
    "collapsed": false
   }
  },
  {
   "cell_type": "code",
   "execution_count": 217,
   "outputs": [
    {
     "data": {
      "text/plain": "0                         [1995, audi, s6, avant]\n1                     [2022, ford, maverick, xlt]\n2                  [2016, nissan, gt, r, premium]\n3               [2018, audi, r8, v10, coupe, rws]\n4                        [2007, porsche, boxster]\n                          ...                    \n9958    [1994, land, rover, defender, 6, wheeler]\n9959                [1984, toyota, land, cruiser]\n9960                      [2017, ford, focus, st]\n9961        [2014, mercedes, benz, cls63, amg, s]\n9962                          [1985, toyota, mr2]\nName: id_split, Length: 9963, dtype: object"
     },
     "execution_count": 217,
     "metadata": {},
     "output_type": "execute_result"
    }
   ],
   "source": [
    "# taking a look at the id column to see if the trim info on the model can be extracted\n",
    "# model info is separated with - in the URL but some model names are also separated with - Nissan GT-R for example\n",
    "cars_df[\"id_split\"] = cars_df[\"id\"].str.split('-')\n",
    "cars_df[\"id_split\"]"
   ],
   "metadata": {
    "collapsed": false
   }
  },
  {
   "cell_type": "markdown",
   "source": [
    "### Cleaning the 'mileage' feature\n",
    "- removing the comma and making it numeric"
   ],
   "metadata": {
    "collapsed": false
   }
  },
  {
   "cell_type": "code",
   "execution_count": 220,
   "outputs": [
    {
     "data": {
      "text/plain": "                        mileage mileage_clean\n335           TMU - No odometer           NaN\n386           No Odometer — TMU           NaN\n3036          No Odometer - TMU           NaN\n3078          No odometer - TMU           NaN\n3166          No Odometer - TMU           NaN\n3451      Odometer Broken - TMU           NaN\n4525          No Odometer - TMU           NaN\n4956          No Odometer — TMU           NaN\n5583                        TMU           NaN\n5640                        TMU           NaN\n5995                No odometer           NaN\n7485                        TMU           NaN\n7688          TMU — No Odometer           NaN\n7881                        TMU           NaN\n7894  TMU – odometer inoperable           NaN\n8005          TMU — No Odometer           NaN\n8136        Odometer inoperable           NaN\n9169                        TMU           NaN\n9214                        TMU           NaN\n9249                        TMU           NaN\n9267                        TMU           NaN\n9276                        TMU           NaN\n9320                        TMU           NaN\n9466                        TMU           NaN",
      "text/html": "<div>\n<style scoped>\n    .dataframe tbody tr th:only-of-type {\n        vertical-align: middle;\n    }\n\n    .dataframe tbody tr th {\n        vertical-align: top;\n    }\n\n    .dataframe thead th {\n        text-align: right;\n    }\n</style>\n<table border=\"1\" class=\"dataframe\">\n  <thead>\n    <tr style=\"text-align: right;\">\n      <th></th>\n      <th>mileage</th>\n      <th>mileage_clean</th>\n    </tr>\n  </thead>\n  <tbody>\n    <tr>\n      <th>335</th>\n      <td>TMU - No odometer</td>\n      <td>NaN</td>\n    </tr>\n    <tr>\n      <th>386</th>\n      <td>No Odometer — TMU</td>\n      <td>NaN</td>\n    </tr>\n    <tr>\n      <th>3036</th>\n      <td>No Odometer - TMU</td>\n      <td>NaN</td>\n    </tr>\n    <tr>\n      <th>3078</th>\n      <td>No odometer - TMU</td>\n      <td>NaN</td>\n    </tr>\n    <tr>\n      <th>3166</th>\n      <td>No Odometer - TMU</td>\n      <td>NaN</td>\n    </tr>\n    <tr>\n      <th>3451</th>\n      <td>Odometer Broken - TMU</td>\n      <td>NaN</td>\n    </tr>\n    <tr>\n      <th>4525</th>\n      <td>No Odometer - TMU</td>\n      <td>NaN</td>\n    </tr>\n    <tr>\n      <th>4956</th>\n      <td>No Odometer — TMU</td>\n      <td>NaN</td>\n    </tr>\n    <tr>\n      <th>5583</th>\n      <td>TMU</td>\n      <td>NaN</td>\n    </tr>\n    <tr>\n      <th>5640</th>\n      <td>TMU</td>\n      <td>NaN</td>\n    </tr>\n    <tr>\n      <th>5995</th>\n      <td>No odometer</td>\n      <td>NaN</td>\n    </tr>\n    <tr>\n      <th>7485</th>\n      <td>TMU</td>\n      <td>NaN</td>\n    </tr>\n    <tr>\n      <th>7688</th>\n      <td>TMU — No Odometer</td>\n      <td>NaN</td>\n    </tr>\n    <tr>\n      <th>7881</th>\n      <td>TMU</td>\n      <td>NaN</td>\n    </tr>\n    <tr>\n      <th>7894</th>\n      <td>TMU – odometer inoperable</td>\n      <td>NaN</td>\n    </tr>\n    <tr>\n      <th>8005</th>\n      <td>TMU — No Odometer</td>\n      <td>NaN</td>\n    </tr>\n    <tr>\n      <th>8136</th>\n      <td>Odometer inoperable</td>\n      <td>NaN</td>\n    </tr>\n    <tr>\n      <th>9169</th>\n      <td>TMU</td>\n      <td>NaN</td>\n    </tr>\n    <tr>\n      <th>9214</th>\n      <td>TMU</td>\n      <td>NaN</td>\n    </tr>\n    <tr>\n      <th>9249</th>\n      <td>TMU</td>\n      <td>NaN</td>\n    </tr>\n    <tr>\n      <th>9267</th>\n      <td>TMU</td>\n      <td>NaN</td>\n    </tr>\n    <tr>\n      <th>9276</th>\n      <td>TMU</td>\n      <td>NaN</td>\n    </tr>\n    <tr>\n      <th>9320</th>\n      <td>TMU</td>\n      <td>NaN</td>\n    </tr>\n    <tr>\n      <th>9466</th>\n      <td>TMU</td>\n      <td>NaN</td>\n    </tr>\n  </tbody>\n</table>\n</div>"
     },
     "execution_count": 220,
     "metadata": {},
     "output_type": "execute_result"
    }
   ],
   "source": [
    "# removing commas from the mileage numbers\n",
    "cars_df[\"mileage_clean\"] = cars_df[\"mileage\"].str.replace(\",\", \"\")\n",
    "# using regular expressions to extract numeric characters from the mileage column\n",
    "cars_df[\"mileage_clean\"] = cars_df[\"mileage_clean\"].str.extract('([0-9]+)')\n",
    "cars_df[[\"mileage\", \"mileage_clean\"]][cars_df[\"mileage_clean\"].isna()] # looks good, 24 listings with TMU (missing/broken odometer in most cases)\n",
    "# TODO debate dropping the columns with missing mileage"
   ],
   "metadata": {
    "collapsed": false
   }
  },
  {
   "cell_type": "code",
   "execution_count": 221,
   "outputs": [
    {
     "data": {
      "text/plain": "dtype('float64')"
     },
     "execution_count": 221,
     "metadata": {},
     "output_type": "execute_result"
    }
   ],
   "source": [
    "cars_df[\"mileage_clean\"] = pd.to_numeric(cars_df[\"mileage_clean\"])\n",
    "cars_df[\"mileage_clean\"].dtype"
   ],
   "metadata": {
    "collapsed": false
   }
  },
  {
   "cell_type": "markdown",
   "source": [
    "### cleaning the title_status feature\n",
    "- need to create a binary clean/not clean title feature\n",
    "- might be beneficial to split the title status column into 'location' and 'description'"
   ],
   "metadata": {
    "collapsed": false
   }
  },
  {
   "cell_type": "code",
   "execution_count": 226,
   "outputs": [
    {
     "data": {
      "text/plain": "title\nclean    9837\nother     126\ndtype: int64"
     },
     "execution_count": 226,
     "metadata": {},
     "output_type": "execute_result"
    }
   ],
   "source": [
    "# Making a column \"title_desc\" a binary feature based on if the string 'clean' appears in the title_status column\n",
    "# if 'clean' is in the title_desc column: 'clean'\n",
    "# otherwise 'other'\n",
    "cars_df[\"title\"] = np.where(cars_df[\"title_status\"].str.lower().str.contains(\"clean\"), \"clean\", \"other\")\n",
    "# extracting the text between parentheses as the title location--might not be a good fix\n",
    "cars_df.value_counts(\"title\") # clean fix, titles handled"
   ],
   "metadata": {
    "collapsed": false
   }
  },
  {
   "cell_type": "code",
   "execution_count": 227,
   "outputs": [
    {
     "data": {
      "text/plain": "                        title_status  title\n102          Not Actual Mileage (KY)  other\n235   Exceeds Mechanical Limits (PA)  other\n288                  Registered (VT)  other\n313          Not Actual Mileage (VA)  other\n314                  Registered (ME)  other\n...                              ...    ...\n9733                       Lein (TX)  other\n9783       Odometer Discrepancy (AZ)  other\n9796                    Salvage (MD)  other\n9827       Odometer Discrepancy (OH)  other\n9890                    Rebuilt (CO)  other\n\n[126 rows x 2 columns]",
      "text/html": "<div>\n<style scoped>\n    .dataframe tbody tr th:only-of-type {\n        vertical-align: middle;\n    }\n\n    .dataframe tbody tr th {\n        vertical-align: top;\n    }\n\n    .dataframe thead th {\n        text-align: right;\n    }\n</style>\n<table border=\"1\" class=\"dataframe\">\n  <thead>\n    <tr style=\"text-align: right;\">\n      <th></th>\n      <th>title_status</th>\n      <th>title</th>\n    </tr>\n  </thead>\n  <tbody>\n    <tr>\n      <th>102</th>\n      <td>Not Actual Mileage (KY)</td>\n      <td>other</td>\n    </tr>\n    <tr>\n      <th>235</th>\n      <td>Exceeds Mechanical Limits (PA)</td>\n      <td>other</td>\n    </tr>\n    <tr>\n      <th>288</th>\n      <td>Registered (VT)</td>\n      <td>other</td>\n    </tr>\n    <tr>\n      <th>313</th>\n      <td>Not Actual Mileage (VA)</td>\n      <td>other</td>\n    </tr>\n    <tr>\n      <th>314</th>\n      <td>Registered (ME)</td>\n      <td>other</td>\n    </tr>\n    <tr>\n      <th>...</th>\n      <td>...</td>\n      <td>...</td>\n    </tr>\n    <tr>\n      <th>9733</th>\n      <td>Lein (TX)</td>\n      <td>other</td>\n    </tr>\n    <tr>\n      <th>9783</th>\n      <td>Odometer Discrepancy (AZ)</td>\n      <td>other</td>\n    </tr>\n    <tr>\n      <th>9796</th>\n      <td>Salvage (MD)</td>\n      <td>other</td>\n    </tr>\n    <tr>\n      <th>9827</th>\n      <td>Odometer Discrepancy (OH)</td>\n      <td>other</td>\n    </tr>\n    <tr>\n      <th>9890</th>\n      <td>Rebuilt (CO)</td>\n      <td>other</td>\n    </tr>\n  </tbody>\n</table>\n<p>126 rows × 2 columns</p>\n</div>"
     },
     "execution_count": 227,
     "metadata": {},
     "output_type": "execute_result"
    }
   ],
   "source": [
    "# checking feature engineering by pulling up the title_desc column next to each other for cases where \"Clean\" was not in the original title_status column\n",
    "cars_df[[\"title_status\", \"title\"]][cars_df[\"title\"] == \"other\"]\n",
    "# TODO: look into registered titles also qualifying as \"clean\""
   ],
   "metadata": {
    "collapsed": false
   }
  },
  {
   "cell_type": "code",
   "execution_count": 203,
   "outputs": [],
   "source": [
    "# cars_df[\"title_location\"] = cars_df[\"title_status\"].str.extract('\\((.+)\\)')\n",
    "# TODO look into title location feature extraction, handle cases where the location is not explicitly listed in the original title_status column"
   ],
   "metadata": {
    "collapsed": false
   }
  },
  {
   "cell_type": "markdown",
   "source": [
    "### splitting the location feature into address features, this needs to be revisited\n",
    "\n",
    "- removing all characters that aren't alphanumeric or a comma \",\" or a space \" \" would be a good start to clean up weirdness from scraping\n",
    "- alternative is to filter based on which ones have zipcodes and then drop the Canada records--there are at least 188 with canada in the column as shown"
   ],
   "metadata": {
    "collapsed": false
   }
  },
  {
   "cell_type": "code",
   "execution_count": 258,
   "outputs": [
    {
     "data": {
      "text/plain": "202     State College, PA 16801\n5507          Seattle, WA 98109\n9384      Los Angeles, CA 91326\n1662      Los Angeles, CA 90017\n6880      Baton Rouge, LA 70808\n7787           Manvel, TX 77578\n769           Chicago, IL 60643\n5744       Sacramento, CA 95826\n1869           Waxhaw, NC 28173\n7483         Carlsbad, CA 92010\nName: location, dtype: object"
     },
     "execution_count": 258,
     "metadata": {},
     "output_type": "execute_result"
    }
   ],
   "source": [
    "cars_df[\"location\"].sample(10, replace = False)"
   ],
   "metadata": {
    "collapsed": false
   }
  },
  {
   "cell_type": "markdown",
   "source": [
    "American format seems to be (City), (State abbreviation), (Zipcode)\n",
    "Canada format seems to be: (City), (Province), Canada"
   ],
   "metadata": {
    "collapsed": false
   }
  },
  {
   "cell_type": "markdown",
   "source": [
    "taking a closer look at some of the Canada cases\n",
    "canada records are not standardized, some use CA instead of Canada to indicate canada, need to separate these from the california records\n",
    "some of them do have zipcodes...see indexes (4559, 4974, 6892, 8374)"
   ],
   "metadata": {
    "collapsed": false
   }
  },
  {
   "cell_type": "code",
   "execution_count": 174,
   "outputs": [
    {
     "data": {
      "text/plain": "93           Hamilton, ON, Canada\n154           Toronto, ON, Canada\n158       Mississauga, ON, Canada\n223     Sherwood Park, AB, Canada\n285        Belleville, ON, Canada\n                  ...            \n9828           Calgary, AB Canada\n9837         Victoria, BC, Canada\n9871          Toronto, ON, Canada\n9901           Ottawa, ON, Canada\n9914        Vancouver, BC, Canada\nName: location, Length: 188, dtype: object"
     },
     "execution_count": 174,
     "metadata": {},
     "output_type": "execute_result"
    }
   ],
   "source": [
    "cars_df[\"location\"][cars_df[\"location\"].str.lower().str.contains(\"canada\")]"
   ],
   "metadata": {
    "collapsed": false
   }
  },
  {
   "cell_type": "code",
   "execution_count": null,
   "outputs": [],
   "source": [
    "# using regex to extract 5 digit zipcodes from the location column, creating a new column, ZIP\n",
    "cars_df[\"ZIP\"] = cars_df[\"location\"].str.extract(r\"\\b(\\d{5})\\b\")\n",
    "cars_df[\"ZIP\"].value_counts()\n",
    "cars_df[cars_df[\"ZIP\"].isna()]"
   ],
   "metadata": {
    "collapsed": false
   }
  },
  {
   "cell_type": "markdown",
   "source": [
    "not a true fix. Most of the missing values are Canadian but some have american locations wihtout zipcode entries\n",
    "See indexes:\n",
    "- 2262\n",
    "- 3643\n",
    "- 4298\n",
    "- 4552\n",
    "- 4732\n",
    "- 4856\n",
    "- 5101\n",
    "- 5791\n",
    "- 6165\n",
    "- 6251\n",
    "- 6981\n",
    "- 7656\n",
    "- 9142 (6 digit zip from NY)\n",
    "- 9272 (6 digit zip)\n",
    "- 9774"
   ],
   "metadata": {
    "collapsed": false
   }
  },
  {
   "cell_type": "code",
   "execution_count": 228,
   "outputs": [],
   "source": [
    "# cars_df[\"city\"] = cars_df[\"location\"].str.lower().str.split(\",\").str[0]\n",
    "# state\n",
    "# zip"
   ],
   "metadata": {
    "collapsed": false
   }
  },
  {
   "cell_type": "markdown",
   "source": [
    "### Cleaning the Engine Feature\n",
    "- need to engineer fuel type: object (gas, diesel, electric, hybrid)\n",
    "- displacement: numeric (in L and in come cases, cc)\n",
    "- cylinder layout: object (Flat-6, V8, W12, etc.)\n",
    "- Aspiration: boolean (naturally aspirated or turbo/supercharged)\n",
    "    - not applicable for electric cars"
   ],
   "metadata": {
    "collapsed": false
   }
  },
  {
   "cell_type": "code",
   "execution_count": null,
   "outputs": [],
   "source": [
    "# engine cleaning code here"
   ],
   "metadata": {
    "collapsed": false
   }
  },
  {
   "cell_type": "markdown",
   "source": [
    "### Cleaning the 'drivetrain' feature"
   ],
   "metadata": {
    "collapsed": false
   }
  },
  {
   "cell_type": "code",
   "execution_count": 231,
   "outputs": [
    {
     "data": {
      "text/plain": "drivetrain\nRear-wheel drive     5168\n4WD/AWD              3942\nFront-wheel drive     853\ndtype: int64"
     },
     "execution_count": 231,
     "metadata": {},
     "output_type": "execute_result"
    }
   ],
   "source": [
    "cars_df.value_counts(\"drivetrain\") # already clean"
   ],
   "metadata": {
    "collapsed": false
   }
  },
  {
   "cell_type": "markdown",
   "source": [
    "### Cleaning the 'transmission' Feature\n",
    "- making a binary feature 'trans' taking the values ('automatic', 'manual')"
   ],
   "metadata": {
    "collapsed": false
   }
  },
  {
   "cell_type": "code",
   "execution_count": 288,
   "outputs": [
    {
     "data": {
      "text/plain": "                 transmission      trans\n0            Manual (5-Speed)     manual\n1             Automatic (CVT)  automatic\n2         Automatic (6-Speed)  automatic\n3         Automatic (7-Speed)  automatic\n4            Manual (5-Speed)     manual\n...                       ...        ...\n9958         Manual (5-speed)     manual\n9959         Manual (4-speed)     manual\n9960         Manual (6-speed)     manual\n9961  Automatic (7-speed MCT)  automatic\n9962         Manual (5-speed)     manual\n\n[9963 rows x 2 columns]",
      "text/html": "<div>\n<style scoped>\n    .dataframe tbody tr th:only-of-type {\n        vertical-align: middle;\n    }\n\n    .dataframe tbody tr th {\n        vertical-align: top;\n    }\n\n    .dataframe thead th {\n        text-align: right;\n    }\n</style>\n<table border=\"1\" class=\"dataframe\">\n  <thead>\n    <tr style=\"text-align: right;\">\n      <th></th>\n      <th>transmission</th>\n      <th>trans</th>\n    </tr>\n  </thead>\n  <tbody>\n    <tr>\n      <th>0</th>\n      <td>Manual (5-Speed)</td>\n      <td>manual</td>\n    </tr>\n    <tr>\n      <th>1</th>\n      <td>Automatic (CVT)</td>\n      <td>automatic</td>\n    </tr>\n    <tr>\n      <th>2</th>\n      <td>Automatic (6-Speed)</td>\n      <td>automatic</td>\n    </tr>\n    <tr>\n      <th>3</th>\n      <td>Automatic (7-Speed)</td>\n      <td>automatic</td>\n    </tr>\n    <tr>\n      <th>4</th>\n      <td>Manual (5-Speed)</td>\n      <td>manual</td>\n    </tr>\n    <tr>\n      <th>...</th>\n      <td>...</td>\n      <td>...</td>\n    </tr>\n    <tr>\n      <th>9958</th>\n      <td>Manual (5-speed)</td>\n      <td>manual</td>\n    </tr>\n    <tr>\n      <th>9959</th>\n      <td>Manual (4-speed)</td>\n      <td>manual</td>\n    </tr>\n    <tr>\n      <th>9960</th>\n      <td>Manual (6-speed)</td>\n      <td>manual</td>\n    </tr>\n    <tr>\n      <th>9961</th>\n      <td>Automatic (7-speed MCT)</td>\n      <td>automatic</td>\n    </tr>\n    <tr>\n      <th>9962</th>\n      <td>Manual (5-speed)</td>\n      <td>manual</td>\n    </tr>\n  </tbody>\n</table>\n<p>9963 rows × 2 columns</p>\n</div>"
     },
     "execution_count": 288,
     "metadata": {},
     "output_type": "execute_result"
    }
   ],
   "source": [
    "# engineering a binary variable to indicate whether the car in the listing has an automatic or manual gearbox\n",
    "cars_df[\"trans\"] = np.where(cars_df[\"transmission\"].str.lower().str.contains(\"manual\"), \"manual\", \"automatic\")\n",
    "cars_df[\"trans\"].value_counts()\n",
    "cars_df[\"trans\"].isna().sum()\n",
    "cars_df[[\"transmission\", \"trans\"]] # looks good"
   ],
   "metadata": {
    "collapsed": false
   }
  },
  {
   "cell_type": "markdown",
   "source": [
    "### Cleaning the 'body_style' feature\n",
    "- predefined value entered by the site, should be clean"
   ],
   "metadata": {
    "collapsed": false
   }
  },
  {
   "cell_type": "code",
   "execution_count": 305,
   "outputs": [
    {
     "data": {
      "text/plain": "Coupe            2385\nSedan            2339\nSUV/Crossover    1772\nConvertible      1677\nTruck             610\nWagon             573\nHatchback         450\nVan/Minivan       157\nName: body_style, dtype: int64"
     },
     "execution_count": 305,
     "metadata": {},
     "output_type": "execute_result"
    }
   ],
   "source": [
    "cars_df[\"body_style\"].value_counts()\n",
    "# 8 body styles"
   ],
   "metadata": {
    "collapsed": false
   }
  },
  {
   "cell_type": "code",
   "execution_count": 306,
   "outputs": [
    {
     "data": {
      "text/plain": "<AxesSubplot:xlabel='body_style', ylabel='count'>"
     },
     "execution_count": 306,
     "metadata": {},
     "output_type": "execute_result"
    },
    {
     "data": {
      "text/plain": "<Figure size 720x360 with 1 Axes>",
      "image/png": "[encoded data removed]"
     },
     "metadata": {},
     "output_type": "display_data"
    }
   ],
   "source": [
    "# ploting the body style counts\n",
    "sns.set(rc={'figure.figsize':(10,5)}) # enlarging the plot so x-axis is legible (width 20, height 15)\n",
    "sns.countplot(data = cars_df, x = \"body_style\")"
   ],
   "metadata": {
    "collapsed": false
   }
  },
  {
   "cell_type": "markdown",
   "source": [
    "# Cleaning the 'seller_type' feature"
   ],
   "metadata": {
    "collapsed": false
   }
  },
  {
   "cell_type": "code",
   "execution_count": 308,
   "outputs": [
    {
     "data": {
      "text/plain": "Private Party                                 7932\nDealer                                        1760\nDealer ($40 Temporary Tag)                      15\nDealer ($40 Temp Tag)                           13\nPrivate Party (Lien on title)                   10\n                                              ... \nDealer ($99 Fee for California Buyers)           1\nDealer (GA Sales Tax + $137 Temporary Tag)       1\nDealer ($99 Document Fee)                        1\nDealer ($250)                                    1\nDealer (Sales Tax & Title Fees)                  1\nName: seller_type, Length: 166, dtype: int64"
     },
     "execution_count": 308,
     "metadata": {},
     "output_type": "execute_result"
    }
   ],
   "source": [
    "cars_df[\"seller_type\"].value_counts()\n",
    "# only two root types of sellers, private party and dealer\n",
    "# some dealers have stipulations attached to the sale, hence the inflated number of categories\n",
    "# the overwhelming majority are private party sellers"
   ],
   "metadata": {
    "collapsed": false
   }
  },
  {
   "cell_type": "code",
   "execution_count": 309,
   "outputs": [
    {
     "data": {
      "text/plain": "private    7947\ndealer     2016\nName: seller, dtype: int64"
     },
     "execution_count": 309,
     "metadata": {},
     "output_type": "execute_result"
    }
   ],
   "source": [
    "# engineering a binary feature from seller_type with values (Private, Dealer)\n",
    "cars_df[\"seller\"] = np.where(cars_df[\"seller_type\"].str.lower().str.contains(\"private\"), \"private\", \"dealer\")\n",
    "cars_df[\"seller\"].value_counts() # good"
   ],
   "metadata": {
    "collapsed": false
   }
  },
  {
   "cell_type": "code",
   "execution_count": 315,
   "outputs": [
    {
     "data": {
      "text/plain": "<AxesSubplot:xlabel='seller', ylabel='count'>"
     },
     "execution_count": 315,
     "metadata": {},
     "output_type": "execute_result"
    },
    {
     "data": {
      "text/plain": "<Figure size 720x360 with 1 Axes>",
      "image/png": "[encoded data removed]"
     },
     "metadata": {},
     "output_type": "display_data"
    }
   ],
   "source": [
    "sns.countplot(data = cars_df, x = \"seller\")"
   ],
   "metadata": {
    "collapsed": false
   }
  },
  {
   "cell_type": "markdown",
   "source": [
    "### Cleaning the car \"year\" column"
   ],
   "metadata": {
    "collapsed": false
   }
  },
  {
   "cell_type": "code",
   "execution_count": 0,
   "outputs": [],
   "source": [
    "# viewing summary statistics for the year feature\n",
    "cars_df[\"year\"].describe()"
   ],
   "metadata": {
    "collapsed": false
   }
  },
  {
   "cell_type": "code",
   "execution_count": 321,
   "outputs": [
    {
     "data": {
      "text/plain": "2008        461\n2006        436\n2004        412\n2003        388\n2007        384\n2005        376\n2013        366\n2001        359\n2016        350\n2002        338\n2015        327\n2014        323\n2000        318\n2011        311\n2017        310\n2018        277\n1995        273\n2012        263\n1999        250\n1994        236\n2022        229\n2009        228\n1996        227\n2019        219\n2010        211\n1997        201\n1991        187\n2021        183\n1992        176\n2020        167\n1993        161\n1990        159\n1998        157\n1989        117\n1988        115\n1986        107\n1987        106\n1985         74\n1984         56\n1982         43\n1983         42\n1981         27\n2023         12\nconsumer      1\nName: year, dtype: int64"
     },
     "execution_count": 321,
     "metadata": {},
     "output_type": "execute_result"
    }
   ],
   "source": [
    "cars_df[\"year\"].value_counts()\n",
    "# only one strange record where \"year\" == 'consumer'"
   ],
   "metadata": {
    "collapsed": false
   }
  },
  {
   "cell_type": "code",
   "execution_count": 331,
   "outputs": [
    {
     "data": {
      "text/plain": "Empty DataFrame\nColumns: [make, model, mileage, vin, title_status, location, seller, engine, drivetrain, transmission, body_style, exterior_color, interior_color, seller_type, url, id, year, price, auction_outcome, bid_count, reserve_status, num_views, end_datetime, num_photos, model_clean, id_split, mileage_clean, title, trans, trans2]\nIndex: []\n\n[0 rows x 30 columns]",
      "text/html": "<div>\n<style scoped>\n    .dataframe tbody tr th:only-of-type {\n        vertical-align: middle;\n    }\n\n    .dataframe tbody tr th {\n        vertical-align: top;\n    }\n\n    .dataframe thead th {\n        text-align: right;\n    }\n</style>\n<table border=\"1\" class=\"dataframe\">\n  <thead>\n    <tr style=\"text-align: right;\">\n      <th></th>\n      <th>make</th>\n      <th>model</th>\n      <th>mileage</th>\n      <th>vin</th>\n      <th>title_status</th>\n      <th>location</th>\n      <th>seller</th>\n      <th>engine</th>\n      <th>drivetrain</th>\n      <th>transmission</th>\n      <th>...</th>\n      <th>reserve_status</th>\n      <th>num_views</th>\n      <th>end_datetime</th>\n      <th>num_photos</th>\n      <th>model_clean</th>\n      <th>id_split</th>\n      <th>mileage_clean</th>\n      <th>title</th>\n      <th>trans</th>\n      <th>trans2</th>\n    </tr>\n  </thead>\n  <tbody>\n  </tbody>\n</table>\n<p>0 rows × 30 columns</p>\n</div>"
     },
     "execution_count": 331,
     "metadata": {},
     "output_type": "execute_result"
    }
   ],
   "source": [
    "cars_df[cars_df[\"year\"] == 'consumer'] # extremely odd record, no year info to be found when accessing the URL\n",
    "cars_df = cars_df[cars_df[\"year\"] != 'consumer'] # removing the record\n",
    "cars_df[cars_df[\"year\"] == 'consumer'] # removed"
   ],
   "metadata": {
    "collapsed": false
   }
  },
  {
   "cell_type": "code",
   "execution_count": 332,
   "outputs": [
    {
     "data": {
      "text/plain": "'2023'"
     },
     "execution_count": 332,
     "metadata": {},
     "output_type": "execute_result"
    }
   ],
   "source": [
    "# viewing the most recent year from the listings\n",
    "cars_df[\"year\"].max()"
   ],
   "metadata": {
    "collapsed": false
   }
  },
  {
   "cell_type": "code",
   "execution_count": 333,
   "outputs": [
    {
     "data": {
      "text/plain": "'1981'"
     },
     "execution_count": 333,
     "metadata": {},
     "output_type": "execute_result"
    }
   ],
   "source": [
    "# viewing the earliest year from the listings\n",
    "cars_df[\"year\"].min()"
   ],
   "metadata": {
    "collapsed": false
   }
  },
  {
   "cell_type": "code",
   "execution_count": 349,
   "outputs": [
    {
     "data": {
      "text/plain": "<AxesSubplot:xlabel='year', ylabel='count'>"
     },
     "execution_count": 349,
     "metadata": {},
     "output_type": "execute_result"
    },
    {
     "data": {
      "text/plain": "<Figure size 1440x720 with 1 Axes>",
      "image/png": "[encoded data removed]"
     },
     "metadata": {},
     "output_type": "display_data"
    }
   ],
   "source": [
    "# plotting the distribution of car years\n",
    "sns.set(rc={'figure.figsize':(20,10)})\n",
    "sns.countplot(data = cars_df.sort_values(\"year\"), x = \"year\", color = \"darkred\") # lots of records from the mid 2000s\n",
    "# TODO keep 'year' categorical or make it numeric?"
   ],
   "metadata": {
    "collapsed": false
   }
  },
  {
   "cell_type": "markdown",
   "source": [
    "### Cleaning the auction_outcome column\n",
    "- engineering new feature \"outcome\" which will take the values (\"not sold\", \"sold\")\n",
    "- Only listings that sold will be used in modeling, 'reserve not met' listings will be useful for vis"
   ],
   "metadata": {
    "collapsed": false
   }
  },
  {
   "cell_type": "code",
   "execution_count": 355,
   "outputs": [
    {
     "data": {
      "text/plain": "Reserve not met, bid to     2028\nSold toAoC93                  42\nSold tosellmeanother1975      38\nSold toDiamondMotorworks      29\nSold toiamRonin               28\n                            ... \nSold toThePuller               1\nSold toreggie5500              1\nSold toeswack6                 1\nSold toWaj90210                1\nSold toECRacer                 1\nName: auction_outcome, Length: 6692, dtype: int64"
     },
     "execution_count": 355,
     "metadata": {},
     "output_type": "execute_result"
    }
   ],
   "source": [
    "cars_df[\"auction_outcome\"].value_counts()"
   ],
   "metadata": {
    "collapsed": false
   }
  },
  {
   "cell_type": "code",
   "execution_count": 356,
   "outputs": [],
   "source": [
    "# creating the 'outcome' column\n",
    "cars_df[\"outcome\"] = np.where(cars_df[\"auction_outcome\"].str.lower().str.contains(\"reserve not met\"), \"not sold\", \"sold\")"
   ],
   "metadata": {
    "collapsed": false
   }
  },
  {
   "cell_type": "code",
   "execution_count": 357,
   "outputs": [
    {
     "data": {
      "text/plain": "sold        7934\nnot sold    2028\nName: outcome, dtype: int64"
     },
     "execution_count": 357,
     "metadata": {},
     "output_type": "execute_result"
    }
   ],
   "source": [
    "cars_df[\"outcome\"].value_counts() # clean"
   ],
   "metadata": {
    "collapsed": false
   }
  },
  {
   "cell_type": "markdown",
   "source": [
    "### Cleaning the 'bid_count' feature"
   ],
   "metadata": {
    "collapsed": false
   }
  },
  {
   "cell_type": "code",
   "execution_count": 358,
   "outputs": [
    {
     "data": {
      "text/plain": "count    9962.000000\nmean       28.311785\nstd        13.447805\nmin         1.000000\n25%        18.000000\n50%        27.000000\n75%        37.000000\nmax       139.000000\nName: bid_count, dtype: float64"
     },
     "execution_count": 358,
     "metadata": {},
     "output_type": "execute_result"
    }
   ],
   "source": [
    "cars_df[\"bid_count\"].describe() #clean"
   ],
   "metadata": {
    "collapsed": false
   }
  },
  {
   "cell_type": "markdown",
   "source": [
    "### Cleaning the 'reserve_status' feature"
   ],
   "metadata": {
    "collapsed": false
   }
  },
  {
   "cell_type": "code",
   "execution_count": 360,
   "outputs": [
    {
     "data": {
      "text/plain": "Reserve       6007\nNo reserve    3955\nName: reserve_status, dtype: int64"
     },
     "execution_count": 360,
     "metadata": {},
     "output_type": "execute_result"
    }
   ],
   "source": [
    "cars_df[\"reserve_status\"].value_counts() #clean"
   ],
   "metadata": {
    "collapsed": false
   }
  },
  {
   "cell_type": "markdown",
   "source": [
    "### Cleaning the 'num_views' feature\n",
    "- imputing values for the missing data in case the feature proves useful"
   ],
   "metadata": {
    "collapsed": false
   }
  },
  {
   "cell_type": "code",
   "execution_count": 370,
   "outputs": [
    {
     "data": {
      "text/plain": "<AxesSubplot:xlabel='num_views'>"
     },
     "execution_count": 370,
     "metadata": {},
     "output_type": "execute_result"
    },
    {
     "data": {
      "text/plain": "<Figure size 432x288 with 1 Axes>",
      "image/png": "[encoded data removed]"
     },
     "metadata": {
      "needs_background": "light"
     },
     "output_type": "display_data"
    }
   ],
   "source": [
    "cars_df[\"num_views\"].describe()\n",
    "sns.boxplot(data = cars_df, x = \"num_views\")"
   ],
   "metadata": {
    "collapsed": false
   }
  },
  {
   "cell_type": "code",
   "execution_count": 373,
   "outputs": [
    {
     "data": {
      "text/plain": "0        9032.0\n1        7275.0\n2       10609.0\n3       10057.0\n4        5528.0\n         ...   \n9958     9539.5\n9959     9539.5\n9960     9539.5\n9961     9539.5\n9962     9539.5\nName: num_views, Length: 9962, dtype: float64"
     },
     "execution_count": 373,
     "metadata": {},
     "output_type": "execute_result"
    }
   ],
   "source": [
    "# using median value imputation to impute the missing values for num_views--the number of views a listing page receives\n",
    "# median was chosen because of the large number of outliers skewing the mean\n",
    "cars_df[\"num_views\"].fillna(cars_df[\"num_views\"].median())"
   ],
   "metadata": {
    "collapsed": false
   }
  },
  {
   "cell_type": "markdown",
   "source": [
    "### Changing the auction end format to datetime"
   ],
   "metadata": {
    "collapsed": false
   }
  },
  {
   "cell_type": "code",
   "execution_count": null,
   "outputs": [],
   "source": [
    "# using pd.to_datetime on the end_datetime column. Date format from the scrape is standardized and the time zone is present\n",
    "cars_df[\"end_datetime\"] = pd.to_datetime(cars_df[\"end_datetime\"])\n",
    "cars_df[cars_df[\"end_datetime\"].isna()] # no missing valuesb"
   ],
   "metadata": {
    "collapsed": false
   }
  },
  {
   "cell_type": "code",
   "execution_count": 242,
   "outputs": [
    {
     "data": {
      "text/plain": "count                                   9963\nmean     2021-11-14 08:23:15.194218496-05:00\nmin                2020-06-15 12:00:00-04:00\n25%                2021-05-13 13:39:30-04:00\n50%                2021-11-30 15:33:00-05:00\n75%                2022-06-14 14:24:30-04:00\nmax                2022-11-18 15:50:00-05:00\nName: end_datetime, dtype: object"
     },
     "execution_count": 242,
     "metadata": {},
     "output_type": "execute_result"
    }
   ],
   "source": [
    "# checking summary statistics for the auction dates\n",
    "cars_df[\"end_datetime\"].describe(datetime_is_numeric = True) # great datetime handling from describe btw\n",
    "# earliest auction was June 15, 2020--site has been live for a little over 2 years"
   ],
   "metadata": {
    "collapsed": false
   }
  },
  {
   "cell_type": "code",
   "execution_count": 256,
   "outputs": [
    {
     "name": "stdout",
     "output_type": "stream",
     "text": [
      "The listings span 886 days 04:50:00 or 29 months\n"
     ]
    }
   ],
   "source": [
    "# checking the total range of dates from earliest to most recent listing\n",
    "days_span = cars_df[\"end_datetime\"].max() - cars_df[\"end_datetime\"].min()\n",
    "months_span = len(pd.date_range(start=cars_df[\"end_datetime\"].min(),end=cars_df[\"end_datetime\"].max(),freq='M'))\n",
    "\n",
    "print(f\"The listings span {days_span} or {months_span} months\")\n",
    "# plot the distribution with monthly breaks (29 breaks)"
   ],
   "metadata": {
    "collapsed": false
   }
  },
  {
   "cell_type": "code",
   "execution_count": 257,
   "outputs": [
    {
     "data": {
      "text/plain": "<AxesSubplot:xlabel='end_datetime', ylabel='Count'>"
     },
     "execution_count": 257,
     "metadata": {},
     "output_type": "execute_result"
    },
    {
     "data": {
      "text/plain": "<Figure size 1296x792 with 1 Axes>",
      "image/png": "[encoded data removed]"
     },
     "metadata": {},
     "output_type": "display_data"
    }
   ],
   "source": [
    "# plotting the distribution over time\n",
    "sns.set(rc={'figure.figsize':(18,11)}) # enlarging the plot so x-axis is legible\n",
    "sns.histplot(cars_df[\"end_datetime\"], kde=True, bins = 29)"
   ],
   "metadata": {
    "collapsed": false
   }
  },
  {
   "cell_type": "markdown",
   "source": [
    "### Cleaning the 'num_photos' feature"
   ],
   "metadata": {
    "collapsed": false
   }
  },
  {
   "cell_type": "code",
   "execution_count": 374,
   "outputs": [
    {
     "data": {
      "text/plain": "count    9962.000000\nmean      116.972295\nstd        46.757421\nmin        37.000000\n25%        83.000000\n50%       106.000000\n75%       140.000000\nmax       443.000000\nName: num_photos, dtype: float64"
     },
     "execution_count": 374,
     "metadata": {},
     "output_type": "execute_result"
    }
   ],
   "source": [
    "cars_df[\"num_photos\"].describe() # clean, no missing values"
   ],
   "metadata": {
    "collapsed": false
   }
  },
  {
   "cell_type": "markdown",
   "source": [],
   "metadata": {
    "collapsed": false
   }
  },
  {
   "cell_type": "markdown",
   "source": [],
   "metadata": {
    "collapsed": false
   }
  }
 ],
 "metadata": {
  "kernelspec": {
   "display_name": "Python 3",
   "language": "python",
   "name": "python3"
  },
  "language_info": {
   "codemirror_mode": {
    "name": "ipython",
    "version": 2
   },
   "file_extension": ".py",
   "mimetype": "text/x-python",
   "name": "python",
   "nbconvert_exporter": "python",
   "pygments_lexer": "ipython2",
   "version": "2.7.6"
  }
 },
 "nbformat": 4,
 "nbformat_minor": 0
}
