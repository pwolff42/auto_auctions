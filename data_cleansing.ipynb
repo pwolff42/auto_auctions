{
 "cells": [
  {
   "cell_type": "markdown",
   "source": [
    "# Cars&Bids dataset Data Cleaning and EDA"
   ],
   "metadata": {
    "collapsed": false
   }
  },
  {
   "cell_type": "code",
   "execution_count": 2,
   "metadata": {
    "collapsed": true
   },
   "outputs": [],
   "source": [
    "import pandas as pd\n",
    "import re\n",
    "import matplotlib.pyplot as plt\n",
    "import seaborn as sns"
   ]
  },
  {
   "cell_type": "code",
   "execution_count": 3,
   "outputs": [],
   "source": [
    "# pointing to the copy of the data\n",
    "\n",
    "file_path = 'path to your data goes here'\n",
    "\n",
    "cars_df = pd.read_csv(file_path)"
   ],
   "metadata": {
    "collapsed": false
   }
  },
  {
   "cell_type": "code",
   "execution_count": 4,
   "outputs": [
    {
     "data": {
      "text/plain": "      Make         Model  Mileage                VIN Title Status  \\\n0     Audi        S6Save  288,200  WAULA84A5SN121685   Clean (NC)   \n1     Ford  MaverickSave      200  3FTTW8E3XNRA95168   Clean (CA)   \n2   Nissan      GT-RSave   39,500  JN1AR5EF5GM290729   Clean (MD)   \n3     Audi        R8Save   10,400  WUABAAFX9J7902416   Clean (CA)   \n4  Porsche   BoxsterSave   55,400  WP0CA298X7U710301   Clean (IL)   \n\n                  Location        Seller                Engine  \\\n0        Raleigh, NC 27609  rustyone2022  2.2L Turbocharged I5   \n1        La Mesa, CA 91942     carDaveSD        2.5L Hybrid I4   \n2  Silver Spring, MD 20906      Fainmous  3.8L Turbocharged V6   \n3       Temecula, CA 92592    Dustin1116              5.2L V10   \n4   Carol Stream, IL 60188    4wheels4me           2.7L Flat-6   \n\n          Drivetrain         Transmission  ...  \\\n0            4WD/AWD     Manual (5-Speed)  ...   \n1  Front-wheel drive      Automatic (CVT)  ...   \n2            4WD/AWD  Automatic (6-Speed)  ...   \n3   Rear-wheel drive  Automatic (7-Speed)  ...   \n4   Rear-wheel drive     Manual (5-Speed)  ...   \n\n                                                 URL  \\\n0  https://carsandbids.com/auctions/rxk84RwQ/1995...   \n1  https://carsandbids.com/auctions/rGN6Z7Q2/2022...   \n2  https://carsandbids.com/auctions/9WbPwOYQ/2016...   \n3  https://carsandbids.com/auctions/9X6kNN0x/2018...   \n4  https://carsandbids.com/auctions/KmmyjVYY/2007...   \n\n                           id  year   price      auction_outcome bid_count  \\\n0          1995-audi-s6-avant  1995    7700   Sold toTommyCarDoc        33   \n1      2022-ford-maverick-xlt  2022   29875   Sold toBluejeansjj        13   \n2    2016-nissan-gt-r-premium  2016   68000  Sold toMtnRunner784        26   \n3  2018-audi-r8-v10-coupe-rws  2018  135000       Sold tod_p_mac        26   \n4        2007-porsche-boxster  2007   21000    Sold toLetsbuyone        22   \n\n  reserve_status  num_views              end_datetime  num_photos  \n0     No reserve     9032.0  Nov 18, 2022 3:49 PM EST          72  \n1        Reserve     7275.0  Nov 18, 2022 1:51 PM EST          74  \n2        Reserve    10609.0  Nov 17, 2022 3:59 PM EST          51  \n3        Reserve    10057.0  Nov 17, 2022 1:54 PM EST          62  \n4        Reserve     5528.0  Nov 17, 2022 2:05 PM EST          99  \n\n[5 rows x 24 columns]",
      "text/html": "<div>\n<style scoped>\n    .dataframe tbody tr th:only-of-type {\n        vertical-align: middle;\n    }\n\n    .dataframe tbody tr th {\n        vertical-align: top;\n    }\n\n    .dataframe thead th {\n        text-align: right;\n    }\n</style>\n<table border=\"1\" class=\"dataframe\">\n  <thead>\n    <tr style=\"text-align: right;\">\n      <th></th>\n      <th>Make</th>\n      <th>Model</th>\n      <th>Mileage</th>\n      <th>VIN</th>\n      <th>Title Status</th>\n      <th>Location</th>\n      <th>Seller</th>\n      <th>Engine</th>\n      <th>Drivetrain</th>\n      <th>Transmission</th>\n      <th>...</th>\n      <th>URL</th>\n      <th>id</th>\n      <th>year</th>\n      <th>price</th>\n      <th>auction_outcome</th>\n      <th>bid_count</th>\n      <th>reserve_status</th>\n      <th>num_views</th>\n      <th>end_datetime</th>\n      <th>num_photos</th>\n    </tr>\n  </thead>\n  <tbody>\n    <tr>\n      <th>0</th>\n      <td>Audi</td>\n      <td>S6Save</td>\n      <td>288,200</td>\n      <td>WAULA84A5SN121685</td>\n      <td>Clean (NC)</td>\n      <td>Raleigh, NC 27609</td>\n      <td>rustyone2022</td>\n      <td>2.2L Turbocharged I5</td>\n      <td>4WD/AWD</td>\n      <td>Manual (5-Speed)</td>\n      <td>...</td>\n      <td>https://carsandbids.com/auctions/rxk84RwQ/1995...</td>\n      <td>1995-audi-s6-avant</td>\n      <td>1995</td>\n      <td>7700</td>\n      <td>Sold toTommyCarDoc</td>\n      <td>33</td>\n      <td>No reserve</td>\n      <td>9032.0</td>\n      <td>Nov 18, 2022 3:49 PM EST</td>\n      <td>72</td>\n    </tr>\n    <tr>\n      <th>1</th>\n      <td>Ford</td>\n      <td>MaverickSave</td>\n      <td>200</td>\n      <td>3FTTW8E3XNRA95168</td>\n      <td>Clean (CA)</td>\n      <td>La Mesa, CA 91942</td>\n      <td>carDaveSD</td>\n      <td>2.5L Hybrid I4</td>\n      <td>Front-wheel drive</td>\n      <td>Automatic (CVT)</td>\n      <td>...</td>\n      <td>https://carsandbids.com/auctions/rGN6Z7Q2/2022...</td>\n      <td>2022-ford-maverick-xlt</td>\n      <td>2022</td>\n      <td>29875</td>\n      <td>Sold toBluejeansjj</td>\n      <td>13</td>\n      <td>Reserve</td>\n      <td>7275.0</td>\n      <td>Nov 18, 2022 1:51 PM EST</td>\n      <td>74</td>\n    </tr>\n    <tr>\n      <th>2</th>\n      <td>Nissan</td>\n      <td>GT-RSave</td>\n      <td>39,500</td>\n      <td>JN1AR5EF5GM290729</td>\n      <td>Clean (MD)</td>\n      <td>Silver Spring, MD 20906</td>\n      <td>Fainmous</td>\n      <td>3.8L Turbocharged V6</td>\n      <td>4WD/AWD</td>\n      <td>Automatic (6-Speed)</td>\n      <td>...</td>\n      <td>https://carsandbids.com/auctions/9WbPwOYQ/2016...</td>\n      <td>2016-nissan-gt-r-premium</td>\n      <td>2016</td>\n      <td>68000</td>\n      <td>Sold toMtnRunner784</td>\n      <td>26</td>\n      <td>Reserve</td>\n      <td>10609.0</td>\n      <td>Nov 17, 2022 3:59 PM EST</td>\n      <td>51</td>\n    </tr>\n    <tr>\n      <th>3</th>\n      <td>Audi</td>\n      <td>R8Save</td>\n      <td>10,400</td>\n      <td>WUABAAFX9J7902416</td>\n      <td>Clean (CA)</td>\n      <td>Temecula, CA 92592</td>\n      <td>Dustin1116</td>\n      <td>5.2L V10</td>\n      <td>Rear-wheel drive</td>\n      <td>Automatic (7-Speed)</td>\n      <td>...</td>\n      <td>https://carsandbids.com/auctions/9X6kNN0x/2018...</td>\n      <td>2018-audi-r8-v10-coupe-rws</td>\n      <td>2018</td>\n      <td>135000</td>\n      <td>Sold tod_p_mac</td>\n      <td>26</td>\n      <td>Reserve</td>\n      <td>10057.0</td>\n      <td>Nov 17, 2022 1:54 PM EST</td>\n      <td>62</td>\n    </tr>\n    <tr>\n      <th>4</th>\n      <td>Porsche</td>\n      <td>BoxsterSave</td>\n      <td>55,400</td>\n      <td>WP0CA298X7U710301</td>\n      <td>Clean (IL)</td>\n      <td>Carol Stream, IL 60188</td>\n      <td>4wheels4me</td>\n      <td>2.7L Flat-6</td>\n      <td>Rear-wheel drive</td>\n      <td>Manual (5-Speed)</td>\n      <td>...</td>\n      <td>https://carsandbids.com/auctions/KmmyjVYY/2007...</td>\n      <td>2007-porsche-boxster</td>\n      <td>2007</td>\n      <td>21000</td>\n      <td>Sold toLetsbuyone</td>\n      <td>22</td>\n      <td>Reserve</td>\n      <td>5528.0</td>\n      <td>Nov 17, 2022 2:05 PM EST</td>\n      <td>99</td>\n    </tr>\n  </tbody>\n</table>\n<p>5 rows × 24 columns</p>\n</div>"
     },
     "execution_count": 4,
     "metadata": {},
     "output_type": "execute_result"
    }
   ],
   "source": [
    "# checking the top of the dataset\n",
    "cars_df.head()"
   ],
   "metadata": {
    "collapsed": false
   }
  },
  {
   "cell_type": "code",
   "execution_count": 5,
   "outputs": [
    {
     "data": {
      "text/plain": "               Make             Model  Mileage                VIN  \\\n9958     Land Rover      DefenderSave   47,316  SALLDHMV8LA930542   \n9959         Toyota  Land CruiserSave  117,273  JT3FJ60G6E1116896   \n9960           Ford      Focus STSave   44,388  1FADP3L97HL307089   \n9961  Mercedes-Benz    CLS 63 AMGSave   28,927  WDDLJ7GB6EA106020   \n9962         Toyota           MR2Save   83,538  JT2AW15C7F0033655   \n\n     Title Status                Location            Seller  \\\n9958   Clean (SC)    Charleston, SC 29414      RelicImports   \n9959   Clean (CO)        Denver, CO 80206             would   \n9960   Clean (OH)    Cincinnati, OH 41075       WillSanders   \n9961   Clean (NC)  Jacksonville, FL 32207         pinmaniac   \n9962   Clean (PA)      Fairview, PA 16415  itwontstopsnowin   \n\n                         Engine         Drivetrain             Transmission  \\\n9958                    3.5L V8            4WD/AWD         Manual (5-speed)   \n9959                    4.2L I6            4WD/AWD         Manual (4-speed)   \n9960       2.0L Turbocharged I4  Front-wheel drive         Manual (6-speed)   \n9961  5.5L Twin-Turbocharged V8            4WD/AWD  Automatic (7-speed MCT)   \n9962                    1.6L I4   Rear-wheel drive         Manual (5-speed)   \n\n      ...                                                URL  \\\n9958  ...  https://carsandbids.com/auctions/9nbW8GPJ/1994...   \n9959  ...  https://carsandbids.com/auctions/KVGJe7BP/1984...   \n9960  ...  https://carsandbids.com/auctions/rkJ5jd4g/2017...   \n9961  ...  https://carsandbids.com/auctions/rjpanxeY/2014...   \n9962  ...  https://carsandbids.com/auctions/9XNWwoxg/1985...   \n\n                                      id  year  price  \\\n9958  1994-land-rover-defender-6-wheeler  1994  32000   \n9959            1984-toyota-land-cruiser  1984  15000   \n9960                  2017-ford-focus-st  2017  16500   \n9961      2014-mercedes-benz-cls63-amg-s  2014  37750   \n9962                     1985-toyota-mr2  1985   6800   \n\n              auction_outcome bid_count reserve_status  num_views  \\\n9958  Reserve not met, bid to        44        Reserve        NaN   \n9959    Sold topetercpeterson        38        Reserve        NaN   \n9960   Sold toThis_is_Defkidd        47        Reserve        NaN   \n9961         Sold toHeavenFox        29        Reserve        NaN   \n9962           Sold toECRacer        18        Reserve        NaN   \n\n                  end_datetime  num_photos  \n9958  Jun 15, 2020 2:02 PM EDT         161  \n9959  Jun 16, 2020 1:06 PM EDT          65  \n9960  Jun 23, 2020 1:07 PM EDT          82  \n9961  Jun 23, 2020 2:02 PM EDT          72  \n9962  Jun 18, 2020 1:01 PM EDT          93  \n\n[5 rows x 24 columns]",
      "text/html": "<div>\n<style scoped>\n    .dataframe tbody tr th:only-of-type {\n        vertical-align: middle;\n    }\n\n    .dataframe tbody tr th {\n        vertical-align: top;\n    }\n\n    .dataframe thead th {\n        text-align: right;\n    }\n</style>\n<table border=\"1\" class=\"dataframe\">\n  <thead>\n    <tr style=\"text-align: right;\">\n      <th></th>\n      <th>Make</th>\n      <th>Model</th>\n      <th>Mileage</th>\n      <th>VIN</th>\n      <th>Title Status</th>\n      <th>Location</th>\n      <th>Seller</th>\n      <th>Engine</th>\n      <th>Drivetrain</th>\n      <th>Transmission</th>\n      <th>...</th>\n      <th>URL</th>\n      <th>id</th>\n      <th>year</th>\n      <th>price</th>\n      <th>auction_outcome</th>\n      <th>bid_count</th>\n      <th>reserve_status</th>\n      <th>num_views</th>\n      <th>end_datetime</th>\n      <th>num_photos</th>\n    </tr>\n  </thead>\n  <tbody>\n    <tr>\n      <th>9958</th>\n      <td>Land Rover</td>\n      <td>DefenderSave</td>\n      <td>47,316</td>\n      <td>SALLDHMV8LA930542</td>\n      <td>Clean (SC)</td>\n      <td>Charleston, SC 29414</td>\n      <td>RelicImports</td>\n      <td>3.5L V8</td>\n      <td>4WD/AWD</td>\n      <td>Manual (5-speed)</td>\n      <td>...</td>\n      <td>https://carsandbids.com/auctions/9nbW8GPJ/1994...</td>\n      <td>1994-land-rover-defender-6-wheeler</td>\n      <td>1994</td>\n      <td>32000</td>\n      <td>Reserve not met, bid to</td>\n      <td>44</td>\n      <td>Reserve</td>\n      <td>NaN</td>\n      <td>Jun 15, 2020 2:02 PM EDT</td>\n      <td>161</td>\n    </tr>\n    <tr>\n      <th>9959</th>\n      <td>Toyota</td>\n      <td>Land CruiserSave</td>\n      <td>117,273</td>\n      <td>JT3FJ60G6E1116896</td>\n      <td>Clean (CO)</td>\n      <td>Denver, CO 80206</td>\n      <td>would</td>\n      <td>4.2L I6</td>\n      <td>4WD/AWD</td>\n      <td>Manual (4-speed)</td>\n      <td>...</td>\n      <td>https://carsandbids.com/auctions/KVGJe7BP/1984...</td>\n      <td>1984-toyota-land-cruiser</td>\n      <td>1984</td>\n      <td>15000</td>\n      <td>Sold topetercpeterson</td>\n      <td>38</td>\n      <td>Reserve</td>\n      <td>NaN</td>\n      <td>Jun 16, 2020 1:06 PM EDT</td>\n      <td>65</td>\n    </tr>\n    <tr>\n      <th>9960</th>\n      <td>Ford</td>\n      <td>Focus STSave</td>\n      <td>44,388</td>\n      <td>1FADP3L97HL307089</td>\n      <td>Clean (OH)</td>\n      <td>Cincinnati, OH 41075</td>\n      <td>WillSanders</td>\n      <td>2.0L Turbocharged I4</td>\n      <td>Front-wheel drive</td>\n      <td>Manual (6-speed)</td>\n      <td>...</td>\n      <td>https://carsandbids.com/auctions/rkJ5jd4g/2017...</td>\n      <td>2017-ford-focus-st</td>\n      <td>2017</td>\n      <td>16500</td>\n      <td>Sold toThis_is_Defkidd</td>\n      <td>47</td>\n      <td>Reserve</td>\n      <td>NaN</td>\n      <td>Jun 23, 2020 1:07 PM EDT</td>\n      <td>82</td>\n    </tr>\n    <tr>\n      <th>9961</th>\n      <td>Mercedes-Benz</td>\n      <td>CLS 63 AMGSave</td>\n      <td>28,927</td>\n      <td>WDDLJ7GB6EA106020</td>\n      <td>Clean (NC)</td>\n      <td>Jacksonville, FL 32207</td>\n      <td>pinmaniac</td>\n      <td>5.5L Twin-Turbocharged V8</td>\n      <td>4WD/AWD</td>\n      <td>Automatic (7-speed MCT)</td>\n      <td>...</td>\n      <td>https://carsandbids.com/auctions/rjpanxeY/2014...</td>\n      <td>2014-mercedes-benz-cls63-amg-s</td>\n      <td>2014</td>\n      <td>37750</td>\n      <td>Sold toHeavenFox</td>\n      <td>29</td>\n      <td>Reserve</td>\n      <td>NaN</td>\n      <td>Jun 23, 2020 2:02 PM EDT</td>\n      <td>72</td>\n    </tr>\n    <tr>\n      <th>9962</th>\n      <td>Toyota</td>\n      <td>MR2Save</td>\n      <td>83,538</td>\n      <td>JT2AW15C7F0033655</td>\n      <td>Clean (PA)</td>\n      <td>Fairview, PA 16415</td>\n      <td>itwontstopsnowin</td>\n      <td>1.6L I4</td>\n      <td>Rear-wheel drive</td>\n      <td>Manual (5-speed)</td>\n      <td>...</td>\n      <td>https://carsandbids.com/auctions/9XNWwoxg/1985...</td>\n      <td>1985-toyota-mr2</td>\n      <td>1985</td>\n      <td>6800</td>\n      <td>Sold toECRacer</td>\n      <td>18</td>\n      <td>Reserve</td>\n      <td>NaN</td>\n      <td>Jun 18, 2020 1:01 PM EDT</td>\n      <td>93</td>\n    </tr>\n  </tbody>\n</table>\n<p>5 rows × 24 columns</p>\n</div>"
     },
     "execution_count": 5,
     "metadata": {},
     "output_type": "execute_result"
    }
   ],
   "source": [
    "# checking the bototm of the dataset, num_views is missing\n",
    "cars_df.tail()"
   ],
   "metadata": {
    "collapsed": false
   }
  },
  {
   "cell_type": "code",
   "execution_count": 6,
   "outputs": [
    {
     "data": {
      "text/plain": "Make                object\nModel               object\nMileage             object\nVIN                 object\nTitle Status        object\nLocation            object\nSeller              object\nEngine              object\nDrivetrain          object\nTransmission        object\nBody Style          object\nExterior Color      object\nInterior Color      object\nSeller Type         object\nURL                 object\nid                  object\nyear                object\nprice                int64\nauction_outcome     object\nbid_count            int64\nreserve_status      object\nnum_views          float64\nend_datetime        object\nnum_photos           int64\ndtype: object"
     },
     "execution_count": 6,
     "metadata": {},
     "output_type": "execute_result"
    }
   ],
   "source": [
    "#checking datatypes\n",
    "cars_df.dtypes"
   ],
   "metadata": {
    "collapsed": false
   }
  },
  {
   "cell_type": "code",
   "execution_count": 7,
   "outputs": [
    {
     "data": {
      "text/plain": "Make                  0\nModel                 0\nMileage               0\nVIN                   1\nTitle Status          0\nLocation              0\nSeller                0\nEngine                0\nDrivetrain            0\nTransmission          0\nBody Style            0\nExterior Color        0\nInterior Color        0\nSeller Type           0\nURL                   0\nid                    0\nyear                  0\nprice                 0\nauction_outcome       0\nbid_count             0\nreserve_status        0\nnum_views          1830\nend_datetime          0\nnum_photos            0\ndtype: int64"
     },
     "execution_count": 7,
     "metadata": {},
     "output_type": "execute_result"
    }
   ],
   "source": [
    "# checking for missing values\n",
    "cars_df.isnull().sum()\n",
    "# lots of null values in the num_views column--this was expected. Imputation could be a good idea here"
   ],
   "metadata": {
    "collapsed": false
   }
  },
  {
   "cell_type": "code",
   "execution_count": 101,
   "outputs": [
    {
     "name": "stdout",
     "output_type": "stream",
     "text": [
      "Help on function hist in module matplotlib.pyplot:\n",
      "\n",
      "hist(x, bins=None, range=None, density=False, weights=None, cumulative=False, bottom=None, histtype='bar', align='mid', orientation='vertical', rwidth=None, log=False, color=None, label=None, stacked=False, *, data=None, **kwargs)\n",
      "    Plot a histogram.\n",
      "    \n",
      "    Compute and draw the histogram of *x*.  The return value is a tuple\n",
      "    (*n*, *bins*, *patches*) or ([*n0*, *n1*, ...], *bins*, [*patches0*,\n",
      "    *patches1*, ...]) if the input contains multiple data.  See the\n",
      "    documentation of the *weights* parameter to draw a histogram of\n",
      "    already-binned data.\n",
      "    \n",
      "    Multiple data can be provided via *x* as a list of datasets\n",
      "    of potentially different length ([*x0*, *x1*, ...]), or as\n",
      "    a 2D ndarray in which each column is a dataset.  Note that\n",
      "    the ndarray form is transposed relative to the list form.\n",
      "    \n",
      "    Masked arrays are not supported.\n",
      "    \n",
      "    The *bins*, *range*, *weights*, and *density* parameters behave as in\n",
      "    `numpy.histogram`.\n",
      "    \n",
      "    Parameters\n",
      "    ----------\n",
      "    x : (n,) array or sequence of (n,) arrays\n",
      "        Input values, this takes either a single array or a sequence of\n",
      "        arrays which are not required to be of the same length.\n",
      "    \n",
      "    bins : int or sequence or str, default: :rc:`hist.bins`\n",
      "        If *bins* is an integer, it defines the number of equal-width bins\n",
      "        in the range.\n",
      "    \n",
      "        If *bins* is a sequence, it defines the bin edges, including the\n",
      "        left edge of the first bin and the right edge of the last bin;\n",
      "        in this case, bins may be unequally spaced.  All but the last\n",
      "        (righthand-most) bin is half-open.  In other words, if *bins* is::\n",
      "    \n",
      "            [1, 2, 3, 4]\n",
      "    \n",
      "        then the first bin is ``[1, 2)`` (including 1, but excluding 2) and\n",
      "        the second ``[2, 3)``.  The last bin, however, is ``[3, 4]``, which\n",
      "        *includes* 4.\n",
      "    \n",
      "        If *bins* is a string, it is one of the binning strategies\n",
      "        supported by `numpy.histogram_bin_edges`: 'auto', 'fd', 'doane',\n",
      "        'scott', 'stone', 'rice', 'sturges', or 'sqrt'.\n",
      "    \n",
      "    range : tuple or None, default: None\n",
      "        The lower and upper range of the bins. Lower and upper outliers\n",
      "        are ignored. If not provided, *range* is ``(x.min(), x.max())``.\n",
      "        Range has no effect if *bins* is a sequence.\n",
      "    \n",
      "        If *bins* is a sequence or *range* is specified, autoscaling\n",
      "        is based on the specified bin range instead of the\n",
      "        range of x.\n",
      "    \n",
      "    density : bool, default: False\n",
      "        If ``True``, draw and return a probability density: each bin\n",
      "        will display the bin's raw count divided by the total number of\n",
      "        counts *and the bin width*\n",
      "        (``density = counts / (sum(counts) * np.diff(bins))``),\n",
      "        so that the area under the histogram integrates to 1\n",
      "        (``np.sum(density * np.diff(bins)) == 1``).\n",
      "    \n",
      "        If *stacked* is also ``True``, the sum of the histograms is\n",
      "        normalized to 1.\n",
      "    \n",
      "    weights : (n,) array-like or None, default: None\n",
      "        An array of weights, of the same shape as *x*.  Each value in\n",
      "        *x* only contributes its associated weight towards the bin count\n",
      "        (instead of 1).  If *density* is ``True``, the weights are\n",
      "        normalized, so that the integral of the density over the range\n",
      "        remains 1.\n",
      "    \n",
      "        This parameter can be used to draw a histogram of data that has\n",
      "        already been binned, e.g. using `numpy.histogram` (by treating each\n",
      "        bin as a single point with a weight equal to its count) ::\n",
      "    \n",
      "            counts, bins = np.histogram(data)\n",
      "            plt.hist(bins[:-1], bins, weights=counts)\n",
      "    \n",
      "        (or you may alternatively use `~.bar()`).\n",
      "    \n",
      "    cumulative : bool or -1, default: False\n",
      "        If ``True``, then a histogram is computed where each bin gives the\n",
      "        counts in that bin plus all bins for smaller values. The last bin\n",
      "        gives the total number of datapoints.\n",
      "    \n",
      "        If *density* is also ``True`` then the histogram is normalized such\n",
      "        that the last bin equals 1.\n",
      "    \n",
      "        If *cumulative* is a number less than 0 (e.g., -1), the direction\n",
      "        of accumulation is reversed.  In this case, if *density* is also\n",
      "        ``True``, then the histogram is normalized such that the first bin\n",
      "        equals 1.\n",
      "    \n",
      "    bottom : array-like, scalar, or None, default: None\n",
      "        Location of the bottom of each bin, ie. bins are drawn from\n",
      "        ``bottom`` to ``bottom + hist(x, bins)`` If a scalar, the bottom\n",
      "        of each bin is shifted by the same amount. If an array, each bin\n",
      "        is shifted independently and the length of bottom must match the\n",
      "        number of bins. If None, defaults to 0.\n",
      "    \n",
      "    histtype : {'bar', 'barstacked', 'step', 'stepfilled'}, default: 'bar'\n",
      "        The type of histogram to draw.\n",
      "    \n",
      "        - 'bar' is a traditional bar-type histogram.  If multiple data\n",
      "          are given the bars are arranged side by side.\n",
      "        - 'barstacked' is a bar-type histogram where multiple\n",
      "          data are stacked on top of each other.\n",
      "        - 'step' generates a lineplot that is by default unfilled.\n",
      "        - 'stepfilled' generates a lineplot that is by default filled.\n",
      "    \n",
      "    align : {'left', 'mid', 'right'}, default: 'mid'\n",
      "        The horizontal alignment of the histogram bars.\n",
      "    \n",
      "        - 'left': bars are centered on the left bin edges.\n",
      "        - 'mid': bars are centered between the bin edges.\n",
      "        - 'right': bars are centered on the right bin edges.\n",
      "    \n",
      "    orientation : {'vertical', 'horizontal'}, default: 'vertical'\n",
      "        If 'horizontal', `~.Axes.barh` will be used for bar-type histograms\n",
      "        and the *bottom* kwarg will be the left edges.\n",
      "    \n",
      "    rwidth : float or None, default: None\n",
      "        The relative width of the bars as a fraction of the bin width.  If\n",
      "        ``None``, automatically compute the width.\n",
      "    \n",
      "        Ignored if *histtype* is 'step' or 'stepfilled'.\n",
      "    \n",
      "    log : bool, default: False\n",
      "        If ``True``, the histogram axis will be set to a log scale.\n",
      "    \n",
      "    color : color or array-like of colors or None, default: None\n",
      "        Color or sequence of colors, one per dataset.  Default (``None``)\n",
      "        uses the standard line color sequence.\n",
      "    \n",
      "    label : str or None, default: None\n",
      "        String, or sequence of strings to match multiple datasets.  Bar\n",
      "        charts yield multiple patches per dataset, but only the first gets\n",
      "        the label, so that `~.Axes.legend` will work as expected.\n",
      "    \n",
      "    stacked : bool, default: False\n",
      "        If ``True``, multiple data are stacked on top of each other If\n",
      "        ``False`` multiple data are arranged side by side if histtype is\n",
      "        'bar' or on top of each other if histtype is 'step'\n",
      "    \n",
      "    Returns\n",
      "    -------\n",
      "    n : array or list of arrays\n",
      "        The values of the histogram bins. See *density* and *weights* for a\n",
      "        description of the possible semantics.  If input *x* is an array,\n",
      "        then this is an array of length *nbins*. If input is a sequence of\n",
      "        arrays ``[data1, data2, ...]``, then this is a list of arrays with\n",
      "        the values of the histograms for each of the arrays in the same\n",
      "        order.  The dtype of the array *n* (or of its element arrays) will\n",
      "        always be float even if no weighting or normalization is used.\n",
      "    \n",
      "    bins : array\n",
      "        The edges of the bins. Length nbins + 1 (nbins left edges and right\n",
      "        edge of last bin).  Always a single array even when multiple data\n",
      "        sets are passed in.\n",
      "    \n",
      "    patches : `.BarContainer` or list of a single `.Polygon` or list of such objects\n",
      "        Container of individual artists used to create the histogram\n",
      "        or list of such containers if there are multiple input datasets.\n",
      "    \n",
      "    Other Parameters\n",
      "    ----------------\n",
      "    data : indexable object, optional\n",
      "        If given, the following parameters also accept a string ``s``, which is\n",
      "        interpreted as ``data[s]`` (unless this raises an exception):\n",
      "    \n",
      "        *x*, *weights*\n",
      "    \n",
      "    **kwargs\n",
      "        `~matplotlib.patches.Patch` properties\n",
      "    \n",
      "    See Also\n",
      "    --------\n",
      "    hist2d : 2D histogram with rectangular bins\n",
      "    hexbin : 2D histogram with hexagonal bins\n",
      "    \n",
      "    Notes\n",
      "    -----\n",
      "    For large numbers of bins (>1000), 'step' and 'stepfilled' can be\n",
      "    significantly faster than 'bar' and 'barstacked'.\n",
      "\n"
     ]
    },
    {
     "data": {
      "text/plain": "557000"
     },
     "execution_count": 101,
     "metadata": {},
     "output_type": "execute_result"
    },
    {
     "data": {
      "text/plain": "<Figure size 432x288 with 1 Axes>",
      "image/png": "[encoded data removed]"
     },
     "metadata": {},
     "output_type": "display_data"
    }
   ],
   "source": [
    "# target variable: price in USD\n",
    "\n",
    "cars_df[\"price\"] = pd.to_numeric(cars_df[\"price\"])\n",
    "cars_df.hist(\"price\", bins = 50, range = (0, cars_df[\"price\"].max()))\n",
    "help(plt.hist)\n",
    "\n",
    "cars_df[\"price\"].max()\n",
    "# somewhat exponentially distributed but big n"
   ],
   "metadata": {
    "collapsed": false
   }
  },
  {
   "cell_type": "code",
   "execution_count": null,
   "outputs": [],
   "source": [
    "# fixing the Model feature, which had 'Save' appended to each model name as a result of the scraping\n",
    "cars_df[\"model_clean\"] = cars_df[\"Model\"].str[:-4]\n",
    "cars_df[\"model_clean\"]\n",
    "cars_df[\"model_clean\"].value_counts()\n",
    "cars_df[cars_df[\"model_clean\"] == \"911\"]"
   ],
   "metadata": {
    "collapsed": false
   }
  },
  {
   "cell_type": "code",
   "execution_count": 103,
   "outputs": [
    {
     "data": {
      "text/plain": "0                         [1995, audi, s6, avant]\n1                     [2022, ford, maverick, xlt]\n2                  [2016, nissan, gt, r, premium]\n3               [2018, audi, r8, v10, coupe, rws]\n4                        [2007, porsche, boxster]\n                          ...                    \n9958    [1994, land, rover, defender, 6, wheeler]\n9959                [1984, toyota, land, cruiser]\n9960                      [2017, ford, focus, st]\n9961        [2014, mercedes, benz, cls63, amg, s]\n9962                          [1985, toyota, mr2]\nName: id_split, Length: 9963, dtype: object"
     },
     "execution_count": 103,
     "metadata": {},
     "output_type": "execute_result"
    }
   ],
   "source": [
    "# taking a look at the id column to see if the trim info on the model can be extracted\n",
    "# model info is separated with - in the URL but some model names are also separated with - Nissan GT-R for example\n",
    "cars_df[\"id_split\"] = cars_df[\"id\"].str.split('-')\n",
    "cars_df[\"id_split\"]"
   ],
   "metadata": {
    "collapsed": false
   }
  },
  {
   "cell_type": "code",
   "execution_count": 85,
   "outputs": [
    {
     "data": {
      "text/plain": "array([[<AxesSubplot:title={'center':'mileage_clean'}>]], dtype=object)"
     },
     "execution_count": 85,
     "metadata": {},
     "output_type": "execute_result"
    },
    {
     "data": {
      "text/plain": "<Figure size 432x288 with 1 Axes>",
      "image/png": "[encoded data removed]"
     },
     "metadata": {},
     "output_type": "display_data"
    }
   ],
   "source": [
    "# fixing numeric columns that have commas in them\n",
    "cars_df[\"mileage_clean\"] = cars_df[\"Mileage\"].str.extract('(.+[0-9])')\n",
    "cars_df[\"mileage_clean\"] = cars_df[\"mileage_clean\"].str.replace('~', '')\n",
    "cars_df[\"mileage_clean\"] = pd.to_numeric(cars_df[\"mileage_clean\"])\n",
    "cars_df.hist(\"mileage_clean\")"
   ],
   "metadata": {
    "collapsed": false
   }
  },
  {
   "cell_type": "code",
   "execution_count": 46,
   "outputs": [
    {
     "name": "stdout",
     "output_type": "stream",
     "text": [
      "Help on module re:\n",
      "\n",
      "NAME\n",
      "    re - Support for regular expressions (RE).\n",
      "\n",
      "MODULE REFERENCE\n",
      "    https://docs.python.org/3.9/library/re\n",
      "    \n",
      "    The following documentation is automatically generated from the Python\n",
      "    source files.  It may be incomplete, incorrect or include features that\n",
      "    are considered implementation detail and may vary between Python\n",
      "    implementations.  When in doubt, consult the module reference at the\n",
      "    location listed above.\n",
      "\n",
      "DESCRIPTION\n",
      "    This module provides regular expression matching operations similar to\n",
      "    those found in Perl.  It supports both 8-bit and Unicode strings; both\n",
      "    the pattern and the strings being processed can contain null bytes and\n",
      "    characters outside the US ASCII range.\n",
      "    \n",
      "    Regular expressions can contain both special and ordinary characters.\n",
      "    Most ordinary characters, like \"A\", \"a\", or \"0\", are the simplest\n",
      "    regular expressions; they simply match themselves.  You can\n",
      "    concatenate ordinary characters, so last matches the string 'last'.\n",
      "    \n",
      "    The special characters are:\n",
      "        \".\"      Matches any character except a newline.\n",
      "        \"^\"      Matches the start of the string.\n",
      "        \"$\"      Matches the end of the string or just before the newline at\n",
      "                 the end of the string.\n",
      "        \"*\"      Matches 0 or more (greedy) repetitions of the preceding RE.\n",
      "                 Greedy means that it will match as many repetitions as possible.\n",
      "        \"+\"      Matches 1 or more (greedy) repetitions of the preceding RE.\n",
      "        \"?\"      Matches 0 or 1 (greedy) of the preceding RE.\n",
      "        *?,+?,?? Non-greedy versions of the previous three special characters.\n",
      "        {m,n}    Matches from m to n repetitions of the preceding RE.\n",
      "        {m,n}?   Non-greedy version of the above.\n",
      "        \"\\\\\"     Either escapes special characters or signals a special sequence.\n",
      "        []       Indicates a set of characters.\n",
      "                 A \"^\" as the first character indicates a complementing set.\n",
      "        \"|\"      A|B, creates an RE that will match either A or B.\n",
      "        (...)    Matches the RE inside the parentheses.\n",
      "                 The contents can be retrieved or matched later in the string.\n",
      "        (?aiLmsux) The letters set the corresponding flags defined below.\n",
      "        (?:...)  Non-grouping version of regular parentheses.\n",
      "        (?P<name>...) The substring matched by the group is accessible by name.\n",
      "        (?P=name)     Matches the text matched earlier by the group named name.\n",
      "        (?#...)  A comment; ignored.\n",
      "        (?=...)  Matches if ... matches next, but doesn't consume the string.\n",
      "        (?!...)  Matches if ... doesn't match next.\n",
      "        (?<=...) Matches if preceded by ... (must be fixed length).\n",
      "        (?<!...) Matches if not preceded by ... (must be fixed length).\n",
      "        (?(id/name)yes|no) Matches yes pattern if the group with id/name matched,\n",
      "                           the (optional) no pattern otherwise.\n",
      "    \n",
      "    The special sequences consist of \"\\\\\" and a character from the list\n",
      "    below.  If the ordinary character is not on the list, then the\n",
      "    resulting RE will match the second character.\n",
      "        \\number  Matches the contents of the group of the same number.\n",
      "        \\A       Matches only at the start of the string.\n",
      "        \\Z       Matches only at the end of the string.\n",
      "        \\b       Matches the empty string, but only at the start or end of a word.\n",
      "        \\B       Matches the empty string, but not at the start or end of a word.\n",
      "        \\d       Matches any decimal digit; equivalent to the set [0-9] in\n",
      "                 bytes patterns or string patterns with the ASCII flag.\n",
      "                 In string patterns without the ASCII flag, it will match the whole\n",
      "                 range of Unicode digits.\n",
      "        \\D       Matches any non-digit character; equivalent to [^\\d].\n",
      "        \\s       Matches any whitespace character; equivalent to [ \\t\\n\\r\\f\\v] in\n",
      "                 bytes patterns or string patterns with the ASCII flag.\n",
      "                 In string patterns without the ASCII flag, it will match the whole\n",
      "                 range of Unicode whitespace characters.\n",
      "        \\S       Matches any non-whitespace character; equivalent to [^\\s].\n",
      "        \\w       Matches any alphanumeric character; equivalent to [a-zA-Z0-9_]\n",
      "                 in bytes patterns or string patterns with the ASCII flag.\n",
      "                 In string patterns without the ASCII flag, it will match the\n",
      "                 range of Unicode alphanumeric characters (letters plus digits\n",
      "                 plus underscore).\n",
      "                 With LOCALE, it will match the set [0-9_] plus characters defined\n",
      "                 as letters for the current locale.\n",
      "        \\W       Matches the complement of \\w.\n",
      "        \\\\       Matches a literal backslash.\n",
      "    \n",
      "    This module exports the following functions:\n",
      "        match     Match a regular expression pattern to the beginning of a string.\n",
      "        fullmatch Match a regular expression pattern to all of a string.\n",
      "        search    Search a string for the presence of a pattern.\n",
      "        sub       Substitute occurrences of a pattern found in a string.\n",
      "        subn      Same as sub, but also return the number of substitutions made.\n",
      "        split     Split a string by the occurrences of a pattern.\n",
      "        findall   Find all occurrences of a pattern in a string.\n",
      "        finditer  Return an iterator yielding a Match object for each match.\n",
      "        compile   Compile a pattern into a Pattern object.\n",
      "        purge     Clear the regular expression cache.\n",
      "        escape    Backslash all non-alphanumerics in a string.\n",
      "    \n",
      "    Each function other than purge and escape can take an optional 'flags' argument\n",
      "    consisting of one or more of the following module constants, joined by \"|\".\n",
      "    A, L, and U are mutually exclusive.\n",
      "        A  ASCII       For string patterns, make \\w, \\W, \\b, \\B, \\d, \\D\n",
      "                       match the corresponding ASCII character categories\n",
      "                       (rather than the whole Unicode categories, which is the\n",
      "                       default).\n",
      "                       For bytes patterns, this flag is the only available\n",
      "                       behaviour and needn't be specified.\n",
      "        I  IGNORECASE  Perform case-insensitive matching.\n",
      "        L  LOCALE      Make \\w, \\W, \\b, \\B, dependent on the current locale.\n",
      "        M  MULTILINE   \"^\" matches the beginning of lines (after a newline)\n",
      "                       as well as the string.\n",
      "                       \"$\" matches the end of lines (before a newline) as well\n",
      "                       as the end of the string.\n",
      "        S  DOTALL      \".\" matches any character at all, including the newline.\n",
      "        X  VERBOSE     Ignore whitespace and comments for nicer looking RE's.\n",
      "        U  UNICODE     For compatibility only. Ignored for string patterns (it\n",
      "                       is the default), and forbidden for bytes patterns.\n",
      "    \n",
      "    This module also defines an exception 'error'.\n",
      "\n",
      "CLASSES\n",
      "    builtins.Exception(builtins.BaseException)\n",
      "        error\n",
      "    builtins.object\n",
      "        Match\n",
      "        Pattern\n",
      "    \n",
      "    class Match(builtins.object)\n",
      "     |  The result of re.match() and re.search().\n",
      "     |  Match objects always have a boolean value of True.\n",
      "     |  \n",
      "     |  Methods defined here:\n",
      "     |  \n",
      "     |  __copy__(self, /)\n",
      "     |  \n",
      "     |  __deepcopy__(self, memo, /)\n",
      "     |  \n",
      "     |  __getitem__(self, key, /)\n",
      "     |      Return self[key].\n",
      "     |  \n",
      "     |  __repr__(self, /)\n",
      "     |      Return repr(self).\n",
      "     |  \n",
      "     |  end(self, group=0, /)\n",
      "     |      Return index of the end of the substring matched by group.\n",
      "     |  \n",
      "     |  expand(self, /, template)\n",
      "     |      Return the string obtained by doing backslash substitution on the string template, as done by the sub() method.\n",
      "     |  \n",
      "     |  group(...)\n",
      "     |      group([group1, ...]) -> str or tuple.\n",
      "     |      Return subgroup(s) of the match by indices or names.\n",
      "     |      For 0 returns the entire match.\n",
      "     |  \n",
      "     |  groupdict(self, /, default=None)\n",
      "     |      Return a dictionary containing all the named subgroups of the match, keyed by the subgroup name.\n",
      "     |      \n",
      "     |      default\n",
      "     |        Is used for groups that did not participate in the match.\n",
      "     |  \n",
      "     |  groups(self, /, default=None)\n",
      "     |      Return a tuple containing all the subgroups of the match, from 1.\n",
      "     |      \n",
      "     |      default\n",
      "     |        Is used for groups that did not participate in the match.\n",
      "     |  \n",
      "     |  span(self, group=0, /)\n",
      "     |      For match object m, return the 2-tuple (m.start(group), m.end(group)).\n",
      "     |  \n",
      "     |  start(self, group=0, /)\n",
      "     |      Return index of the start of the substring matched by group.\n",
      "     |  \n",
      "     |  ----------------------------------------------------------------------\n",
      "     |  Class methods defined here:\n",
      "     |  \n",
      "     |  __class_getitem__(...) from builtins.type\n",
      "     |      See PEP 585\n",
      "     |  \n",
      "     |  ----------------------------------------------------------------------\n",
      "     |  Data descriptors defined here:\n",
      "     |  \n",
      "     |  endpos\n",
      "     |      The index into the string beyond which the RE engine will not go.\n",
      "     |  \n",
      "     |  lastgroup\n",
      "     |      The name of the last matched capturing group.\n",
      "     |  \n",
      "     |  lastindex\n",
      "     |      The integer index of the last matched capturing group.\n",
      "     |  \n",
      "     |  pos\n",
      "     |      The index into the string at which the RE engine started looking for a match.\n",
      "     |  \n",
      "     |  re\n",
      "     |      The regular expression object.\n",
      "     |  \n",
      "     |  regs\n",
      "     |  \n",
      "     |  string\n",
      "     |      The string passed to match() or search().\n",
      "    \n",
      "    class Pattern(builtins.object)\n",
      "     |  Compiled regular expression object.\n",
      "     |  \n",
      "     |  Methods defined here:\n",
      "     |  \n",
      "     |  __copy__(self, /)\n",
      "     |  \n",
      "     |  __deepcopy__(self, memo, /)\n",
      "     |  \n",
      "     |  __eq__(self, value, /)\n",
      "     |      Return self==value.\n",
      "     |  \n",
      "     |  __ge__(self, value, /)\n",
      "     |      Return self>=value.\n",
      "     |  \n",
      "     |  __gt__(self, value, /)\n",
      "     |      Return self>value.\n",
      "     |  \n",
      "     |  __hash__(self, /)\n",
      "     |      Return hash(self).\n",
      "     |  \n",
      "     |  __le__(self, value, /)\n",
      "     |      Return self<=value.\n",
      "     |  \n",
      "     |  __lt__(self, value, /)\n",
      "     |      Return self<value.\n",
      "     |  \n",
      "     |  __ne__(self, value, /)\n",
      "     |      Return self!=value.\n",
      "     |  \n",
      "     |  __repr__(self, /)\n",
      "     |      Return repr(self).\n",
      "     |  \n",
      "     |  findall(self, /, string, pos=0, endpos=9223372036854775807)\n",
      "     |      Return a list of all non-overlapping matches of pattern in string.\n",
      "     |  \n",
      "     |  finditer(self, /, string, pos=0, endpos=9223372036854775807)\n",
      "     |      Return an iterator over all non-overlapping matches for the RE pattern in string.\n",
      "     |      \n",
      "     |      For each match, the iterator returns a match object.\n",
      "     |  \n",
      "     |  fullmatch(self, /, string, pos=0, endpos=9223372036854775807)\n",
      "     |      Matches against all of the string.\n",
      "     |  \n",
      "     |  match(self, /, string, pos=0, endpos=9223372036854775807)\n",
      "     |      Matches zero or more characters at the beginning of the string.\n",
      "     |  \n",
      "     |  scanner(self, /, string, pos=0, endpos=9223372036854775807)\n",
      "     |  \n",
      "     |  search(self, /, string, pos=0, endpos=9223372036854775807)\n",
      "     |      Scan through string looking for a match, and return a corresponding match object instance.\n",
      "     |      \n",
      "     |      Return None if no position in the string matches.\n",
      "     |  \n",
      "     |  split(self, /, string, maxsplit=0)\n",
      "     |      Split string by the occurrences of pattern.\n",
      "     |  \n",
      "     |  sub(self, /, repl, string, count=0)\n",
      "     |      Return the string obtained by replacing the leftmost non-overlapping occurrences of pattern in string by the replacement repl.\n",
      "     |  \n",
      "     |  subn(self, /, repl, string, count=0)\n",
      "     |      Return the tuple (new_string, number_of_subs_made) found by replacing the leftmost non-overlapping occurrences of pattern with the replacement repl.\n",
      "     |  \n",
      "     |  ----------------------------------------------------------------------\n",
      "     |  Class methods defined here:\n",
      "     |  \n",
      "     |  __class_getitem__(...) from builtins.type\n",
      "     |      See PEP 585\n",
      "     |  \n",
      "     |  ----------------------------------------------------------------------\n",
      "     |  Data descriptors defined here:\n",
      "     |  \n",
      "     |  flags\n",
      "     |      The regex matching flags.\n",
      "     |  \n",
      "     |  groupindex\n",
      "     |      A dictionary mapping group names to group numbers.\n",
      "     |  \n",
      "     |  groups\n",
      "     |      The number of capturing groups in the pattern.\n",
      "     |  \n",
      "     |  pattern\n",
      "     |      The pattern string from which the RE object was compiled.\n",
      "    \n",
      "    class error(builtins.Exception)\n",
      "     |  error(msg, pattern=None, pos=None)\n",
      "     |  \n",
      "     |  Exception raised for invalid regular expressions.\n",
      "     |  \n",
      "     |  Attributes:\n",
      "     |  \n",
      "     |      msg: The unformatted error message\n",
      "     |      pattern: The regular expression pattern\n",
      "     |      pos: The index in the pattern where compilation failed (may be None)\n",
      "     |      lineno: The line corresponding to pos (may be None)\n",
      "     |      colno: The column corresponding to pos (may be None)\n",
      "     |  \n",
      "     |  Method resolution order:\n",
      "     |      error\n",
      "     |      builtins.Exception\n",
      "     |      builtins.BaseException\n",
      "     |      builtins.object\n",
      "     |  \n",
      "     |  Methods defined here:\n",
      "     |  \n",
      "     |  __init__(self, msg, pattern=None, pos=None)\n",
      "     |      Initialize self.  See help(type(self)) for accurate signature.\n",
      "     |  \n",
      "     |  ----------------------------------------------------------------------\n",
      "     |  Data descriptors defined here:\n",
      "     |  \n",
      "     |  __weakref__\n",
      "     |      list of weak references to the object (if defined)\n",
      "     |  \n",
      "     |  ----------------------------------------------------------------------\n",
      "     |  Static methods inherited from builtins.Exception:\n",
      "     |  \n",
      "     |  __new__(*args, **kwargs) from builtins.type\n",
      "     |      Create and return a new object.  See help(type) for accurate signature.\n",
      "     |  \n",
      "     |  ----------------------------------------------------------------------\n",
      "     |  Methods inherited from builtins.BaseException:\n",
      "     |  \n",
      "     |  __delattr__(self, name, /)\n",
      "     |      Implement delattr(self, name).\n",
      "     |  \n",
      "     |  __getattribute__(self, name, /)\n",
      "     |      Return getattr(self, name).\n",
      "     |  \n",
      "     |  __reduce__(...)\n",
      "     |      Helper for pickle.\n",
      "     |  \n",
      "     |  __repr__(self, /)\n",
      "     |      Return repr(self).\n",
      "     |  \n",
      "     |  __setattr__(self, name, value, /)\n",
      "     |      Implement setattr(self, name, value).\n",
      "     |  \n",
      "     |  __setstate__(...)\n",
      "     |  \n",
      "     |  __str__(self, /)\n",
      "     |      Return str(self).\n",
      "     |  \n",
      "     |  with_traceback(...)\n",
      "     |      Exception.with_traceback(tb) --\n",
      "     |      set self.__traceback__ to tb and return self.\n",
      "     |  \n",
      "     |  ----------------------------------------------------------------------\n",
      "     |  Data descriptors inherited from builtins.BaseException:\n",
      "     |  \n",
      "     |  __cause__\n",
      "     |      exception cause\n",
      "     |  \n",
      "     |  __context__\n",
      "     |      exception context\n",
      "     |  \n",
      "     |  __dict__\n",
      "     |  \n",
      "     |  __suppress_context__\n",
      "     |  \n",
      "     |  __traceback__\n",
      "     |  \n",
      "     |  args\n",
      "\n",
      "FUNCTIONS\n",
      "    compile(pattern, flags=0)\n",
      "        Compile a regular expression pattern, returning a Pattern object.\n",
      "    \n",
      "    escape(pattern)\n",
      "        Escape special characters in a string.\n",
      "    \n",
      "    findall(pattern, string, flags=0)\n",
      "        Return a list of all non-overlapping matches in the string.\n",
      "        \n",
      "        If one or more capturing groups are present in the pattern, return\n",
      "        a list of groups; this will be a list of tuples if the pattern\n",
      "        has more than one group.\n",
      "        \n",
      "        Empty matches are included in the result.\n",
      "    \n",
      "    finditer(pattern, string, flags=0)\n",
      "        Return an iterator over all non-overlapping matches in the\n",
      "        string.  For each match, the iterator returns a Match object.\n",
      "        \n",
      "        Empty matches are included in the result.\n",
      "    \n",
      "    fullmatch(pattern, string, flags=0)\n",
      "        Try to apply the pattern to all of the string, returning\n",
      "        a Match object, or None if no match was found.\n",
      "    \n",
      "    match(pattern, string, flags=0)\n",
      "        Try to apply the pattern at the start of the string, returning\n",
      "        a Match object, or None if no match was found.\n",
      "    \n",
      "    purge()\n",
      "        Clear the regular expression caches\n",
      "    \n",
      "    search(pattern, string, flags=0)\n",
      "        Scan through string looking for a match to the pattern, returning\n",
      "        a Match object, or None if no match was found.\n",
      "    \n",
      "    split(pattern, string, maxsplit=0, flags=0)\n",
      "        Split the source string by the occurrences of the pattern,\n",
      "        returning a list containing the resulting substrings.  If\n",
      "        capturing parentheses are used in pattern, then the text of all\n",
      "        groups in the pattern are also returned as part of the resulting\n",
      "        list.  If maxsplit is nonzero, at most maxsplit splits occur,\n",
      "        and the remainder of the string is returned as the final element\n",
      "        of the list.\n",
      "    \n",
      "    sub(pattern, repl, string, count=0, flags=0)\n",
      "        Return the string obtained by replacing the leftmost\n",
      "        non-overlapping occurrences of the pattern in string by the\n",
      "        replacement repl.  repl can be either a string or a callable;\n",
      "        if a string, backslash escapes in it are processed.  If it is\n",
      "        a callable, it's passed the Match object and must return\n",
      "        a replacement string to be used.\n",
      "    \n",
      "    subn(pattern, repl, string, count=0, flags=0)\n",
      "        Return a 2-tuple containing (new_string, number).\n",
      "        new_string is the string obtained by replacing the leftmost\n",
      "        non-overlapping occurrences of the pattern in the source\n",
      "        string by the replacement repl.  number is the number of\n",
      "        substitutions that were made. repl can be either a string or a\n",
      "        callable; if a string, backslash escapes in it are processed.\n",
      "        If it is a callable, it's passed the Match object and must\n",
      "        return a replacement string to be used.\n",
      "    \n",
      "    template(pattern, flags=0)\n",
      "        Compile a template pattern, returning a Pattern object\n",
      "\n",
      "DATA\n",
      "    A = re.ASCII\n",
      "    ASCII = re.ASCII\n",
      "    DOTALL = re.DOTALL\n",
      "    I = re.IGNORECASE\n",
      "    IGNORECASE = re.IGNORECASE\n",
      "    L = re.LOCALE\n",
      "    LOCALE = re.LOCALE\n",
      "    M = re.MULTILINE\n",
      "    MULTILINE = re.MULTILINE\n",
      "    S = re.DOTALL\n",
      "    U = re.UNICODE\n",
      "    UNICODE = re.UNICODE\n",
      "    VERBOSE = re.VERBOSE\n",
      "    X = re.VERBOSE\n",
      "    __all__ = ['match', 'fullmatch', 'search', 'sub', 'subn', 'split', 'fi...\n",
      "\n",
      "VERSION\n",
      "    2.2.1\n",
      "\n",
      "FILE\n",
      "    /Users/pww/opt/anaconda3/lib/python3.9/re.py\n",
      "\n",
      "\n"
     ]
    }
   ],
   "source": [
    "help(re)"
   ],
   "metadata": {
    "collapsed": false
   }
  },
  {
   "cell_type": "code",
   "execution_count": 17,
   "outputs": [
    {
     "data": {
      "text/plain": "CA    1974\nFL     941\nTX     683\nNY     485\nPA     444\n      ... \nur       1\nV,       1\nfi       1\nA,       1\nA        1\nName: State, Length: 91, dtype: int64"
     },
     "execution_count": 17,
     "metadata": {},
     "output_type": "execute_result"
    }
   ],
   "source": [
    "# splitting the location column into address elements\n",
    "cars_df[\"ZIP\"] = cars_df[\"Location\"].str[-5:]\n",
    "cars_df[\"State\"] = cars_df[\"Location\"].str[-8:-6]\n",
    "cars_df[\"City\"] = cars_df[\"Location\"].str[:-10]\n",
    "cars_df[[\"ZIP\", \"State\", \"City\"]]\n",
    "cars_df[\"State\"].value_counts()\n",
    "# some weirdness with canada"
   ],
   "metadata": {
    "collapsed": false
   }
  },
  {
   "cell_type": "code",
   "execution_count": 104,
   "outputs": [
    {
     "name": "stdout",
     "output_type": "stream",
     "text": [
      "Help on function hist in module matplotlib.pyplot:\n",
      "\n",
      "hist(x, bins=None, range=None, density=False, weights=None, cumulative=False, bottom=None, histtype='bar', align='mid', orientation='vertical', rwidth=None, log=False, color=None, label=None, stacked=False, *, data=None, **kwargs)\n",
      "    Plot a histogram.\n",
      "    \n",
      "    Compute and draw the histogram of *x*.  The return value is a tuple\n",
      "    (*n*, *bins*, *patches*) or ([*n0*, *n1*, ...], *bins*, [*patches0*,\n",
      "    *patches1*, ...]) if the input contains multiple data.  See the\n",
      "    documentation of the *weights* parameter to draw a histogram of\n",
      "    already-binned data.\n",
      "    \n",
      "    Multiple data can be provided via *x* as a list of datasets\n",
      "    of potentially different length ([*x0*, *x1*, ...]), or as\n",
      "    a 2D ndarray in which each column is a dataset.  Note that\n",
      "    the ndarray form is transposed relative to the list form.\n",
      "    \n",
      "    Masked arrays are not supported.\n",
      "    \n",
      "    The *bins*, *range*, *weights*, and *density* parameters behave as in\n",
      "    `numpy.histogram`.\n",
      "    \n",
      "    Parameters\n",
      "    ----------\n",
      "    x : (n,) array or sequence of (n,) arrays\n",
      "        Input values, this takes either a single array or a sequence of\n",
      "        arrays which are not required to be of the same length.\n",
      "    \n",
      "    bins : int or sequence or str, default: :rc:`hist.bins`\n",
      "        If *bins* is an integer, it defines the number of equal-width bins\n",
      "        in the range.\n",
      "    \n",
      "        If *bins* is a sequence, it defines the bin edges, including the\n",
      "        left edge of the first bin and the right edge of the last bin;\n",
      "        in this case, bins may be unequally spaced.  All but the last\n",
      "        (righthand-most) bin is half-open.  In other words, if *bins* is::\n",
      "    \n",
      "            [1, 2, 3, 4]\n",
      "    \n",
      "        then the first bin is ``[1, 2)`` (including 1, but excluding 2) and\n",
      "        the second ``[2, 3)``.  The last bin, however, is ``[3, 4]``, which\n",
      "        *includes* 4.\n",
      "    \n",
      "        If *bins* is a string, it is one of the binning strategies\n",
      "        supported by `numpy.histogram_bin_edges`: 'auto', 'fd', 'doane',\n",
      "        'scott', 'stone', 'rice', 'sturges', or 'sqrt'.\n",
      "    \n",
      "    range : tuple or None, default: None\n",
      "        The lower and upper range of the bins. Lower and upper outliers\n",
      "        are ignored. If not provided, *range* is ``(x.min(), x.max())``.\n",
      "        Range has no effect if *bins* is a sequence.\n",
      "    \n",
      "        If *bins* is a sequence or *range* is specified, autoscaling\n",
      "        is based on the specified bin range instead of the\n",
      "        range of x.\n",
      "    \n",
      "    density : bool, default: False\n",
      "        If ``True``, draw and return a probability density: each bin\n",
      "        will display the bin's raw count divided by the total number of\n",
      "        counts *and the bin width*\n",
      "        (``density = counts / (sum(counts) * np.diff(bins))``),\n",
      "        so that the area under the histogram integrates to 1\n",
      "        (``np.sum(density * np.diff(bins)) == 1``).\n",
      "    \n",
      "        If *stacked* is also ``True``, the sum of the histograms is\n",
      "        normalized to 1.\n",
      "    \n",
      "    weights : (n,) array-like or None, default: None\n",
      "        An array of weights, of the same shape as *x*.  Each value in\n",
      "        *x* only contributes its associated weight towards the bin count\n",
      "        (instead of 1).  If *density* is ``True``, the weights are\n",
      "        normalized, so that the integral of the density over the range\n",
      "        remains 1.\n",
      "    \n",
      "        This parameter can be used to draw a histogram of data that has\n",
      "        already been binned, e.g. using `numpy.histogram` (by treating each\n",
      "        bin as a single point with a weight equal to its count) ::\n",
      "    \n",
      "            counts, bins = np.histogram(data)\n",
      "            plt.hist(bins[:-1], bins, weights=counts)\n",
      "    \n",
      "        (or you may alternatively use `~.bar()`).\n",
      "    \n",
      "    cumulative : bool or -1, default: False\n",
      "        If ``True``, then a histogram is computed where each bin gives the\n",
      "        counts in that bin plus all bins for smaller values. The last bin\n",
      "        gives the total number of datapoints.\n",
      "    \n",
      "        If *density* is also ``True`` then the histogram is normalized such\n",
      "        that the last bin equals 1.\n",
      "    \n",
      "        If *cumulative* is a number less than 0 (e.g., -1), the direction\n",
      "        of accumulation is reversed.  In this case, if *density* is also\n",
      "        ``True``, then the histogram is normalized such that the first bin\n",
      "        equals 1.\n",
      "    \n",
      "    bottom : array-like, scalar, or None, default: None\n",
      "        Location of the bottom of each bin, ie. bins are drawn from\n",
      "        ``bottom`` to ``bottom + hist(x, bins)`` If a scalar, the bottom\n",
      "        of each bin is shifted by the same amount. If an array, each bin\n",
      "        is shifted independently and the length of bottom must match the\n",
      "        number of bins. If None, defaults to 0.\n",
      "    \n",
      "    histtype : {'bar', 'barstacked', 'step', 'stepfilled'}, default: 'bar'\n",
      "        The type of histogram to draw.\n",
      "    \n",
      "        - 'bar' is a traditional bar-type histogram.  If multiple data\n",
      "          are given the bars are arranged side by side.\n",
      "        - 'barstacked' is a bar-type histogram where multiple\n",
      "          data are stacked on top of each other.\n",
      "        - 'step' generates a lineplot that is by default unfilled.\n",
      "        - 'stepfilled' generates a lineplot that is by default filled.\n",
      "    \n",
      "    align : {'left', 'mid', 'right'}, default: 'mid'\n",
      "        The horizontal alignment of the histogram bars.\n",
      "    \n",
      "        - 'left': bars are centered on the left bin edges.\n",
      "        - 'mid': bars are centered between the bin edges.\n",
      "        - 'right': bars are centered on the right bin edges.\n",
      "    \n",
      "    orientation : {'vertical', 'horizontal'}, default: 'vertical'\n",
      "        If 'horizontal', `~.Axes.barh` will be used for bar-type histograms\n",
      "        and the *bottom* kwarg will be the left edges.\n",
      "    \n",
      "    rwidth : float or None, default: None\n",
      "        The relative width of the bars as a fraction of the bin width.  If\n",
      "        ``None``, automatically compute the width.\n",
      "    \n",
      "        Ignored if *histtype* is 'step' or 'stepfilled'.\n",
      "    \n",
      "    log : bool, default: False\n",
      "        If ``True``, the histogram axis will be set to a log scale.\n",
      "    \n",
      "    color : color or array-like of colors or None, default: None\n",
      "        Color or sequence of colors, one per dataset.  Default (``None``)\n",
      "        uses the standard line color sequence.\n",
      "    \n",
      "    label : str or None, default: None\n",
      "        String, or sequence of strings to match multiple datasets.  Bar\n",
      "        charts yield multiple patches per dataset, but only the first gets\n",
      "        the label, so that `~.Axes.legend` will work as expected.\n",
      "    \n",
      "    stacked : bool, default: False\n",
      "        If ``True``, multiple data are stacked on top of each other If\n",
      "        ``False`` multiple data are arranged side by side if histtype is\n",
      "        'bar' or on top of each other if histtype is 'step'\n",
      "    \n",
      "    Returns\n",
      "    -------\n",
      "    n : array or list of arrays\n",
      "        The values of the histogram bins. See *density* and *weights* for a\n",
      "        description of the possible semantics.  If input *x* is an array,\n",
      "        then this is an array of length *nbins*. If input is a sequence of\n",
      "        arrays ``[data1, data2, ...]``, then this is a list of arrays with\n",
      "        the values of the histograms for each of the arrays in the same\n",
      "        order.  The dtype of the array *n* (or of its element arrays) will\n",
      "        always be float even if no weighting or normalization is used.\n",
      "    \n",
      "    bins : array\n",
      "        The edges of the bins. Length nbins + 1 (nbins left edges and right\n",
      "        edge of last bin).  Always a single array even when multiple data\n",
      "        sets are passed in.\n",
      "    \n",
      "    patches : `.BarContainer` or list of a single `.Polygon` or list of such objects\n",
      "        Container of individual artists used to create the histogram\n",
      "        or list of such containers if there are multiple input datasets.\n",
      "    \n",
      "    Other Parameters\n",
      "    ----------------\n",
      "    data : indexable object, optional\n",
      "        If given, the following parameters also accept a string ``s``, which is\n",
      "        interpreted as ``data[s]`` (unless this raises an exception):\n",
      "    \n",
      "        *x*, *weights*\n",
      "    \n",
      "    **kwargs\n",
      "        `~matplotlib.patches.Patch` properties\n",
      "    \n",
      "    See Also\n",
      "    --------\n",
      "    hist2d : 2D histogram with rectangular bins\n",
      "    hexbin : 2D histogram with hexagonal bins\n",
      "    \n",
      "    Notes\n",
      "    -----\n",
      "    For large numbers of bins (>1000), 'step' and 'stepfilled' can be\n",
      "    significantly faster than 'bar' and 'barstacked'.\n",
      "\n"
     ]
    },
    {
     "data": {
      "text/plain": "<Figure size 432x288 with 1 Axes>",
      "image/png": "[encoded data removed]"
     },
     "metadata": {},
     "output_type": "display_data"
    }
   ],
   "source": [
    "# converting the auction end format\n",
    "cars_df[\"end_datetime\"] = pd.to_datetime(cars_df[\"end_datetime\"])\n",
    "cars_df.hist(\"end_datetime\")\n",
    "help(plt.hist)"
   ],
   "metadata": {
    "collapsed": false
   }
  },
  {
   "cell_type": "code",
   "execution_count": 105,
   "outputs": [
    {
     "data": {
      "text/plain": "0       Clean \n1       Clean \n2       Clean \n3       Clean \n4       Clean \n         ...  \n9958    Clean \n9959    Clean \n9960    Clean \n9961    Clean \n9962    Clean \nName: title_desc, Length: 9963, dtype: object"
     },
     "execution_count": 105,
     "metadata": {},
     "output_type": "execute_result"
    }
   ],
   "source": [
    "# splitting the title status column into location and description\n",
    "cars_df[\"title_location\"] = cars_df[\"Title Status\"].str.extract('\\((.+)\\)')\n",
    "cars_df[\"title_desc\"] = cars_df[\"Title Status\"].str.extract('(^.+)\\(')\n",
    "cars_df[\"title_desc\"]"
   ],
   "metadata": {
    "collapsed": false
   }
  },
  {
   "cell_type": "code",
   "execution_count": 158,
   "outputs": [
    {
     "data": {
      "text/plain": "Clean                            9788\nRegistered                         36\nNot Actual Mileage                 16\nRebuilt                            11\nSalvage                             9\nExceeds Mechanical Limits           6\nLemon Law Buyback                   4\n Clean                              3\nSalvaged                            3\nBonded                              3\nNAM                                 3\nLemon Law Repurchase                3\nVA                                  2\nBranded                             2\nReconstructed                       2\nOdometer Discrepancy                2\nSalvage/Rebuilt                     2\nBill of Sale                        2\nRebuilt/Salvage                     1\nColorado                            1\nClean                               1\nOff-Highway Use Only                1\nClean                               1\nRebuilt/Manufacturer Buyback        1\n Not Actual Mileage                 1\nIowa                                1\nLemon                               1\nTMU                                 1\nCLean                               1\nManufacturer Buyback/Lemon          1\nLein                                1\nManufacturer Buyback                1\nName: title_desc, dtype: int64"
     },
     "execution_count": 158,
     "metadata": {},
     "output_type": "execute_result"
    }
   ],
   "source": [
    "cars_df[\"title_desc\"].value_counts()"
   ],
   "metadata": {
    "collapsed": false
   }
  },
  {
   "cell_type": "code",
   "execution_count": 142,
   "outputs": [
    {
     "data": {
      "text/plain": "                       Make           Model                 Mileage  \\\n335               Chevrolet          Camaro       TMU - No odometer   \n3166  Suspensions Unlimited      Sand Pro 2       No Odometer - TMU   \n3175                  Smart      Crossblade                   15900   \n4189                 Toyota    Land Cruiser                  113500   \n4281                   Ford  Mustang Mach-E                      75   \n4800                     AC          3000ME  3800 Miles Shown - TMU   \n5023                Porsche           Macan                   47000   \n5099                  Mazda    Mazdaspeed 3                  100900   \n5224                    BMW              M3                  140400   \n5377           Freightliner        Sprinter                      25   \n5727                 Jaguar             XJR                   90500   \n5995                   Ford     Thunderbird             No odometer   \n6569          Mercedes-Benz           300TD                  262000   \n6596                 Jaguar          F-Type                    5400   \n6821               Maserati     GranTurismo                    1100   \n7081               Cadillac         Allante                   42400   \n7656                 Jaguar             XJL                   78900   \n8022                   Ford    F-150 Raptor                   56200   \n9002                  Acura             NSX                   47500   \n9267                 Toyota    Land Cruiser                     TMU   \n9466                Radical        Prosport                     TMU   \n9587                   Ford         Mustang                   24800   \n9619          Mercedes-Benz            E320                  139900   \n9705                 Jaguar              XJ                   39300   \n9756               Maserati           Coupe                   20650   \n9837                Porsche          Cayman                  105600   \n9856          Mercedes-Benz        SL55 AMG                   38200   \n9864                  Lotus           Evora                    7500   \n9875                 Datsun           300ZX                   92700   \n9878                  Mazda            RX-8                   73857   \n9884              Exomotive          Exocet                   97000   \n9888                 Suzuki      Cappuccino                   77519   \n9896          Mercedes-Benz           SL500                   81550   \n9900                Pontiac        Firebird                  105000   \n9901             Volkswagen         Phaeton                  150300   \n9902              Chevrolet          Camaro                   83441   \n9904                 Subaru         WRX STI                   77600   \n9906                  Mazda      MX-5 Miata                   84739   \n9907           Aston Martin      V8 Vantage                   56500   \n9910                    BMW              M2                    4900   \n9917                 Toyota    Land Cruiser                   42885   \n9922                  Mazda      MX-5 Miata                   34730   \n9928                 Toyota            RAV4                  245968   \n9929                  Mazda      MX-5 Miata                   46118   \n9934                Porsche          Cayman                   55213   \n9937                  Mazda      MX-5 Miata                  111844   \n9946                  Mazda      MX-5 Miata                   45000   \n9950               Maserati     GranTurismo                   11700   \n9953          Mercedes-Benz        ML63 AMG                   78248   \n9954              Chevrolet           M1028                   87222   \n9956                 Jaguar             XKR                  128414   \n9957                   Audi              S6                  128885   \n\n                     VIN                   Title Status  \\\n335             2012 #55                       No Title   \n3166                 NaN                   Bill of Sale   \n3175   WME01MC012H095579                       No Title   \n4189   JT3DJ81W0S0096266                          Clean   \n4281   3FMTK4SE6MME03373                   Never Titled   \n4800   ME301RE0000186000                AL Registration   \n5023   WP1AF2A51FLB48351                          Clean   \n5099   JM1BK34M271628938                          Clean   \n5224   WBSBR93452EX23469                          Clean   \n5377   W2W4EBVY9MT055538             Never Titled - MSO   \n5727   SAJWA73BX4TG17489                         Clean    \n5995                None                       No title   \n6569   WDB1231901F057061                CT Registration   \n6596   SAJWJ6DL0GMK27756                          Clean   \n6821   ZAM45VMA6J0295489                          Clean   \n7081   1G6VS3382MU126705                         Clean    \n7656   SAJWA2JC3BMV12179                          Clean   \n8022   1FTFW1R61CFB48200                         Clean    \n9002         NA1-1200258  Import/Transfer Documentation   \n9267          FJ61000747               Registered in GA   \n9466      N/A - Race Car        Bill of Sale - Race Car   \n9587   1ZVBP8CU3D5267348                          Clean   \n9619   WDBEA92E3SF306415                CT Registration   \n9705   SAJHY1745MC640589                          Clean   \n9756   ZAMBC38A150017309                          Clean   \n9837   WP0AA2A83EK170494                          Clean   \n9856   WDBSK74F64F074454                          Clean   \n9864   SCCLMDVNXJHA10486                          Clean   \n9875   JN1HZ14S2EX032508                          Clean   \n9878   JM1FE173750161146                          Clean   \n9884            GA680706                          Clean   \n9888         EA11R121601                          Clean   \n9896   WDBFA67E8SF115696                          Clean   \n9900   1G2FS2181HL224039                          Clean   \n9901   WVWAF63DX48008358                          Clean   \n9902   2G1FP22P1P2110312                          Clean   \n9904   JF1GR89619L806764                          Clean   \n9906   JM1NA3516M0224367                          Clean   \n9907   SCFBB03B66GC01664                          Clean   \n9910   WBS2U7C52KVJ07658                          Clean   \n9917   JTMCY7AJ0G4045318                          Clean   \n9922   JM1NB3533X0123127                          Clean   \n9928   JT3HP10V8V7025442                          Clean   \n9929   JM1NB353XX0110438                          Clean   \n9934   WP0AB29857U782155                          Clean   \n9937   JM1NA3537V0721057                          Clean   \n9946   JM1NDAL77H0105185                          Clean   \n9950   ZAM45KLA4B0059571                          Clean   \n9953   4JGBB77E39A456462                          Clean   \n9954   1GCHD34J3HF316402                          Clean   \n9956   SAJDA42B91PA14965                          Clean   \n9957   WAUGN74F57N051088                          Clean   \n\n                       Location                   Seller  \\\n335          Wilmette, IL 60091               LittleCash   \n3166         La Habra, CA 90631                  brad87s   \n3175      Los Angeles, CA 90036           PeteAutoMuseum   \n4189       West Fargo, ND 58078                  Dangler   \n4281         Petoskey, MI 49770                   mfalma   \n4800     Belle Chasse, LA 70037                bgravolet   \n5023       Charleston, SC 29412                 n8naylor   \n5099        San Diego, CA 92121            sassafras1232   \n5224      Fort Pierce, FL 34982                 edgarcia   \n5377      Wilsonville, OR 97070            OutNUpfitters   \n5727          Leander, TX 78645               washmaster   \n5995       South Lyon, MI 48178                     RJMO   \n6569    Old Greenwich, CT 06870                    SGato   \n6596      Southampton, NY 11968                   bmin00   \n6821          Wichita, KS 67214                  Autobob   \n7081   Sharon Springs, NY 13459                   salpal   \n7656               Seminole, FL                 mcjagger   \n8022        Toronto, ON, Canada             kerrytoronto   \n9002          Cypress, CA 90630         TopRankImporters   \n9267          Cumming, GA 30041                  ATL_JDM   \n9466          Chicago, IL 60611                Gingerman   \n9587          Medford, OR 97501            jameskristich   \n9619           Orange, CT 06477              nnapoliMB70   \n9705         Surprise, AZ 85379                 jagman23   \n9756         Portland, OR 97229                  cbgohil   \n9837       Victoria, BC, Canada                  dr_nick   \n9856       Boca Raton, FL 33431                 sssdisco   \n9864           Frisco, TX 75034                   Tye_bo   \n9875            Akron, OH 44303                  Junkman   \n9878           Dublin, CA 94568                   rx8_gt   \n9884          Suwanee, GA 30024                 jhodgson   \n9888      Lake Oswego, OR 97035          LegendaryDivers   \n9896  Pleasant Praire, WI 53158                   JMO597   \n9900         Manassas, VA 20110               87Firebird   \n9901         Ottawa, ON, Canada                   Josh19   \n9902          Wichita, KS 67206            HooviesGarage   \n9904           Newton, CT 06470                TonySnark   \n9906         San Jose, CA 95136                   npx629   \n9907        Knoxville, TN 37922                  Spidey1   \n9910      Albuquerque, NM 87110                 ABQ_Cars   \n9917           Peoria, IL 61615                     carl   \n9922         Portland, OR 97201                     hank   \n9928       Cincinnati, OH 45209                  The_DJE   \n9929        Annandale, VA 22003                Steve1985   \n9934          Alameda, CA 94501               boggie1688   \n9937         Superior, CO 80027                   notzak   \n9946       Pittsburgh, PA 15201                realkiran   \n9950  Fort Lauderdale, FL 33309  LimitedEditionMotorcars   \n9953          Burbank, IL 60459                 qutaba12   \n9954        Altenburg, MO 62732              ablouin1992   \n9956  San Luis Obispo, CA 93405             Perfectphoto   \n9957           Dublin, OH 43016                  Aktapod   \n\n                         Engine         Drivetrain             Transmission  \\\n335        5.3L Supercharged V8   Rear-wheel drive      Automatic (2-Speed)   \n3166       3.5L Turbocharged V6   Rear-wheel drive         Manual (4-Speed)   \n3175       0.6L Turbocharged I3   Rear-wheel drive      Automatic (6-Speed)   \n4189                    4.5L I6            4WD/AWD      Automatic (4-Speed)   \n4281       Dual Electric Motors            4WD/AWD                Automatic   \n4800                    3.0L V6   Rear-wheel drive         Manual (5-Speed)   \n5023       3.6L Turbocharged V6            4WD/AWD      Automatic (7-Speed)   \n5099       2.3L Turbocharged I4  Front-wheel drive         Manual (6-Speed)   \n5224                    3.2L I6   Rear-wheel drive         Manual (6-Speed)   \n5377        3.0L Turbodiesel V6            4WD/AWD      Automatic (7-Speed)   \n5727       4.2L Supercharged V8   Rear-wheel drive      Automatic (6-Speed)   \n5995                    5.9L V8   Rear-wheel drive         Manual (4-Speed)   \n6569                    3.0L I5   Rear-wheel drive         Manual (5-Speed)   \n6596       5.0L Supercharged V8            4WD/AWD      Automatic (8-Speed)   \n6821                    4.7L V8   Rear-wheel drive      Automatic (6-Speed)   \n7081                    4.5L V8  Front-wheel drive      Automatic (4-Speed)   \n7656       5.0L Supercharged V8   Rear-wheel drive      Automatic (6-Speed)   \n8022                    6.2L V8            4WD/AWD      Automatic (6-Speed)   \n9002                    3.0L V6   Rear-wheel drive         Manual (5-Speed)   \n9267                    4.2L I6            4WD/AWD         Manual (4-Speed)   \n9466                    1.3L I4   Rear-wheel drive         Manual (6-speed)   \n9587                    5.0L V8   Rear-wheel drive         Manual (6-speed)   \n9619                     3.2 I6   Rear-wheel drive      Automatic (4-speed)   \n9705                    4.0L I6   Rear-wheel drive      Automatic (4-speed)   \n9756                    4.2L V8   Rear-wheel drive      Automatic (6-speed)   \n9837                2.7L Flat-6   Rear-wheel drive         Manual (6-speed)   \n9856       5.5L Supercharged V8   Rear-wheel drive      Automatic (5-Speed)   \n9864       3.5L Supercharged V6   Rear-wheel drive         Manual (6-speed)   \n9875                    3.0L V6   Rear-wheel drive         Manual (5-speed)   \n9878                1.3L Rotary   Rear-wheel drive         Manual (6-speed)   \n9884                    1.8L i4   Rear-wheel drive         Manual (5-speed)   \n9888     657cc turbocharged I-3   Rear-wheel drive         Manual (5-speed)   \n9896                    5.0L V8   Rear-wheel drive      Automatic (4-Speed)   \n9900                    5.7L V8   Rear-wheel drive      Automatic (4-speed)   \n9901                    4.2L V8            4WD/AWD      Automatic (6-speed)   \n9902                    5.7L V8   Rear-wheel drive      Automatic (4-Speed)   \n9904                    2.5L H4            4WD/AWD         Manual (6-speed)   \n9906                    1.6L I4   Rear-wheel drive         Manual (5-Speed)   \n9907                    4.3L V8   Rear-wheel drive         Manual (6-speed)   \n9910  3.0L twin turbocharged I6   Rear-wheel drive         Manual (6-Speed)   \n9917                    5.7L V8            4WD/AWD      Automatic (8-Speed)   \n9922                    1.8L I4   Rear-wheel drive         Manual (5-Speed)   \n9928                   2.0L I-4            4WD/AWD      Automatic (4-speed)   \n9929                   1.8L I-4   Rear-wheel drive         Manual (5-Speed)   \n9934                3.4L Flat 6   Rear-wheel drive         Manual (6-speed)   \n9937                    1.8L I4   Rear-wheel drive  Manual (5-speed manual)   \n9946                   2.0L I-4   Rear-wheel drive         Manual (6-Speed)   \n9950                    4.7L V8   Rear-wheel drive      Automatic (6-Speed)   \n9953                    6.2L V8            4WD/AWD      Automatic (7-speed)   \n9954             6.2L Diesel V8            4WD/AWD      Automatic (3-speed)   \n9956       4.0L Supercharged V8   Rear-wheel drive      Automatic (5-speed)   \n9957                   5.2L V10            4WD/AWD      Automatic (6-speed)   \n\n      ... bid_count reserve_status num_views              end_datetime  \\\n335   ...        22        Reserve   13021.0 2022-10-28 15:40:00-04:00   \n3166  ...        42     No reserve   10176.0 2022-04-29 13:50:00-04:00   \n3175  ...        55     No reserve   71109.0 2022-04-28 13:29:00-04:00   \n4189  ...        25        Reserve   11713.0 2022-02-10 15:09:00-05:00   \n4281  ...        44        Reserve   14123.0 2022-02-02 15:20:00-05:00   \n4800  ...         7        Reserve   17211.0 2021-12-15 13:30:00-05:00   \n5023  ...        27        Reserve    8483.0 2021-11-26 15:09:00-05:00   \n5099  ...        38     No reserve    8564.0 2021-11-23 13:42:00-05:00   \n5224  ...        21        Reserve    6531.0 2021-11-10 14:43:00-05:00   \n5377  ...        65        Reserve   20812.0 2021-10-29 14:46:00-04:00   \n5727  ...        20     No reserve    7758.0 2021-10-06 16:20:00-04:00   \n5995  ...        39        Reserve   31017.0 2021-09-17 16:36:00-04:00   \n6569  ...        16     No reserve    9816.0 2021-08-04 15:01:00-04:00   \n6596  ...        27        Reserve   10855.0 2021-08-02 14:49:00-04:00   \n6821  ...        28        Reserve   11104.0 2021-07-12 15:18:00-04:00   \n7081  ...        34     No reserve    8464.0 2021-06-21 14:47:00-04:00   \n7656  ...        47        Reserve    9692.0 2021-04-26 16:42:00-04:00   \n8022  ...        40        Reserve   11207.0 2021-03-23 16:37:00-04:00   \n9002  ...        43        Reserve       NaN 2020-11-10 13:15:00-05:00   \n9267  ...        20        Reserve       NaN 2020-10-06 16:25:00-04:00   \n9466  ...        19        Reserve       NaN 2020-09-09 14:02:00-04:00   \n9587  ...         5        Reserve       NaN 2020-08-21 16:30:00-04:00   \n9619  ...        25     No reserve       NaN 2020-08-20 15:00:00-04:00   \n9705  ...        13        Reserve       NaN 2020-08-05 15:30:00-04:00   \n9756  ...        64        Reserve       NaN 2020-07-27 14:43:00-04:00   \n9837  ...        28        Reserve       NaN 2020-07-10 15:00:00-04:00   \n9856  ...        70        Reserve       NaN 2020-07-10 17:22:00-04:00   \n9864  ...        36        Reserve       NaN 2020-07-09 13:02:00-04:00   \n9875  ...        33     No reserve       NaN 2020-07-02 14:31:00-04:00   \n9878  ...        42     No reserve       NaN 2020-07-01 16:02:00-04:00   \n9884  ...        37        Reserve       NaN 2020-07-07 13:05:00-04:00   \n9888  ...        23        Reserve       NaN 2020-06-29 13:00:00-04:00   \n9896  ...        41        Reserve       NaN 2020-06-29 15:21:00-04:00   \n9900  ...        22     No reserve       NaN 2020-06-29 16:02:00-04:00   \n9901  ...        13     No reserve       NaN 2020-06-30 16:45:00-04:00   \n9902  ...        37     No reserve       NaN 2020-07-06 13:57:00-04:00   \n9904  ...        21        Reserve       NaN 2020-07-01 14:30:00-04:00   \n9906  ...        26     No reserve       NaN 2020-07-02 17:31:00-04:00   \n9907  ...        39        Reserve       NaN 2020-07-07 16:06:00-04:00   \n9910  ...        25        Reserve       NaN 2020-07-01 13:45:00-04:00   \n9917  ...        18        Reserve       NaN 2020-06-26 16:04:00-04:00   \n9922  ...        11     No reserve       NaN 2020-07-06 14:30:00-04:00   \n9928  ...        10     No reserve       NaN 2020-06-24 16:00:00-04:00   \n9929  ...        26     No reserve       NaN 2020-06-23 15:00:00-04:00   \n9934  ...        62        Reserve       NaN 2020-06-19 14:11:00-04:00   \n9937  ...        40     No reserve       NaN 2020-06-19 12:09:00-04:00   \n9946  ...        39        Reserve       NaN 2020-06-25 15:04:00-04:00   \n9950  ...        26        Reserve       NaN 2020-06-22 15:00:00-04:00   \n9953  ...        34        Reserve       NaN 2020-06-18 14:00:00-04:00   \n9954  ...        19     No reserve       NaN 2020-06-26 14:00:00-04:00   \n9956  ...        35     No reserve       NaN 2020-06-24 18:02:00-04:00   \n9957  ...        11     No reserve       NaN 2020-06-22 14:00:00-04:00   \n\n     num_photos    ZIP State             City title_location  title_desc  \n335          85  60091    IL         Wilmette            NaN         NaN  \n3166         92  90631    CA         La Habra            NaN         NaN  \n3175         70  90036    CA      Los Angeles            NaN         NaN  \n4189         95  58078    ND       West Fargo            NaN         NaN  \n4281         49  49770    MI         Petoskey            NaN         NaN  \n4800         99  70037    LA     Belle Chasse            NaN         NaN  \n5023         89  29412    SC       Charleston            NaN         NaN  \n5099        142  92121    CA        San Diego            NaN         NaN  \n5224        100  34982    FL      Fort Pierce            NaN         NaN  \n5377         63  97070    OR      Wilsonville            NaN         NaN  \n5727         77  78645    TX          Leander            NaN         NaN  \n5995        114  48178    MI       South Lyon            NaN         NaN  \n6569        109  06870    CT    Old Greenwich            NaN         NaN  \n6596        102  11968    NY      Southampton            NaN         NaN  \n6821        121  67214    KS          Wichita            NaN         NaN  \n7081        108  13459    NY   Sharon Springs            NaN         NaN  \n7656        244  e, FL    no               Se            NaN         NaN  \n8022         98  anada    ,         Toronto,             NaN         NaN  \n9002        101  90630    CA          Cypress            NaN         NaN  \n9267        137  30041    GA          Cumming            NaN         NaN  \n9466         96  60611    IL          Chicago            NaN         NaN  \n9587        113  97501    OR          Medford            NaN         NaN  \n9619        127  06477    CT           Orange            NaN         NaN  \n9705        122  85379    AZ         Surprise            NaN         NaN  \n9756        129  97229    OR         Portland            NaN         NaN  \n9837         87  anada    ,        Victoria,             NaN         NaN  \n9856        155  33431    FL       Boca Raton            NaN         NaN  \n9864         68  75034    TX           Frisco            NaN         NaN  \n9875         60  44303    OH            Akron            NaN         NaN  \n9878         57  94568    CA           Dublin            NaN         NaN  \n9884         53  30024    GA          Suwanee            NaN         NaN  \n9888         72  97035    OR      Lake Oswego            NaN         NaN  \n9896         82  53158    WI  Pleasant Praire            NaN         NaN  \n9900         49  20110    VA         Manassas            NaN         NaN  \n9901         59  anada    ,          Ottawa,             NaN         NaN  \n9902         95  67206    KS          Wichita            NaN         NaN  \n9904         73  06470    CT           Newton            NaN         NaN  \n9906         96  95136    CA         San Jose            NaN         NaN  \n9907         94  37922    TN        Knoxville            NaN         NaN  \n9910        106  87110    NM      Albuquerque            NaN         NaN  \n9917         72  61615    IL           Peoria            NaN         NaN  \n9922         44  97201    OR         Portland            NaN         NaN  \n9928        168  45209    OH       Cincinnati            NaN         NaN  \n9929         75  22003    VA        Annandale            NaN         NaN  \n9934        111  94501    CA          Alameda            NaN         NaN  \n9937         89  80027    CO         Superior            NaN         NaN  \n9946        103  15201    PA       Pittsburgh            NaN         NaN  \n9950        102  33309    FL  Fort Lauderdale            NaN         NaN  \n9953        107  60459    IL          Burbank            NaN         NaN  \n9954         53  62732    MO        Altenburg            NaN         NaN  \n9956         88  93405    CA  San Luis Obispo            NaN         NaN  \n9957        126  43016    OH           Dublin            NaN         NaN  \n\n[52 rows x 29 columns]",
      "text/html": "<div>\n<style scoped>\n    .dataframe tbody tr th:only-of-type {\n        vertical-align: middle;\n    }\n\n    .dataframe tbody tr th {\n        vertical-align: top;\n    }\n\n    .dataframe thead th {\n        text-align: right;\n    }\n</style>\n<table border=\"1\" class=\"dataframe\">\n  <thead>\n    <tr style=\"text-align: right;\">\n      <th></th>\n      <th>Make</th>\n      <th>Model</th>\n      <th>Mileage</th>\n      <th>VIN</th>\n      <th>Title Status</th>\n      <th>Location</th>\n      <th>Seller</th>\n      <th>Engine</th>\n      <th>Drivetrain</th>\n      <th>Transmission</th>\n      <th>...</th>\n      <th>bid_count</th>\n      <th>reserve_status</th>\n      <th>num_views</th>\n      <th>end_datetime</th>\n      <th>num_photos</th>\n      <th>ZIP</th>\n      <th>State</th>\n      <th>City</th>\n      <th>title_location</th>\n      <th>title_desc</th>\n    </tr>\n  </thead>\n  <tbody>\n    <tr>\n      <th>335</th>\n      <td>Chevrolet</td>\n      <td>Camaro</td>\n      <td>TMU - No odometer</td>\n      <td>2012 #55</td>\n      <td>No Title</td>\n      <td>Wilmette, IL 60091</td>\n      <td>LittleCash</td>\n      <td>5.3L Supercharged V8</td>\n      <td>Rear-wheel drive</td>\n      <td>Automatic (2-Speed)</td>\n      <td>...</td>\n      <td>22</td>\n      <td>Reserve</td>\n      <td>13021.0</td>\n      <td>2022-10-28 15:40:00-04:00</td>\n      <td>85</td>\n      <td>60091</td>\n      <td>IL</td>\n      <td>Wilmette</td>\n      <td>NaN</td>\n      <td>NaN</td>\n    </tr>\n    <tr>\n      <th>3166</th>\n      <td>Suspensions Unlimited</td>\n      <td>Sand Pro 2</td>\n      <td>No Odometer - TMU</td>\n      <td>NaN</td>\n      <td>Bill of Sale</td>\n      <td>La Habra, CA 90631</td>\n      <td>brad87s</td>\n      <td>3.5L Turbocharged V6</td>\n      <td>Rear-wheel drive</td>\n      <td>Manual (4-Speed)</td>\n      <td>...</td>\n      <td>42</td>\n      <td>No reserve</td>\n      <td>10176.0</td>\n      <td>2022-04-29 13:50:00-04:00</td>\n      <td>92</td>\n      <td>90631</td>\n      <td>CA</td>\n      <td>La Habra</td>\n      <td>NaN</td>\n      <td>NaN</td>\n    </tr>\n    <tr>\n      <th>3175</th>\n      <td>Smart</td>\n      <td>Crossblade</td>\n      <td>15900</td>\n      <td>WME01MC012H095579</td>\n      <td>No Title</td>\n      <td>Los Angeles, CA 90036</td>\n      <td>PeteAutoMuseum</td>\n      <td>0.6L Turbocharged I3</td>\n      <td>Rear-wheel drive</td>\n      <td>Automatic (6-Speed)</td>\n      <td>...</td>\n      <td>55</td>\n      <td>No reserve</td>\n      <td>71109.0</td>\n      <td>2022-04-28 13:29:00-04:00</td>\n      <td>70</td>\n      <td>90036</td>\n      <td>CA</td>\n      <td>Los Angeles</td>\n      <td>NaN</td>\n      <td>NaN</td>\n    </tr>\n    <tr>\n      <th>4189</th>\n      <td>Toyota</td>\n      <td>Land Cruiser</td>\n      <td>113500</td>\n      <td>JT3DJ81W0S0096266</td>\n      <td>Clean</td>\n      <td>West Fargo, ND 58078</td>\n      <td>Dangler</td>\n      <td>4.5L I6</td>\n      <td>4WD/AWD</td>\n      <td>Automatic (4-Speed)</td>\n      <td>...</td>\n      <td>25</td>\n      <td>Reserve</td>\n      <td>11713.0</td>\n      <td>2022-02-10 15:09:00-05:00</td>\n      <td>95</td>\n      <td>58078</td>\n      <td>ND</td>\n      <td>West Fargo</td>\n      <td>NaN</td>\n      <td>NaN</td>\n    </tr>\n    <tr>\n      <th>4281</th>\n      <td>Ford</td>\n      <td>Mustang Mach-E</td>\n      <td>75</td>\n      <td>3FMTK4SE6MME03373</td>\n      <td>Never Titled</td>\n      <td>Petoskey, MI 49770</td>\n      <td>mfalma</td>\n      <td>Dual Electric Motors</td>\n      <td>4WD/AWD</td>\n      <td>Automatic</td>\n      <td>...</td>\n      <td>44</td>\n      <td>Reserve</td>\n      <td>14123.0</td>\n      <td>2022-02-02 15:20:00-05:00</td>\n      <td>49</td>\n      <td>49770</td>\n      <td>MI</td>\n      <td>Petoskey</td>\n      <td>NaN</td>\n      <td>NaN</td>\n    </tr>\n    <tr>\n      <th>4800</th>\n      <td>AC</td>\n      <td>3000ME</td>\n      <td>3800 Miles Shown - TMU</td>\n      <td>ME301RE0000186000</td>\n      <td>AL Registration</td>\n      <td>Belle Chasse, LA 70037</td>\n      <td>bgravolet</td>\n      <td>3.0L V6</td>\n      <td>Rear-wheel drive</td>\n      <td>Manual (5-Speed)</td>\n      <td>...</td>\n      <td>7</td>\n      <td>Reserve</td>\n      <td>17211.0</td>\n      <td>2021-12-15 13:30:00-05:00</td>\n      <td>99</td>\n      <td>70037</td>\n      <td>LA</td>\n      <td>Belle Chasse</td>\n      <td>NaN</td>\n      <td>NaN</td>\n    </tr>\n    <tr>\n      <th>5023</th>\n      <td>Porsche</td>\n      <td>Macan</td>\n      <td>47000</td>\n      <td>WP1AF2A51FLB48351</td>\n      <td>Clean</td>\n      <td>Charleston, SC 29412</td>\n      <td>n8naylor</td>\n      <td>3.6L Turbocharged V6</td>\n      <td>4WD/AWD</td>\n      <td>Automatic (7-Speed)</td>\n      <td>...</td>\n      <td>27</td>\n      <td>Reserve</td>\n      <td>8483.0</td>\n      <td>2021-11-26 15:09:00-05:00</td>\n      <td>89</td>\n      <td>29412</td>\n      <td>SC</td>\n      <td>Charleston</td>\n      <td>NaN</td>\n      <td>NaN</td>\n    </tr>\n    <tr>\n      <th>5099</th>\n      <td>Mazda</td>\n      <td>Mazdaspeed 3</td>\n      <td>100900</td>\n      <td>JM1BK34M271628938</td>\n      <td>Clean</td>\n      <td>San Diego, CA 92121</td>\n      <td>sassafras1232</td>\n      <td>2.3L Turbocharged I4</td>\n      <td>Front-wheel drive</td>\n      <td>Manual (6-Speed)</td>\n      <td>...</td>\n      <td>38</td>\n      <td>No reserve</td>\n      <td>8564.0</td>\n      <td>2021-11-23 13:42:00-05:00</td>\n      <td>142</td>\n      <td>92121</td>\n      <td>CA</td>\n      <td>San Diego</td>\n      <td>NaN</td>\n      <td>NaN</td>\n    </tr>\n    <tr>\n      <th>5224</th>\n      <td>BMW</td>\n      <td>M3</td>\n      <td>140400</td>\n      <td>WBSBR93452EX23469</td>\n      <td>Clean</td>\n      <td>Fort Pierce, FL 34982</td>\n      <td>edgarcia</td>\n      <td>3.2L I6</td>\n      <td>Rear-wheel drive</td>\n      <td>Manual (6-Speed)</td>\n      <td>...</td>\n      <td>21</td>\n      <td>Reserve</td>\n      <td>6531.0</td>\n      <td>2021-11-10 14:43:00-05:00</td>\n      <td>100</td>\n      <td>34982</td>\n      <td>FL</td>\n      <td>Fort Pierce</td>\n      <td>NaN</td>\n      <td>NaN</td>\n    </tr>\n    <tr>\n      <th>5377</th>\n      <td>Freightliner</td>\n      <td>Sprinter</td>\n      <td>25</td>\n      <td>W2W4EBVY9MT055538</td>\n      <td>Never Titled - MSO</td>\n      <td>Wilsonville, OR 97070</td>\n      <td>OutNUpfitters</td>\n      <td>3.0L Turbodiesel V6</td>\n      <td>4WD/AWD</td>\n      <td>Automatic (7-Speed)</td>\n      <td>...</td>\n      <td>65</td>\n      <td>Reserve</td>\n      <td>20812.0</td>\n      <td>2021-10-29 14:46:00-04:00</td>\n      <td>63</td>\n      <td>97070</td>\n      <td>OR</td>\n      <td>Wilsonville</td>\n      <td>NaN</td>\n      <td>NaN</td>\n    </tr>\n    <tr>\n      <th>5727</th>\n      <td>Jaguar</td>\n      <td>XJR</td>\n      <td>90500</td>\n      <td>SAJWA73BX4TG17489</td>\n      <td>Clean</td>\n      <td>Leander, TX 78645</td>\n      <td>washmaster</td>\n      <td>4.2L Supercharged V8</td>\n      <td>Rear-wheel drive</td>\n      <td>Automatic (6-Speed)</td>\n      <td>...</td>\n      <td>20</td>\n      <td>No reserve</td>\n      <td>7758.0</td>\n      <td>2021-10-06 16:20:00-04:00</td>\n      <td>77</td>\n      <td>78645</td>\n      <td>TX</td>\n      <td>Leander</td>\n      <td>NaN</td>\n      <td>NaN</td>\n    </tr>\n    <tr>\n      <th>5995</th>\n      <td>Ford</td>\n      <td>Thunderbird</td>\n      <td>No odometer</td>\n      <td>None</td>\n      <td>No title</td>\n      <td>South Lyon, MI 48178</td>\n      <td>RJMO</td>\n      <td>5.9L V8</td>\n      <td>Rear-wheel drive</td>\n      <td>Manual (4-Speed)</td>\n      <td>...</td>\n      <td>39</td>\n      <td>Reserve</td>\n      <td>31017.0</td>\n      <td>2021-09-17 16:36:00-04:00</td>\n      <td>114</td>\n      <td>48178</td>\n      <td>MI</td>\n      <td>South Lyon</td>\n      <td>NaN</td>\n      <td>NaN</td>\n    </tr>\n    <tr>\n      <th>6569</th>\n      <td>Mercedes-Benz</td>\n      <td>300TD</td>\n      <td>262000</td>\n      <td>WDB1231901F057061</td>\n      <td>CT Registration</td>\n      <td>Old Greenwich, CT 06870</td>\n      <td>SGato</td>\n      <td>3.0L I5</td>\n      <td>Rear-wheel drive</td>\n      <td>Manual (5-Speed)</td>\n      <td>...</td>\n      <td>16</td>\n      <td>No reserve</td>\n      <td>9816.0</td>\n      <td>2021-08-04 15:01:00-04:00</td>\n      <td>109</td>\n      <td>06870</td>\n      <td>CT</td>\n      <td>Old Greenwich</td>\n      <td>NaN</td>\n      <td>NaN</td>\n    </tr>\n    <tr>\n      <th>6596</th>\n      <td>Jaguar</td>\n      <td>F-Type</td>\n      <td>5400</td>\n      <td>SAJWJ6DL0GMK27756</td>\n      <td>Clean</td>\n      <td>Southampton, NY 11968</td>\n      <td>bmin00</td>\n      <td>5.0L Supercharged V8</td>\n      <td>4WD/AWD</td>\n      <td>Automatic (8-Speed)</td>\n      <td>...</td>\n      <td>27</td>\n      <td>Reserve</td>\n      <td>10855.0</td>\n      <td>2021-08-02 14:49:00-04:00</td>\n      <td>102</td>\n      <td>11968</td>\n      <td>NY</td>\n      <td>Southampton</td>\n      <td>NaN</td>\n      <td>NaN</td>\n    </tr>\n    <tr>\n      <th>6821</th>\n      <td>Maserati</td>\n      <td>GranTurismo</td>\n      <td>1100</td>\n      <td>ZAM45VMA6J0295489</td>\n      <td>Clean</td>\n      <td>Wichita, KS 67214</td>\n      <td>Autobob</td>\n      <td>4.7L V8</td>\n      <td>Rear-wheel drive</td>\n      <td>Automatic (6-Speed)</td>\n      <td>...</td>\n      <td>28</td>\n      <td>Reserve</td>\n      <td>11104.0</td>\n      <td>2021-07-12 15:18:00-04:00</td>\n      <td>121</td>\n      <td>67214</td>\n      <td>KS</td>\n      <td>Wichita</td>\n      <td>NaN</td>\n      <td>NaN</td>\n    </tr>\n    <tr>\n      <th>7081</th>\n      <td>Cadillac</td>\n      <td>Allante</td>\n      <td>42400</td>\n      <td>1G6VS3382MU126705</td>\n      <td>Clean</td>\n      <td>Sharon Springs, NY 13459</td>\n      <td>salpal</td>\n      <td>4.5L V8</td>\n      <td>Front-wheel drive</td>\n      <td>Automatic (4-Speed)</td>\n      <td>...</td>\n      <td>34</td>\n      <td>No reserve</td>\n      <td>8464.0</td>\n      <td>2021-06-21 14:47:00-04:00</td>\n      <td>108</td>\n      <td>13459</td>\n      <td>NY</td>\n      <td>Sharon Springs</td>\n      <td>NaN</td>\n      <td>NaN</td>\n    </tr>\n    <tr>\n      <th>7656</th>\n      <td>Jaguar</td>\n      <td>XJL</td>\n      <td>78900</td>\n      <td>SAJWA2JC3BMV12179</td>\n      <td>Clean</td>\n      <td>Seminole, FL</td>\n      <td>mcjagger</td>\n      <td>5.0L Supercharged V8</td>\n      <td>Rear-wheel drive</td>\n      <td>Automatic (6-Speed)</td>\n      <td>...</td>\n      <td>47</td>\n      <td>Reserve</td>\n      <td>9692.0</td>\n      <td>2021-04-26 16:42:00-04:00</td>\n      <td>244</td>\n      <td>e, FL</td>\n      <td>no</td>\n      <td>Se</td>\n      <td>NaN</td>\n      <td>NaN</td>\n    </tr>\n    <tr>\n      <th>8022</th>\n      <td>Ford</td>\n      <td>F-150 Raptor</td>\n      <td>56200</td>\n      <td>1FTFW1R61CFB48200</td>\n      <td>Clean</td>\n      <td>Toronto, ON, Canada</td>\n      <td>kerrytoronto</td>\n      <td>6.2L V8</td>\n      <td>4WD/AWD</td>\n      <td>Automatic (6-Speed)</td>\n      <td>...</td>\n      <td>40</td>\n      <td>Reserve</td>\n      <td>11207.0</td>\n      <td>2021-03-23 16:37:00-04:00</td>\n      <td>98</td>\n      <td>anada</td>\n      <td>,</td>\n      <td>Toronto,</td>\n      <td>NaN</td>\n      <td>NaN</td>\n    </tr>\n    <tr>\n      <th>9002</th>\n      <td>Acura</td>\n      <td>NSX</td>\n      <td>47500</td>\n      <td>NA1-1200258</td>\n      <td>Import/Transfer Documentation</td>\n      <td>Cypress, CA 90630</td>\n      <td>TopRankImporters</td>\n      <td>3.0L V6</td>\n      <td>Rear-wheel drive</td>\n      <td>Manual (5-Speed)</td>\n      <td>...</td>\n      <td>43</td>\n      <td>Reserve</td>\n      <td>NaN</td>\n      <td>2020-11-10 13:15:00-05:00</td>\n      <td>101</td>\n      <td>90630</td>\n      <td>CA</td>\n      <td>Cypress</td>\n      <td>NaN</td>\n      <td>NaN</td>\n    </tr>\n    <tr>\n      <th>9267</th>\n      <td>Toyota</td>\n      <td>Land Cruiser</td>\n      <td>TMU</td>\n      <td>FJ61000747</td>\n      <td>Registered in GA</td>\n      <td>Cumming, GA 30041</td>\n      <td>ATL_JDM</td>\n      <td>4.2L I6</td>\n      <td>4WD/AWD</td>\n      <td>Manual (4-Speed)</td>\n      <td>...</td>\n      <td>20</td>\n      <td>Reserve</td>\n      <td>NaN</td>\n      <td>2020-10-06 16:25:00-04:00</td>\n      <td>137</td>\n      <td>30041</td>\n      <td>GA</td>\n      <td>Cumming</td>\n      <td>NaN</td>\n      <td>NaN</td>\n    </tr>\n    <tr>\n      <th>9466</th>\n      <td>Radical</td>\n      <td>Prosport</td>\n      <td>TMU</td>\n      <td>N/A - Race Car</td>\n      <td>Bill of Sale - Race Car</td>\n      <td>Chicago, IL 60611</td>\n      <td>Gingerman</td>\n      <td>1.3L I4</td>\n      <td>Rear-wheel drive</td>\n      <td>Manual (6-speed)</td>\n      <td>...</td>\n      <td>19</td>\n      <td>Reserve</td>\n      <td>NaN</td>\n      <td>2020-09-09 14:02:00-04:00</td>\n      <td>96</td>\n      <td>60611</td>\n      <td>IL</td>\n      <td>Chicago</td>\n      <td>NaN</td>\n      <td>NaN</td>\n    </tr>\n    <tr>\n      <th>9587</th>\n      <td>Ford</td>\n      <td>Mustang</td>\n      <td>24800</td>\n      <td>1ZVBP8CU3D5267348</td>\n      <td>Clean</td>\n      <td>Medford, OR 97501</td>\n      <td>jameskristich</td>\n      <td>5.0L V8</td>\n      <td>Rear-wheel drive</td>\n      <td>Manual (6-speed)</td>\n      <td>...</td>\n      <td>5</td>\n      <td>Reserve</td>\n      <td>NaN</td>\n      <td>2020-08-21 16:30:00-04:00</td>\n      <td>113</td>\n      <td>97501</td>\n      <td>OR</td>\n      <td>Medford</td>\n      <td>NaN</td>\n      <td>NaN</td>\n    </tr>\n    <tr>\n      <th>9619</th>\n      <td>Mercedes-Benz</td>\n      <td>E320</td>\n      <td>139900</td>\n      <td>WDBEA92E3SF306415</td>\n      <td>CT Registration</td>\n      <td>Orange, CT 06477</td>\n      <td>nnapoliMB70</td>\n      <td>3.2 I6</td>\n      <td>Rear-wheel drive</td>\n      <td>Automatic (4-speed)</td>\n      <td>...</td>\n      <td>25</td>\n      <td>No reserve</td>\n      <td>NaN</td>\n      <td>2020-08-20 15:00:00-04:00</td>\n      <td>127</td>\n      <td>06477</td>\n      <td>CT</td>\n      <td>Orange</td>\n      <td>NaN</td>\n      <td>NaN</td>\n    </tr>\n    <tr>\n      <th>9705</th>\n      <td>Jaguar</td>\n      <td>XJ</td>\n      <td>39300</td>\n      <td>SAJHY1745MC640589</td>\n      <td>Clean</td>\n      <td>Surprise, AZ 85379</td>\n      <td>jagman23</td>\n      <td>4.0L I6</td>\n      <td>Rear-wheel drive</td>\n      <td>Automatic (4-speed)</td>\n      <td>...</td>\n      <td>13</td>\n      <td>Reserve</td>\n      <td>NaN</td>\n      <td>2020-08-05 15:30:00-04:00</td>\n      <td>122</td>\n      <td>85379</td>\n      <td>AZ</td>\n      <td>Surprise</td>\n      <td>NaN</td>\n      <td>NaN</td>\n    </tr>\n    <tr>\n      <th>9756</th>\n      <td>Maserati</td>\n      <td>Coupe</td>\n      <td>20650</td>\n      <td>ZAMBC38A150017309</td>\n      <td>Clean</td>\n      <td>Portland, OR 97229</td>\n      <td>cbgohil</td>\n      <td>4.2L V8</td>\n      <td>Rear-wheel drive</td>\n      <td>Automatic (6-speed)</td>\n      <td>...</td>\n      <td>64</td>\n      <td>Reserve</td>\n      <td>NaN</td>\n      <td>2020-07-27 14:43:00-04:00</td>\n      <td>129</td>\n      <td>97229</td>\n      <td>OR</td>\n      <td>Portland</td>\n      <td>NaN</td>\n      <td>NaN</td>\n    </tr>\n    <tr>\n      <th>9837</th>\n      <td>Porsche</td>\n      <td>Cayman</td>\n      <td>105600</td>\n      <td>WP0AA2A83EK170494</td>\n      <td>Clean</td>\n      <td>Victoria, BC, Canada</td>\n      <td>dr_nick</td>\n      <td>2.7L Flat-6</td>\n      <td>Rear-wheel drive</td>\n      <td>Manual (6-speed)</td>\n      <td>...</td>\n      <td>28</td>\n      <td>Reserve</td>\n      <td>NaN</td>\n      <td>2020-07-10 15:00:00-04:00</td>\n      <td>87</td>\n      <td>anada</td>\n      <td>,</td>\n      <td>Victoria,</td>\n      <td>NaN</td>\n      <td>NaN</td>\n    </tr>\n    <tr>\n      <th>9856</th>\n      <td>Mercedes-Benz</td>\n      <td>SL55 AMG</td>\n      <td>38200</td>\n      <td>WDBSK74F64F074454</td>\n      <td>Clean</td>\n      <td>Boca Raton, FL 33431</td>\n      <td>sssdisco</td>\n      <td>5.5L Supercharged V8</td>\n      <td>Rear-wheel drive</td>\n      <td>Automatic (5-Speed)</td>\n      <td>...</td>\n      <td>70</td>\n      <td>Reserve</td>\n      <td>NaN</td>\n      <td>2020-07-10 17:22:00-04:00</td>\n      <td>155</td>\n      <td>33431</td>\n      <td>FL</td>\n      <td>Boca Raton</td>\n      <td>NaN</td>\n      <td>NaN</td>\n    </tr>\n    <tr>\n      <th>9864</th>\n      <td>Lotus</td>\n      <td>Evora</td>\n      <td>7500</td>\n      <td>SCCLMDVNXJHA10486</td>\n      <td>Clean</td>\n      <td>Frisco, TX 75034</td>\n      <td>Tye_bo</td>\n      <td>3.5L Supercharged V6</td>\n      <td>Rear-wheel drive</td>\n      <td>Manual (6-speed)</td>\n      <td>...</td>\n      <td>36</td>\n      <td>Reserve</td>\n      <td>NaN</td>\n      <td>2020-07-09 13:02:00-04:00</td>\n      <td>68</td>\n      <td>75034</td>\n      <td>TX</td>\n      <td>Frisco</td>\n      <td>NaN</td>\n      <td>NaN</td>\n    </tr>\n    <tr>\n      <th>9875</th>\n      <td>Datsun</td>\n      <td>300ZX</td>\n      <td>92700</td>\n      <td>JN1HZ14S2EX032508</td>\n      <td>Clean</td>\n      <td>Akron, OH 44303</td>\n      <td>Junkman</td>\n      <td>3.0L V6</td>\n      <td>Rear-wheel drive</td>\n      <td>Manual (5-speed)</td>\n      <td>...</td>\n      <td>33</td>\n      <td>No reserve</td>\n      <td>NaN</td>\n      <td>2020-07-02 14:31:00-04:00</td>\n      <td>60</td>\n      <td>44303</td>\n      <td>OH</td>\n      <td>Akron</td>\n      <td>NaN</td>\n      <td>NaN</td>\n    </tr>\n    <tr>\n      <th>9878</th>\n      <td>Mazda</td>\n      <td>RX-8</td>\n      <td>73857</td>\n      <td>JM1FE173750161146</td>\n      <td>Clean</td>\n      <td>Dublin, CA 94568</td>\n      <td>rx8_gt</td>\n      <td>1.3L Rotary</td>\n      <td>Rear-wheel drive</td>\n      <td>Manual (6-speed)</td>\n      <td>...</td>\n      <td>42</td>\n      <td>No reserve</td>\n      <td>NaN</td>\n      <td>2020-07-01 16:02:00-04:00</td>\n      <td>57</td>\n      <td>94568</td>\n      <td>CA</td>\n      <td>Dublin</td>\n      <td>NaN</td>\n      <td>NaN</td>\n    </tr>\n    <tr>\n      <th>9884</th>\n      <td>Exomotive</td>\n      <td>Exocet</td>\n      <td>97000</td>\n      <td>GA680706</td>\n      <td>Clean</td>\n      <td>Suwanee, GA 30024</td>\n      <td>jhodgson</td>\n      <td>1.8L i4</td>\n      <td>Rear-wheel drive</td>\n      <td>Manual (5-speed)</td>\n      <td>...</td>\n      <td>37</td>\n      <td>Reserve</td>\n      <td>NaN</td>\n      <td>2020-07-07 13:05:00-04:00</td>\n      <td>53</td>\n      <td>30024</td>\n      <td>GA</td>\n      <td>Suwanee</td>\n      <td>NaN</td>\n      <td>NaN</td>\n    </tr>\n    <tr>\n      <th>9888</th>\n      <td>Suzuki</td>\n      <td>Cappuccino</td>\n      <td>77519</td>\n      <td>EA11R121601</td>\n      <td>Clean</td>\n      <td>Lake Oswego, OR 97035</td>\n      <td>LegendaryDivers</td>\n      <td>657cc turbocharged I-3</td>\n      <td>Rear-wheel drive</td>\n      <td>Manual (5-speed)</td>\n      <td>...</td>\n      <td>23</td>\n      <td>Reserve</td>\n      <td>NaN</td>\n      <td>2020-06-29 13:00:00-04:00</td>\n      <td>72</td>\n      <td>97035</td>\n      <td>OR</td>\n      <td>Lake Oswego</td>\n      <td>NaN</td>\n      <td>NaN</td>\n    </tr>\n    <tr>\n      <th>9896</th>\n      <td>Mercedes-Benz</td>\n      <td>SL500</td>\n      <td>81550</td>\n      <td>WDBFA67E8SF115696</td>\n      <td>Clean</td>\n      <td>Pleasant Praire, WI 53158</td>\n      <td>JMO597</td>\n      <td>5.0L V8</td>\n      <td>Rear-wheel drive</td>\n      <td>Automatic (4-Speed)</td>\n      <td>...</td>\n      <td>41</td>\n      <td>Reserve</td>\n      <td>NaN</td>\n      <td>2020-06-29 15:21:00-04:00</td>\n      <td>82</td>\n      <td>53158</td>\n      <td>WI</td>\n      <td>Pleasant Praire</td>\n      <td>NaN</td>\n      <td>NaN</td>\n    </tr>\n    <tr>\n      <th>9900</th>\n      <td>Pontiac</td>\n      <td>Firebird</td>\n      <td>105000</td>\n      <td>1G2FS2181HL224039</td>\n      <td>Clean</td>\n      <td>Manassas, VA 20110</td>\n      <td>87Firebird</td>\n      <td>5.7L V8</td>\n      <td>Rear-wheel drive</td>\n      <td>Automatic (4-speed)</td>\n      <td>...</td>\n      <td>22</td>\n      <td>No reserve</td>\n      <td>NaN</td>\n      <td>2020-06-29 16:02:00-04:00</td>\n      <td>49</td>\n      <td>20110</td>\n      <td>VA</td>\n      <td>Manassas</td>\n      <td>NaN</td>\n      <td>NaN</td>\n    </tr>\n    <tr>\n      <th>9901</th>\n      <td>Volkswagen</td>\n      <td>Phaeton</td>\n      <td>150300</td>\n      <td>WVWAF63DX48008358</td>\n      <td>Clean</td>\n      <td>Ottawa, ON, Canada</td>\n      <td>Josh19</td>\n      <td>4.2L V8</td>\n      <td>4WD/AWD</td>\n      <td>Automatic (6-speed)</td>\n      <td>...</td>\n      <td>13</td>\n      <td>No reserve</td>\n      <td>NaN</td>\n      <td>2020-06-30 16:45:00-04:00</td>\n      <td>59</td>\n      <td>anada</td>\n      <td>,</td>\n      <td>Ottawa,</td>\n      <td>NaN</td>\n      <td>NaN</td>\n    </tr>\n    <tr>\n      <th>9902</th>\n      <td>Chevrolet</td>\n      <td>Camaro</td>\n      <td>83441</td>\n      <td>2G1FP22P1P2110312</td>\n      <td>Clean</td>\n      <td>Wichita, KS 67206</td>\n      <td>HooviesGarage</td>\n      <td>5.7L V8</td>\n      <td>Rear-wheel drive</td>\n      <td>Automatic (4-Speed)</td>\n      <td>...</td>\n      <td>37</td>\n      <td>No reserve</td>\n      <td>NaN</td>\n      <td>2020-07-06 13:57:00-04:00</td>\n      <td>95</td>\n      <td>67206</td>\n      <td>KS</td>\n      <td>Wichita</td>\n      <td>NaN</td>\n      <td>NaN</td>\n    </tr>\n    <tr>\n      <th>9904</th>\n      <td>Subaru</td>\n      <td>WRX STI</td>\n      <td>77600</td>\n      <td>JF1GR89619L806764</td>\n      <td>Clean</td>\n      <td>Newton, CT 06470</td>\n      <td>TonySnark</td>\n      <td>2.5L H4</td>\n      <td>4WD/AWD</td>\n      <td>Manual (6-speed)</td>\n      <td>...</td>\n      <td>21</td>\n      <td>Reserve</td>\n      <td>NaN</td>\n      <td>2020-07-01 14:30:00-04:00</td>\n      <td>73</td>\n      <td>06470</td>\n      <td>CT</td>\n      <td>Newton</td>\n      <td>NaN</td>\n      <td>NaN</td>\n    </tr>\n    <tr>\n      <th>9906</th>\n      <td>Mazda</td>\n      <td>MX-5 Miata</td>\n      <td>84739</td>\n      <td>JM1NA3516M0224367</td>\n      <td>Clean</td>\n      <td>San Jose, CA 95136</td>\n      <td>npx629</td>\n      <td>1.6L I4</td>\n      <td>Rear-wheel drive</td>\n      <td>Manual (5-Speed)</td>\n      <td>...</td>\n      <td>26</td>\n      <td>No reserve</td>\n      <td>NaN</td>\n      <td>2020-07-02 17:31:00-04:00</td>\n      <td>96</td>\n      <td>95136</td>\n      <td>CA</td>\n      <td>San Jose</td>\n      <td>NaN</td>\n      <td>NaN</td>\n    </tr>\n    <tr>\n      <th>9907</th>\n      <td>Aston Martin</td>\n      <td>V8 Vantage</td>\n      <td>56500</td>\n      <td>SCFBB03B66GC01664</td>\n      <td>Clean</td>\n      <td>Knoxville, TN 37922</td>\n      <td>Spidey1</td>\n      <td>4.3L V8</td>\n      <td>Rear-wheel drive</td>\n      <td>Manual (6-speed)</td>\n      <td>...</td>\n      <td>39</td>\n      <td>Reserve</td>\n      <td>NaN</td>\n      <td>2020-07-07 16:06:00-04:00</td>\n      <td>94</td>\n      <td>37922</td>\n      <td>TN</td>\n      <td>Knoxville</td>\n      <td>NaN</td>\n      <td>NaN</td>\n    </tr>\n    <tr>\n      <th>9910</th>\n      <td>BMW</td>\n      <td>M2</td>\n      <td>4900</td>\n      <td>WBS2U7C52KVJ07658</td>\n      <td>Clean</td>\n      <td>Albuquerque, NM 87110</td>\n      <td>ABQ_Cars</td>\n      <td>3.0L twin turbocharged I6</td>\n      <td>Rear-wheel drive</td>\n      <td>Manual (6-Speed)</td>\n      <td>...</td>\n      <td>25</td>\n      <td>Reserve</td>\n      <td>NaN</td>\n      <td>2020-07-01 13:45:00-04:00</td>\n      <td>106</td>\n      <td>87110</td>\n      <td>NM</td>\n      <td>Albuquerque</td>\n      <td>NaN</td>\n      <td>NaN</td>\n    </tr>\n    <tr>\n      <th>9917</th>\n      <td>Toyota</td>\n      <td>Land Cruiser</td>\n      <td>42885</td>\n      <td>JTMCY7AJ0G4045318</td>\n      <td>Clean</td>\n      <td>Peoria, IL 61615</td>\n      <td>carl</td>\n      <td>5.7L V8</td>\n      <td>4WD/AWD</td>\n      <td>Automatic (8-Speed)</td>\n      <td>...</td>\n      <td>18</td>\n      <td>Reserve</td>\n      <td>NaN</td>\n      <td>2020-06-26 16:04:00-04:00</td>\n      <td>72</td>\n      <td>61615</td>\n      <td>IL</td>\n      <td>Peoria</td>\n      <td>NaN</td>\n      <td>NaN</td>\n    </tr>\n    <tr>\n      <th>9922</th>\n      <td>Mazda</td>\n      <td>MX-5 Miata</td>\n      <td>34730</td>\n      <td>JM1NB3533X0123127</td>\n      <td>Clean</td>\n      <td>Portland, OR 97201</td>\n      <td>hank</td>\n      <td>1.8L I4</td>\n      <td>Rear-wheel drive</td>\n      <td>Manual (5-Speed)</td>\n      <td>...</td>\n      <td>11</td>\n      <td>No reserve</td>\n      <td>NaN</td>\n      <td>2020-07-06 14:30:00-04:00</td>\n      <td>44</td>\n      <td>97201</td>\n      <td>OR</td>\n      <td>Portland</td>\n      <td>NaN</td>\n      <td>NaN</td>\n    </tr>\n    <tr>\n      <th>9928</th>\n      <td>Toyota</td>\n      <td>RAV4</td>\n      <td>245968</td>\n      <td>JT3HP10V8V7025442</td>\n      <td>Clean</td>\n      <td>Cincinnati, OH 45209</td>\n      <td>The_DJE</td>\n      <td>2.0L I-4</td>\n      <td>4WD/AWD</td>\n      <td>Automatic (4-speed)</td>\n      <td>...</td>\n      <td>10</td>\n      <td>No reserve</td>\n      <td>NaN</td>\n      <td>2020-06-24 16:00:00-04:00</td>\n      <td>168</td>\n      <td>45209</td>\n      <td>OH</td>\n      <td>Cincinnati</td>\n      <td>NaN</td>\n      <td>NaN</td>\n    </tr>\n    <tr>\n      <th>9929</th>\n      <td>Mazda</td>\n      <td>MX-5 Miata</td>\n      <td>46118</td>\n      <td>JM1NB353XX0110438</td>\n      <td>Clean</td>\n      <td>Annandale, VA 22003</td>\n      <td>Steve1985</td>\n      <td>1.8L I-4</td>\n      <td>Rear-wheel drive</td>\n      <td>Manual (5-Speed)</td>\n      <td>...</td>\n      <td>26</td>\n      <td>No reserve</td>\n      <td>NaN</td>\n      <td>2020-06-23 15:00:00-04:00</td>\n      <td>75</td>\n      <td>22003</td>\n      <td>VA</td>\n      <td>Annandale</td>\n      <td>NaN</td>\n      <td>NaN</td>\n    </tr>\n    <tr>\n      <th>9934</th>\n      <td>Porsche</td>\n      <td>Cayman</td>\n      <td>55213</td>\n      <td>WP0AB29857U782155</td>\n      <td>Clean</td>\n      <td>Alameda, CA 94501</td>\n      <td>boggie1688</td>\n      <td>3.4L Flat 6</td>\n      <td>Rear-wheel drive</td>\n      <td>Manual (6-speed)</td>\n      <td>...</td>\n      <td>62</td>\n      <td>Reserve</td>\n      <td>NaN</td>\n      <td>2020-06-19 14:11:00-04:00</td>\n      <td>111</td>\n      <td>94501</td>\n      <td>CA</td>\n      <td>Alameda</td>\n      <td>NaN</td>\n      <td>NaN</td>\n    </tr>\n    <tr>\n      <th>9937</th>\n      <td>Mazda</td>\n      <td>MX-5 Miata</td>\n      <td>111844</td>\n      <td>JM1NA3537V0721057</td>\n      <td>Clean</td>\n      <td>Superior, CO 80027</td>\n      <td>notzak</td>\n      <td>1.8L I4</td>\n      <td>Rear-wheel drive</td>\n      <td>Manual (5-speed manual)</td>\n      <td>...</td>\n      <td>40</td>\n      <td>No reserve</td>\n      <td>NaN</td>\n      <td>2020-06-19 12:09:00-04:00</td>\n      <td>89</td>\n      <td>80027</td>\n      <td>CO</td>\n      <td>Superior</td>\n      <td>NaN</td>\n      <td>NaN</td>\n    </tr>\n    <tr>\n      <th>9946</th>\n      <td>Mazda</td>\n      <td>MX-5 Miata</td>\n      <td>45000</td>\n      <td>JM1NDAL77H0105185</td>\n      <td>Clean</td>\n      <td>Pittsburgh, PA 15201</td>\n      <td>realkiran</td>\n      <td>2.0L I-4</td>\n      <td>Rear-wheel drive</td>\n      <td>Manual (6-Speed)</td>\n      <td>...</td>\n      <td>39</td>\n      <td>Reserve</td>\n      <td>NaN</td>\n      <td>2020-06-25 15:04:00-04:00</td>\n      <td>103</td>\n      <td>15201</td>\n      <td>PA</td>\n      <td>Pittsburgh</td>\n      <td>NaN</td>\n      <td>NaN</td>\n    </tr>\n    <tr>\n      <th>9950</th>\n      <td>Maserati</td>\n      <td>GranTurismo</td>\n      <td>11700</td>\n      <td>ZAM45KLA4B0059571</td>\n      <td>Clean</td>\n      <td>Fort Lauderdale, FL 33309</td>\n      <td>LimitedEditionMotorcars</td>\n      <td>4.7L V8</td>\n      <td>Rear-wheel drive</td>\n      <td>Automatic (6-Speed)</td>\n      <td>...</td>\n      <td>26</td>\n      <td>Reserve</td>\n      <td>NaN</td>\n      <td>2020-06-22 15:00:00-04:00</td>\n      <td>102</td>\n      <td>33309</td>\n      <td>FL</td>\n      <td>Fort Lauderdale</td>\n      <td>NaN</td>\n      <td>NaN</td>\n    </tr>\n    <tr>\n      <th>9953</th>\n      <td>Mercedes-Benz</td>\n      <td>ML63 AMG</td>\n      <td>78248</td>\n      <td>4JGBB77E39A456462</td>\n      <td>Clean</td>\n      <td>Burbank, IL 60459</td>\n      <td>qutaba12</td>\n      <td>6.2L V8</td>\n      <td>4WD/AWD</td>\n      <td>Automatic (7-speed)</td>\n      <td>...</td>\n      <td>34</td>\n      <td>Reserve</td>\n      <td>NaN</td>\n      <td>2020-06-18 14:00:00-04:00</td>\n      <td>107</td>\n      <td>60459</td>\n      <td>IL</td>\n      <td>Burbank</td>\n      <td>NaN</td>\n      <td>NaN</td>\n    </tr>\n    <tr>\n      <th>9954</th>\n      <td>Chevrolet</td>\n      <td>M1028</td>\n      <td>87222</td>\n      <td>1GCHD34J3HF316402</td>\n      <td>Clean</td>\n      <td>Altenburg, MO 62732</td>\n      <td>ablouin1992</td>\n      <td>6.2L Diesel V8</td>\n      <td>4WD/AWD</td>\n      <td>Automatic (3-speed)</td>\n      <td>...</td>\n      <td>19</td>\n      <td>No reserve</td>\n      <td>NaN</td>\n      <td>2020-06-26 14:00:00-04:00</td>\n      <td>53</td>\n      <td>62732</td>\n      <td>MO</td>\n      <td>Altenburg</td>\n      <td>NaN</td>\n      <td>NaN</td>\n    </tr>\n    <tr>\n      <th>9956</th>\n      <td>Jaguar</td>\n      <td>XKR</td>\n      <td>128414</td>\n      <td>SAJDA42B91PA14965</td>\n      <td>Clean</td>\n      <td>San Luis Obispo, CA 93405</td>\n      <td>Perfectphoto</td>\n      <td>4.0L Supercharged V8</td>\n      <td>Rear-wheel drive</td>\n      <td>Automatic (5-speed)</td>\n      <td>...</td>\n      <td>35</td>\n      <td>No reserve</td>\n      <td>NaN</td>\n      <td>2020-06-24 18:02:00-04:00</td>\n      <td>88</td>\n      <td>93405</td>\n      <td>CA</td>\n      <td>San Luis Obispo</td>\n      <td>NaN</td>\n      <td>NaN</td>\n    </tr>\n    <tr>\n      <th>9957</th>\n      <td>Audi</td>\n      <td>S6</td>\n      <td>128885</td>\n      <td>WAUGN74F57N051088</td>\n      <td>Clean</td>\n      <td>Dublin, OH 43016</td>\n      <td>Aktapod</td>\n      <td>5.2L V10</td>\n      <td>4WD/AWD</td>\n      <td>Automatic (6-speed)</td>\n      <td>...</td>\n      <td>11</td>\n      <td>No reserve</td>\n      <td>NaN</td>\n      <td>2020-06-22 14:00:00-04:00</td>\n      <td>126</td>\n      <td>43016</td>\n      <td>OH</td>\n      <td>Dublin</td>\n      <td>NaN</td>\n      <td>NaN</td>\n    </tr>\n  </tbody>\n</table>\n<p>52 rows × 29 columns</p>\n</div>"
     },
     "execution_count": 142,
     "metadata": {},
     "output_type": "execute_result"
    }
   ],
   "source": [
    "cars_df[cars_df[\"title_desc\"].isna()]"
   ],
   "metadata": {
    "collapsed": false
   }
  },
  {
   "cell_type": "code",
   "execution_count": 143,
   "outputs": [
    {
     "data": {
      "text/plain": "CA    1974\nFL     941\nTX     683\nNY     485\nPA     444\n      ... \nur       1\nV,       1\nfi       1\nA,       1\nA        1\nName: State, Length: 91, dtype: int64"
     },
     "execution_count": 143,
     "metadata": {},
     "output_type": "execute_result"
    }
   ],
   "source": [
    "cars_df[\"State\"].value_counts()"
   ],
   "metadata": {
    "collapsed": false
   }
  },
  {
   "cell_type": "code",
   "execution_count": 159,
   "outputs": [
    {
     "data": {
      "text/plain": "Private Party                                 7932\nDealer                                        1760\nDealer ($40 Temporary Tag)                      15\nDealer ($40 Temp Tag)                           13\nPrivate Party (Lien on title)                   10\n                                              ... \nDealer ($99 Fee for California Buyers)           1\nDealer (GA Sales Tax + $137 Temporary Tag)       1\nDealer ($99 Document Fee)                        1\nDealer ($250)                                    1\nDealer (Sales Tax & Title Fees)                  1\nName: Seller Type, Length: 166, dtype: int64"
     },
     "execution_count": 159,
     "metadata": {},
     "output_type": "execute_result"
    }
   ],
   "source": [
    "cars_df[\"Seller Type\"].value_counts()"
   ],
   "metadata": {
    "collapsed": false
   }
  },
  {
   "cell_type": "code",
   "execution_count": 179,
   "outputs": [
    {
     "data": {
      "text/plain": "Make                  0\nModel                 0\nMileage               0\nVIN                   1\nTitle Status          0\nLocation              0\nSeller                0\nEngine                0\nDrivetrain            0\nTransmission          0\nBody Style            0\nExterior Color        0\nInterior Color        0\nSeller Type           0\nURL                   0\nid                    0\nyear                  0\nprice                 0\nauction_outcome       0\nbid_count             0\nreserve_status        0\nnum_views          1830\nend_datetime          0\nnum_photos            0\nZIP                   0\nState                 0\nCity                  0\ntitle_location       55\ntitle_desc           52\ndtype: int64"
     },
     "execution_count": 179,
     "metadata": {},
     "output_type": "execute_result"
    }
   ],
   "source": [
    "# cars_df['int_year'] = cars_df[cars_df[\"year\"] != 'consumer'].[\"year\"].astype(int)\n",
    "cars_df.isnull().sum()"
   ],
   "metadata": {
    "collapsed": false
   }
  },
  {
   "cell_type": "markdown",
   "source": [],
   "metadata": {
    "collapsed": false
   }
  },
  {
   "cell_type": "code",
   "execution_count": 180,
   "outputs": [
    {
     "data": {
      "text/plain": "0"
     },
     "execution_count": 180,
     "metadata": {},
     "output_type": "execute_result"
    }
   ],
   "source": [
    "cars_df.duplicated().sum()"
   ],
   "metadata": {
    "collapsed": false
   }
  },
  {
   "cell_type": "code",
   "execution_count": 182,
   "outputs": [
    {
     "data": {
      "text/plain": "BMW                  1734\nMercedes-Benz        1108\nPorsche               767\nFord                  658\nToyota                654\n                     ... \nBackdraft Racing        1\nRace Car Replicas       1\nSkoda                   1\nMEV                     1\nShelby                  1\nName: Make, Length: 112, dtype: int64"
     },
     "execution_count": 182,
     "metadata": {},
     "output_type": "execute_result"
    }
   ],
   "source": [
    "cars_df[\"Make\"].value_counts()"
   ],
   "metadata": {
    "collapsed": false
   }
  },
  {
   "cell_type": "code",
   "execution_count": 183,
   "outputs": [
    {
     "data": {
      "text/plain": "Coupe            2385\nSedan            2339\nSUV/Crossover    1772\nConvertible      1677\nTruck             610\nWagon             573\nHatchback         450\nVan/Minivan       157\nName: Body Style, dtype: int64"
     },
     "execution_count": 183,
     "metadata": {},
     "output_type": "execute_result"
    }
   ],
   "source": [
    "# kNN algorithm to cluster cars then create models from there\n",
    "# regression trees to break the larger set into digestible groups and then create regression models from there\n",
    "# can also try splitting by brand and by body style or both\n",
    "\n",
    "cars_df[\"Body Style\"].value_counts()"
   ],
   "metadata": {
    "collapsed": false
   }
  },
  {
   "cell_type": "code",
   "execution_count": 4,
   "outputs": [
    {
     "data": {
      "text/plain": "Clean (CA)                   1826\nClean (FL)                    866\nClean (TX)                    650\nClean (PA)                    463\nClean (NY)                    443\n                             ... \nLemon Law Repurchase (IL)       1\nNAM (GA)                        1\nNever Titled                    1\nRebuilt (MD)                    1\nClean (SD)                      1\nName: Title Status, Length: 191, dtype: int64"
     },
     "execution_count": 4,
     "metadata": {},
     "output_type": "execute_result"
    }
   ],
   "source": [
    "cars_df[\"Title Status\"].value_counts()"
   ],
   "metadata": {
    "collapsed": false
   }
  },
  {
   "cell_type": "code",
   "execution_count": 5,
   "outputs": [
    {
     "data": {
      "text/plain": "3.0L Turbocharged I6         392\n2.0L Turbocharged I4         351\n5.0L V8                      318\n5.7L V8                      310\n3.2L I6                      283\n                            ... \n2.9L Flat 6                    1\n5.9 Turbodiesel I6             1\n2.5L Turbodiesel Inline-4      1\n 5.0L V12                      1\n6.75 V12                       1\nName: Engine, Length: 569, dtype: int64"
     },
     "execution_count": 5,
     "metadata": {},
     "output_type": "execute_result"
    }
   ],
   "source": [
    "cars_df[\"Engine\"].value_counts()"
   ],
   "metadata": {
    "collapsed": false
   }
  },
  {
   "cell_type": "markdown",
   "source": [],
   "metadata": {
    "collapsed": false
   }
  },
  {
   "cell_type": "code",
   "execution_count": 10,
   "outputs": [
    {
     "data": {
      "text/plain": "2008        461\n2006        436\n2004        412\n2003        388\n2007        384\n2005        376\n2013        366\n2001        359\n2016        350\n2002        338\n2015        327\n2014        323\n2000        318\n2011        311\n2017        310\n2018        277\n1995        273\n2012        263\n1999        250\n1994        236\n2022        229\n2009        228\n1996        227\n2019        219\n2010        211\n1997        201\n1991        187\n2021        183\n1992        176\n2020        167\n1993        161\n1990        159\n1998        157\n1989        117\n1988        115\n1986        107\n1987        106\n1985         74\n1984         56\n1982         43\n1983         42\n1981         27\n2023         12\nconsumer      1\nName: year, dtype: int64"
     },
     "execution_count": 10,
     "metadata": {},
     "output_type": "execute_result"
    }
   ],
   "source": [
    "cars_df[\"year\"].value_counts()"
   ],
   "metadata": {
    "collapsed": false
   }
  },
  {
   "cell_type": "code",
   "execution_count": 20,
   "outputs": [
    {
     "data": {
      "text/plain": "dtype('int64')"
     },
     "execution_count": 20,
     "metadata": {},
     "output_type": "execute_result"
    }
   ],
   "source": [
    "cars_df[\"num_photos\"].dtype"
   ],
   "metadata": {
    "collapsed": false
   }
  },
  {
   "cell_type": "code",
   "execution_count": null,
   "outputs": [],
   "source": [
    "# function to change"
   ],
   "metadata": {
    "collapsed": false
   }
  },
  {
   "cell_type": "code",
   "execution_count": null,
   "outputs": [],
   "source": [],
   "metadata": {
    "collapsed": false
   }
  }
 ],
 "metadata": {
  "kernelspec": {
   "display_name": "Python 3",
   "language": "python",
   "name": "python3"
  },
  "language_info": {
   "codemirror_mode": {
    "name": "ipython",
    "version": 2
   },
   "file_extension": ".py",
   "mimetype": "text/x-python",
   "name": "python",
   "nbconvert_exporter": "python",
   "pygments_lexer": "ipython2",
   "version": "2.7.6"
  }
 },
 "nbformat": 4,
 "nbformat_minor": 0
}
