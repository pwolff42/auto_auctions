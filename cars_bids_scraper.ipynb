{
 "cells": [
  {
   "cell_type": "markdown",
   "source": [
    "python code to scrape past auctions on carsandbids.com"
   ],
   "metadata": {
    "collapsed": false
   }
  },
  {
   "cell_type": "code",
   "execution_count": 1,
   "outputs": [],
   "source": [
    "# importing requisite packages\n",
    "\n",
    "import requests\n",
    "import time\n",
    "import re\n",
    "from bs4 import BeautifulSoup\n",
    "from selenium import webdriver\n",
    "from selenium.webdriver.chrome.service import Service\n",
    "from selenium.common.exceptions import NoSuchElementException\n",
    "from selenium.webdriver.common.by import By\n",
    "\n",
    "import pandas as pd"
   ],
   "metadata": {
    "collapsed": false
   }
  },
  {
   "cell_type": "code",
   "execution_count": null,
   "outputs": [],
   "source": [
    "# homepage link for carsandbids.com\n",
    "cbhome = \"https://carsandbids.com/\""
   ],
   "metadata": {
    "collapsed": false
   }
  },
  {
   "cell_type": "markdown",
   "source": [
    "##### edit the following cell to make sure that selenium knows where your chrome driver is"
   ],
   "metadata": {
    "collapsed": false
   }
  },
  {
   "cell_type": "code",
   "execution_count": 3,
   "outputs": [],
   "source": [
    "# pointing to the browser driver\n",
    "\n",
    "pwolff_path = \"/Users/pww/Applications/chromedriver\"\n",
    "# agaba_path =\n",
    "# scastillo_path =\n",
    "\n",
    "s = Service(pwolff_path) # your driver path goes here"
   ],
   "metadata": {
    "collapsed": false
   }
  },
  {
   "cell_type": "code",
   "execution_count": 4,
   "outputs": [],
   "source": [
    "# xpath verification function\n",
    "\n",
    "def check_exists_by_xpath(xpath):\n",
    "    try:\n",
    "        browser.find_element(By.XPATH,xpath)\n",
    "    except NoSuchElementException:\n",
    "        return False\n",
    "    return True"
   ],
   "metadata": {
    "collapsed": false
   }
  },
  {
   "cell_type": "code",
   "execution_count": 5,
   "outputs": [],
   "source": [
    "# page turner function with 1 second time sleep\n",
    "\n",
    "def flip_page(next_page_button):\n",
    "    next_page_exists = check_exists_by_xpath(next_page_button)\n",
    "    if next_page_exists:\n",
    "        element = browser.find_element(By.XPATH, next_page_button)\n",
    "        browser.execute_script(\"arguments[0].click();\", element)\n",
    "        time.sleep(1)\n",
    "    else:\n",
    "        print(\"no more pages!\")"
   ],
   "metadata": {
    "collapsed": false
   }
  },
  {
   "cell_type": "code",
   "execution_count": null,
   "outputs": [],
   "source": [],
   "metadata": {
    "collapsed": false
   }
  }
 ],
 "metadata": {
  "kernelspec": {
   "display_name": "Python 3",
   "language": "python",
   "name": "python3"
  },
  "language_info": {
   "codemirror_mode": {
    "name": "ipython",
    "version": 2
   },
   "file_extension": ".py",
   "mimetype": "text/x-python",
   "name": "python",
   "nbconvert_exporter": "python",
   "pygments_lexer": "ipython2",
   "version": "2.7.6"
  }
 },
 "nbformat": 4,
 "nbformat_minor": 0
}
